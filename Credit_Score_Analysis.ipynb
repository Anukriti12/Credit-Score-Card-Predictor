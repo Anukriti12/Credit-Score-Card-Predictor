{
  "nbformat": 4,
  "nbformat_minor": 0,
  "metadata": {
    "kernelspec": {
      "display_name": "Python 3",
      "language": "python",
      "name": "python3"
    },
    "language_info": {
      "codemirror_mode": {
        "name": "ipython",
        "version": 3
      },
      "file_extension": ".py",
      "mimetype": "text/x-python",
      "name": "python",
      "nbconvert_exporter": "python",
      "pygments_lexer": "ipython3",
      "version": "3.6.8"
    },
    "colab": {
      "name": "Credit_Score_Analysis.ipynb",
      "provenance": []
    }
  },
  "cells": [
    {
      "cell_type": "code",
      "metadata": {
        "id": "T3UobfwE0lKm"
      },
      "source": [
        ""
      ],
      "execution_count": null,
      "outputs": []
    },
    {
      "cell_type": "code",
      "metadata": {
        "id": "qXwGwWvo0pRA"
      },
      "source": [
        "import pandas as pd\n",
        "import numpy as np\n",
        "import matplotlib.pyplot as plt\n",
        "import sklearn as sklearn\n",
        "import seaborn as sns\n",
        "%matplotlib inline\n",
        "from scipy import stats"
      ],
      "execution_count": 131,
      "outputs": []
    },
    {
      "cell_type": "markdown",
      "metadata": {
        "id": "sUHVMQcg0lKr"
      },
      "source": [
        "# (1) Data Preprocessing"
      ]
    },
    {
      "cell_type": "code",
      "metadata": {
        "id": "igmnX_2s0lKr",
        "outputId": "b637fa4e-517c-43f8-b0cf-fb5073ccfc68",
        "colab": {
          "base_uri": "https://localhost:8080/",
          "height": 194
        }
      },
      "source": [
        "data = pd.read_csv(\"CreditScoring(After_Preprocessing).csv\")\n",
        "data.head()"
      ],
      "execution_count": 132,
      "outputs": [
        {
          "output_type": "execute_result",
          "data": {
            "text/html": [
              "<div>\n",
              "<style scoped>\n",
              "    .dataframe tbody tr th:only-of-type {\n",
              "        vertical-align: middle;\n",
              "    }\n",
              "\n",
              "    .dataframe tbody tr th {\n",
              "        vertical-align: top;\n",
              "    }\n",
              "\n",
              "    .dataframe thead th {\n",
              "        text-align: right;\n",
              "    }\n",
              "</style>\n",
              "<table border=\"1\" class=\"dataframe\">\n",
              "  <thead>\n",
              "    <tr style=\"text-align: right;\">\n",
              "      <th></th>\n",
              "      <th>Status</th>\n",
              "      <th>Seniority</th>\n",
              "      <th>Home</th>\n",
              "      <th>Time</th>\n",
              "      <th>Age</th>\n",
              "      <th>Marital</th>\n",
              "      <th>Records</th>\n",
              "      <th>Job</th>\n",
              "      <th>Expenses</th>\n",
              "      <th>Income</th>\n",
              "      <th>Assets</th>\n",
              "      <th>Debt</th>\n",
              "      <th>Amount</th>\n",
              "      <th>Price</th>\n",
              "      <th>Finrat</th>\n",
              "      <th>Savings</th>\n",
              "    </tr>\n",
              "  </thead>\n",
              "  <tbody>\n",
              "    <tr>\n",
              "      <th>0</th>\n",
              "      <td>good</td>\n",
              "      <td>9</td>\n",
              "      <td>rent</td>\n",
              "      <td>60</td>\n",
              "      <td>30</td>\n",
              "      <td>married</td>\n",
              "      <td>no_rec</td>\n",
              "      <td>freelance</td>\n",
              "      <td>73</td>\n",
              "      <td>129</td>\n",
              "      <td>0</td>\n",
              "      <td>0</td>\n",
              "      <td>800</td>\n",
              "      <td>846</td>\n",
              "      <td>94.562648</td>\n",
              "      <td>4.200000</td>\n",
              "    </tr>\n",
              "    <tr>\n",
              "      <th>1</th>\n",
              "      <td>good</td>\n",
              "      <td>17</td>\n",
              "      <td>rent</td>\n",
              "      <td>60</td>\n",
              "      <td>58</td>\n",
              "      <td>widow</td>\n",
              "      <td>no_rec</td>\n",
              "      <td>fixed</td>\n",
              "      <td>48</td>\n",
              "      <td>131</td>\n",
              "      <td>0</td>\n",
              "      <td>0</td>\n",
              "      <td>1000</td>\n",
              "      <td>1658</td>\n",
              "      <td>60.313631</td>\n",
              "      <td>4.980000</td>\n",
              "    </tr>\n",
              "    <tr>\n",
              "      <th>2</th>\n",
              "      <td>bad</td>\n",
              "      <td>10</td>\n",
              "      <td>owner</td>\n",
              "      <td>36</td>\n",
              "      <td>46</td>\n",
              "      <td>married</td>\n",
              "      <td>yes_rec</td>\n",
              "      <td>freelance</td>\n",
              "      <td>90</td>\n",
              "      <td>200</td>\n",
              "      <td>3000</td>\n",
              "      <td>0</td>\n",
              "      <td>2000</td>\n",
              "      <td>2985</td>\n",
              "      <td>67.001675</td>\n",
              "      <td>1.980000</td>\n",
              "    </tr>\n",
              "    <tr>\n",
              "      <th>3</th>\n",
              "      <td>good</td>\n",
              "      <td>0</td>\n",
              "      <td>rent</td>\n",
              "      <td>60</td>\n",
              "      <td>24</td>\n",
              "      <td>single</td>\n",
              "      <td>no_rec</td>\n",
              "      <td>fixed</td>\n",
              "      <td>63</td>\n",
              "      <td>182</td>\n",
              "      <td>2500</td>\n",
              "      <td>0</td>\n",
              "      <td>900</td>\n",
              "      <td>1325</td>\n",
              "      <td>67.924528</td>\n",
              "      <td>7.933333</td>\n",
              "    </tr>\n",
              "    <tr>\n",
              "      <th>4</th>\n",
              "      <td>good</td>\n",
              "      <td>0</td>\n",
              "      <td>rent</td>\n",
              "      <td>36</td>\n",
              "      <td>26</td>\n",
              "      <td>single</td>\n",
              "      <td>no_rec</td>\n",
              "      <td>fixed</td>\n",
              "      <td>46</td>\n",
              "      <td>107</td>\n",
              "      <td>0</td>\n",
              "      <td>0</td>\n",
              "      <td>310</td>\n",
              "      <td>910</td>\n",
              "      <td>34.065934</td>\n",
              "      <td>7.083871</td>\n",
              "    </tr>\n",
              "  </tbody>\n",
              "</table>\n",
              "</div>"
            ],
            "text/plain": [
              "  Status  Seniority   Home  Time  Age  ... Debt Amount Price     Finrat   Savings\n",
              "0   good          9   rent    60   30  ...    0    800   846  94.562648  4.200000\n",
              "1   good         17   rent    60   58  ...    0   1000  1658  60.313631  4.980000\n",
              "2    bad         10  owner    36   46  ...    0   2000  2985  67.001675  1.980000\n",
              "3   good          0   rent    60   24  ...    0    900  1325  67.924528  7.933333\n",
              "4   good          0   rent    36   26  ...    0    310   910  34.065934  7.083871\n",
              "\n",
              "[5 rows x 16 columns]"
            ]
          },
          "metadata": {
            "tags": []
          },
          "execution_count": 132
        }
      ]
    },
    {
      "cell_type": "code",
      "metadata": {
        "id": "MN7PgeWi0lKx",
        "outputId": "4213a0d6-e381-4df0-cc35-9a1ad6d2d542",
        "colab": {
          "base_uri": "https://localhost:8080/",
          "height": 35
        }
      },
      "source": [
        "## Dataset Dimensions\n",
        "data.shape"
      ],
      "execution_count": 133,
      "outputs": [
        {
          "output_type": "execute_result",
          "data": {
            "text/plain": [
              "(4446, 16)"
            ]
          },
          "metadata": {
            "tags": []
          },
          "execution_count": 133
        }
      ]
    },
    {
      "cell_type": "markdown",
      "metadata": {
        "id": "8Hxchfvh0lKz"
      },
      "source": [
        "### Questions to keep in mind:\n",
        "#### (1) check maximum and minimum values\n",
        "#### (2) check the scale of the variables (categorical, continuous, etc)\n",
        "#### (3) look for outliers, weird values, missing values"
      ]
    },
    {
      "cell_type": "code",
      "metadata": {
        "id": "9dclfAhd0lK1",
        "outputId": "c579f3db-8b03-4c28-dcff-119620de7f25",
        "colab": {
          "base_uri": "https://localhost:8080/",
          "height": 319
        }
      },
      "source": [
        "# Checking if any Missing Values are there in the Dataset\n",
        "# No Missing Values are there in the Dataset\n",
        "data.isnull().any()"
      ],
      "execution_count": 134,
      "outputs": [
        {
          "output_type": "execute_result",
          "data": {
            "text/plain": [
              "Status       False\n",
              "Seniority    False\n",
              "Home         False\n",
              "Time         False\n",
              "Age          False\n",
              "Marital      False\n",
              "Records      False\n",
              "Job          False\n",
              "Expenses     False\n",
              "Income       False\n",
              "Assets       False\n",
              "Debt         False\n",
              "Amount       False\n",
              "Price        False\n",
              "Finrat       False\n",
              "Savings      False\n",
              "dtype: bool"
            ]
          },
          "metadata": {
            "tags": []
          },
          "execution_count": 134
        }
      ]
    },
    {
      "cell_type": "code",
      "metadata": {
        "id": "e-wj9yp_0lK4",
        "outputId": "313a4346-e05b-4ca2-b9f0-e98b3a3ebf72",
        "colab": {
          "base_uri": "https://localhost:8080/",
          "height": 35
        }
      },
      "source": [
        "## checking if any categorical Features are there in the Dataset\n",
        "categorical_data = data.select_dtypes(exclude=[np.number])\n",
        "print (\"There are {} categorical Columns in Dataset\".format(categorical_data.shape[1]))"
      ],
      "execution_count": 135,
      "outputs": [
        {
          "output_type": "stream",
          "text": [
            "There are 5 categorical Columns in Dataset\n"
          ],
          "name": "stdout"
        }
      ]
    },
    {
      "cell_type": "code",
      "metadata": {
        "id": "gk4mtgPI0lK7",
        "outputId": "ba6329b6-cd58-4695-c350-3146ef695822",
        "colab": {
          "base_uri": "https://localhost:8080/",
          "height": 124
        }
      },
      "source": [
        "# Name of all the Categorical Features Present in the Dataset\n",
        "categorical_data.any()"
      ],
      "execution_count": 136,
      "outputs": [
        {
          "output_type": "execute_result",
          "data": {
            "text/plain": [
              "Status     True\n",
              "Home       True\n",
              "Marital    True\n",
              "Records    True\n",
              "Job        True\n",
              "dtype: bool"
            ]
          },
          "metadata": {
            "tags": []
          },
          "execution_count": 136
        }
      ]
    },
    {
      "cell_type": "code",
      "metadata": {
        "id": "wLOga9-n0lK-"
      },
      "source": [
        "from sklearn.preprocessing import LabelEncoder\n",
        "model = LabelEncoder()\n",
        "data['Status'] = model.fit_transform(data['Status'].astype('str'))\n",
        "data['Home'] = model.fit_transform(data['Home'].astype('str'))\n",
        "data['Marital'] = model.fit_transform(data['Marital'].astype('str'))\n",
        "data['Job'] = model.fit_transform(data['Job'].astype('str'))\n",
        "data['Records'] = model.fit_transform(data['Records'].astype('str'))"
      ],
      "execution_count": 137,
      "outputs": []
    },
    {
      "cell_type": "code",
      "metadata": {
        "id": "MrFclcfl01Wq",
        "outputId": "9878a3cf-cd9c-45a0-ef52-2d69d2aeba72",
        "colab": {
          "base_uri": "https://localhost:8080/",
          "height": 194
        }
      },
      "source": [
        "data.head()"
      ],
      "execution_count": 138,
      "outputs": [
        {
          "output_type": "execute_result",
          "data": {
            "text/html": [
              "<div>\n",
              "<style scoped>\n",
              "    .dataframe tbody tr th:only-of-type {\n",
              "        vertical-align: middle;\n",
              "    }\n",
              "\n",
              "    .dataframe tbody tr th {\n",
              "        vertical-align: top;\n",
              "    }\n",
              "\n",
              "    .dataframe thead th {\n",
              "        text-align: right;\n",
              "    }\n",
              "</style>\n",
              "<table border=\"1\" class=\"dataframe\">\n",
              "  <thead>\n",
              "    <tr style=\"text-align: right;\">\n",
              "      <th></th>\n",
              "      <th>Status</th>\n",
              "      <th>Seniority</th>\n",
              "      <th>Home</th>\n",
              "      <th>Time</th>\n",
              "      <th>Age</th>\n",
              "      <th>Marital</th>\n",
              "      <th>Records</th>\n",
              "      <th>Job</th>\n",
              "      <th>Expenses</th>\n",
              "      <th>Income</th>\n",
              "      <th>Assets</th>\n",
              "      <th>Debt</th>\n",
              "      <th>Amount</th>\n",
              "      <th>Price</th>\n",
              "      <th>Finrat</th>\n",
              "      <th>Savings</th>\n",
              "    </tr>\n",
              "  </thead>\n",
              "  <tbody>\n",
              "    <tr>\n",
              "      <th>0</th>\n",
              "      <td>1</td>\n",
              "      <td>9</td>\n",
              "      <td>5</td>\n",
              "      <td>60</td>\n",
              "      <td>30</td>\n",
              "      <td>1</td>\n",
              "      <td>0</td>\n",
              "      <td>1</td>\n",
              "      <td>73</td>\n",
              "      <td>129</td>\n",
              "      <td>0</td>\n",
              "      <td>0</td>\n",
              "      <td>800</td>\n",
              "      <td>846</td>\n",
              "      <td>94.562648</td>\n",
              "      <td>4.200000</td>\n",
              "    </tr>\n",
              "    <tr>\n",
              "      <th>1</th>\n",
              "      <td>1</td>\n",
              "      <td>17</td>\n",
              "      <td>5</td>\n",
              "      <td>60</td>\n",
              "      <td>58</td>\n",
              "      <td>4</td>\n",
              "      <td>0</td>\n",
              "      <td>0</td>\n",
              "      <td>48</td>\n",
              "      <td>131</td>\n",
              "      <td>0</td>\n",
              "      <td>0</td>\n",
              "      <td>1000</td>\n",
              "      <td>1658</td>\n",
              "      <td>60.313631</td>\n",
              "      <td>4.980000</td>\n",
              "    </tr>\n",
              "    <tr>\n",
              "      <th>2</th>\n",
              "      <td>0</td>\n",
              "      <td>10</td>\n",
              "      <td>2</td>\n",
              "      <td>36</td>\n",
              "      <td>46</td>\n",
              "      <td>1</td>\n",
              "      <td>1</td>\n",
              "      <td>1</td>\n",
              "      <td>90</td>\n",
              "      <td>200</td>\n",
              "      <td>3000</td>\n",
              "      <td>0</td>\n",
              "      <td>2000</td>\n",
              "      <td>2985</td>\n",
              "      <td>67.001675</td>\n",
              "      <td>1.980000</td>\n",
              "    </tr>\n",
              "    <tr>\n",
              "      <th>3</th>\n",
              "      <td>1</td>\n",
              "      <td>0</td>\n",
              "      <td>5</td>\n",
              "      <td>60</td>\n",
              "      <td>24</td>\n",
              "      <td>3</td>\n",
              "      <td>0</td>\n",
              "      <td>0</td>\n",
              "      <td>63</td>\n",
              "      <td>182</td>\n",
              "      <td>2500</td>\n",
              "      <td>0</td>\n",
              "      <td>900</td>\n",
              "      <td>1325</td>\n",
              "      <td>67.924528</td>\n",
              "      <td>7.933333</td>\n",
              "    </tr>\n",
              "    <tr>\n",
              "      <th>4</th>\n",
              "      <td>1</td>\n",
              "      <td>0</td>\n",
              "      <td>5</td>\n",
              "      <td>36</td>\n",
              "      <td>26</td>\n",
              "      <td>3</td>\n",
              "      <td>0</td>\n",
              "      <td>0</td>\n",
              "      <td>46</td>\n",
              "      <td>107</td>\n",
              "      <td>0</td>\n",
              "      <td>0</td>\n",
              "      <td>310</td>\n",
              "      <td>910</td>\n",
              "      <td>34.065934</td>\n",
              "      <td>7.083871</td>\n",
              "    </tr>\n",
              "  </tbody>\n",
              "</table>\n",
              "</div>"
            ],
            "text/plain": [
              "   Status  Seniority  Home  Time  Age  ...  Debt  Amount  Price     Finrat   Savings\n",
              "0       1          9     5    60   30  ...     0     800    846  94.562648  4.200000\n",
              "1       1         17     5    60   58  ...     0    1000   1658  60.313631  4.980000\n",
              "2       0         10     2    36   46  ...     0    2000   2985  67.001675  1.980000\n",
              "3       1          0     5    60   24  ...     0     900   1325  67.924528  7.933333\n",
              "4       1          0     5    36   26  ...     0     310    910  34.065934  7.083871\n",
              "\n",
              "[5 rows x 16 columns]"
            ]
          },
          "metadata": {
            "tags": []
          },
          "execution_count": 138
        }
      ]
    },
    {
      "cell_type": "code",
      "metadata": {
        "id": "sGAyj4Io0lLB",
        "outputId": "eb5c2fbb-216d-4758-f5ea-847d1369b60e",
        "colab": {
          "base_uri": "https://localhost:8080/",
          "height": 319
        }
      },
      "source": [
        "#Checking Data Types of the Features for Confirmation\n",
        "data.dtypes"
      ],
      "execution_count": 139,
      "outputs": [
        {
          "output_type": "execute_result",
          "data": {
            "text/plain": [
              "Status         int64\n",
              "Seniority      int64\n",
              "Home           int64\n",
              "Time           int64\n",
              "Age            int64\n",
              "Marital        int64\n",
              "Records        int64\n",
              "Job            int64\n",
              "Expenses       int64\n",
              "Income         int64\n",
              "Assets         int64\n",
              "Debt           int64\n",
              "Amount         int64\n",
              "Price          int64\n",
              "Finrat       float64\n",
              "Savings      float64\n",
              "dtype: object"
            ]
          },
          "metadata": {
            "tags": []
          },
          "execution_count": 139
        }
      ]
    },
    {
      "cell_type": "markdown",
      "metadata": {
        "id": "DZho8nRv0lLD"
      },
      "source": [
        "## (2) Data Exploration"
      ]
    },
    {
      "cell_type": "code",
      "metadata": {
        "id": "upJZAXGl0lLD",
        "outputId": "fc51a595-257b-4cc0-9596-dea93637061d",
        "colab": {
          "base_uri": "https://localhost:8080/",
          "height": 302
        }
      },
      "source": [
        "# Summary of the Data\n",
        "data.describe()"
      ],
      "execution_count": 140,
      "outputs": [
        {
          "output_type": "execute_result",
          "data": {
            "text/html": [
              "<div>\n",
              "<style scoped>\n",
              "    .dataframe tbody tr th:only-of-type {\n",
              "        vertical-align: middle;\n",
              "    }\n",
              "\n",
              "    .dataframe tbody tr th {\n",
              "        vertical-align: top;\n",
              "    }\n",
              "\n",
              "    .dataframe thead th {\n",
              "        text-align: right;\n",
              "    }\n",
              "</style>\n",
              "<table border=\"1\" class=\"dataframe\">\n",
              "  <thead>\n",
              "    <tr style=\"text-align: right;\">\n",
              "      <th></th>\n",
              "      <th>Status</th>\n",
              "      <th>Seniority</th>\n",
              "      <th>Home</th>\n",
              "      <th>Time</th>\n",
              "      <th>Age</th>\n",
              "      <th>Marital</th>\n",
              "      <th>Records</th>\n",
              "      <th>Job</th>\n",
              "      <th>Expenses</th>\n",
              "      <th>Income</th>\n",
              "      <th>Assets</th>\n",
              "      <th>Debt</th>\n",
              "      <th>Amount</th>\n",
              "      <th>Price</th>\n",
              "      <th>Finrat</th>\n",
              "      <th>Savings</th>\n",
              "    </tr>\n",
              "  </thead>\n",
              "  <tbody>\n",
              "    <tr>\n",
              "      <th>count</th>\n",
              "      <td>4446.000000</td>\n",
              "      <td>4446.000000</td>\n",
              "      <td>4446.000000</td>\n",
              "      <td>4446.000000</td>\n",
              "      <td>4446.000000</td>\n",
              "      <td>4446.000000</td>\n",
              "      <td>4446.000000</td>\n",
              "      <td>4446.000000</td>\n",
              "      <td>4446.000000</td>\n",
              "      <td>4446.000000</td>\n",
              "      <td>4446.000000</td>\n",
              "      <td>4446.000000</td>\n",
              "      <td>4446.000000</td>\n",
              "      <td>4446.000000</td>\n",
              "      <td>4446.000000</td>\n",
              "      <td>4446.000000</td>\n",
              "    </tr>\n",
              "    <tr>\n",
              "      <th>mean</th>\n",
              "      <td>0.719073</td>\n",
              "      <td>7.991453</td>\n",
              "      <td>2.862348</td>\n",
              "      <td>46.453441</td>\n",
              "      <td>37.084121</td>\n",
              "      <td>1.503599</td>\n",
              "      <td>0.172964</td>\n",
              "      <td>0.610886</td>\n",
              "      <td>55.601439</td>\n",
              "      <td>140.629780</td>\n",
              "      <td>5354.948943</td>\n",
              "      <td>342.257085</td>\n",
              "      <td>1038.763383</td>\n",
              "      <td>1462.480432</td>\n",
              "      <td>72.616409</td>\n",
              "      <td>3.860083</td>\n",
              "    </tr>\n",
              "    <tr>\n",
              "      <th>std</th>\n",
              "      <td>0.449502</td>\n",
              "      <td>8.176370</td>\n",
              "      <td>1.308943</td>\n",
              "      <td>14.647979</td>\n",
              "      <td>10.986366</td>\n",
              "      <td>0.891838</td>\n",
              "      <td>0.378259</td>\n",
              "      <td>0.960975</td>\n",
              "      <td>19.520839</td>\n",
              "      <td>80.177896</td>\n",
              "      <td>11534.328183</td>\n",
              "      <td>1244.694549</td>\n",
              "      <td>474.747952</td>\n",
              "      <td>628.555171</td>\n",
              "      <td>20.390595</td>\n",
              "      <td>3.726292</td>\n",
              "    </tr>\n",
              "    <tr>\n",
              "      <th>min</th>\n",
              "      <td>0.000000</td>\n",
              "      <td>0.000000</td>\n",
              "      <td>0.000000</td>\n",
              "      <td>6.000000</td>\n",
              "      <td>18.000000</td>\n",
              "      <td>0.000000</td>\n",
              "      <td>0.000000</td>\n",
              "      <td>0.000000</td>\n",
              "      <td>35.000000</td>\n",
              "      <td>1.000000</td>\n",
              "      <td>0.000000</td>\n",
              "      <td>0.000000</td>\n",
              "      <td>100.000000</td>\n",
              "      <td>105.000000</td>\n",
              "      <td>6.702413</td>\n",
              "      <td>-8.160000</td>\n",
              "    </tr>\n",
              "    <tr>\n",
              "      <th>25%</th>\n",
              "      <td>0.000000</td>\n",
              "      <td>2.000000</td>\n",
              "      <td>2.000000</td>\n",
              "      <td>36.000000</td>\n",
              "      <td>28.000000</td>\n",
              "      <td>1.000000</td>\n",
              "      <td>0.000000</td>\n",
              "      <td>0.000000</td>\n",
              "      <td>35.000000</td>\n",
              "      <td>90.000000</td>\n",
              "      <td>0.000000</td>\n",
              "      <td>0.000000</td>\n",
              "      <td>700.000000</td>\n",
              "      <td>1116.250000</td>\n",
              "      <td>60.030020</td>\n",
              "      <td>1.615385</td>\n",
              "    </tr>\n",
              "    <tr>\n",
              "      <th>50%</th>\n",
              "      <td>1.000000</td>\n",
              "      <td>5.000000</td>\n",
              "      <td>2.000000</td>\n",
              "      <td>48.000000</td>\n",
              "      <td>36.000000</td>\n",
              "      <td>1.000000</td>\n",
              "      <td>0.000000</td>\n",
              "      <td>0.000000</td>\n",
              "      <td>51.000000</td>\n",
              "      <td>124.000000</td>\n",
              "      <td>3000.000000</td>\n",
              "      <td>0.000000</td>\n",
              "      <td>1000.000000</td>\n",
              "      <td>1400.000000</td>\n",
              "      <td>77.096757</td>\n",
              "      <td>3.120000</td>\n",
              "    </tr>\n",
              "    <tr>\n",
              "      <th>75%</th>\n",
              "      <td>1.000000</td>\n",
              "      <td>12.000000</td>\n",
              "      <td>4.000000</td>\n",
              "      <td>60.000000</td>\n",
              "      <td>45.000000</td>\n",
              "      <td>2.000000</td>\n",
              "      <td>0.000000</td>\n",
              "      <td>1.000000</td>\n",
              "      <td>72.000000</td>\n",
              "      <td>170.000000</td>\n",
              "      <td>6000.000000</td>\n",
              "      <td>0.000000</td>\n",
              "      <td>1300.000000</td>\n",
              "      <td>1691.500000</td>\n",
              "      <td>88.460263</td>\n",
              "      <td>5.195688</td>\n",
              "    </tr>\n",
              "    <tr>\n",
              "      <th>max</th>\n",
              "      <td>1.000000</td>\n",
              "      <td>48.000000</td>\n",
              "      <td>5.000000</td>\n",
              "      <td>72.000000</td>\n",
              "      <td>68.000000</td>\n",
              "      <td>4.000000</td>\n",
              "      <td>1.000000</td>\n",
              "      <td>3.000000</td>\n",
              "      <td>180.000000</td>\n",
              "      <td>959.000000</td>\n",
              "      <td>300000.000000</td>\n",
              "      <td>30000.000000</td>\n",
              "      <td>5000.000000</td>\n",
              "      <td>11140.000000</td>\n",
              "      <td>100.000000</td>\n",
              "      <td>33.250000</td>\n",
              "    </tr>\n",
              "  </tbody>\n",
              "</table>\n",
              "</div>"
            ],
            "text/plain": [
              "            Status    Seniority  ...       Finrat      Savings\n",
              "count  4446.000000  4446.000000  ...  4446.000000  4446.000000\n",
              "mean      0.719073     7.991453  ...    72.616409     3.860083\n",
              "std       0.449502     8.176370  ...    20.390595     3.726292\n",
              "min       0.000000     0.000000  ...     6.702413    -8.160000\n",
              "25%       0.000000     2.000000  ...    60.030020     1.615385\n",
              "50%       1.000000     5.000000  ...    77.096757     3.120000\n",
              "75%       1.000000    12.000000  ...    88.460263     5.195688\n",
              "max       1.000000    48.000000  ...   100.000000    33.250000\n",
              "\n",
              "[8 rows x 16 columns]"
            ]
          },
          "metadata": {
            "tags": []
          },
          "execution_count": 140
        }
      ]
    },
    {
      "cell_type": "code",
      "metadata": {
        "id": "5CuoTCTm0lLF",
        "outputId": "a08b9c0f-4338-4638-ebbc-df3d462cf1cd",
        "colab": {
          "base_uri": "https://localhost:8080/",
          "height": 70
        }
      },
      "source": [
        "## Value Counts of 'GOOD' Status and 'BAD' Status\n",
        "## 'GOOD': 3197 and 'BAD': 1249\n",
        "data.Status.value_counts()"
      ],
      "execution_count": 141,
      "outputs": [
        {
          "output_type": "execute_result",
          "data": {
            "text/plain": [
              "1    3197\n",
              "0    1249\n",
              "Name: Status, dtype: int64"
            ]
          },
          "metadata": {
            "tags": []
          },
          "execution_count": 141
        }
      ]
    },
    {
      "cell_type": "code",
      "metadata": {
        "id": "xDWXjcMJ0lLI",
        "outputId": "4a4b5b07-1b9f-4630-e800-4ab16a97920d",
        "colab": {
          "base_uri": "https://localhost:8080/",
          "height": 70
        }
      },
      "source": [
        "# As per the Dataset there are approximately 72% GOOD Score and 28% BAD Score instances\n",
        "status_count = data.Status.value_counts()/len(data)\n",
        "status_count"
      ],
      "execution_count": 142,
      "outputs": [
        {
          "output_type": "execute_result",
          "data": {
            "text/plain": [
              "1    0.719073\n",
              "0    0.280927\n",
              "Name: Status, dtype: float64"
            ]
          },
          "metadata": {
            "tags": []
          },
          "execution_count": 142
        }
      ]
    },
    {
      "cell_type": "markdown",
      "metadata": {
        "id": "Z-s5d61f0lLM"
      },
      "source": [
        "## PEARSON’S CORRELATION\n",
        "#### Covariance is rarely used in summary statistics because it is hard to interpret. By itself, it does not provide a sense of how much the two variables vary together, but only their ‘direction’ (if you consider each series to be a vector). The unit of Covariance is also confusing because it is the product of two different units. Pearson’s Correlation divides the Covariance with the product of the standard deviations of both series resulting in a dimensionless value.\n",
        "\n",
        "#### Pearson’s Correlation is bounded in [-1, 1].\n",
        "![Correlation Formula](files/corr.jpg \"Correlation\")\n",
        "#### If it is positive, the two variables tend to be high or low together\n",
        "#### If it is negative, the two variables tend to be opposite of each other\n",
        "#### If it is zero or close to zero they don’t affect each other\n",
        "#### Sx, Sy are the standard deviations of the X, Y series respectively. Standard Deviation (σ) is a measure of the spread of the distribution."
      ]
    },
    {
      "cell_type": "code",
      "metadata": {
        "id": "bK0Z1aZj0lLN",
        "outputId": "98a3a078-3127-4214-8143-6df812ab23bc",
        "colab": {
          "base_uri": "https://localhost:8080/",
          "height": 826
        }
      },
      "source": [
        "# Correlation between all the Features\n",
        "# Correlation Plot\n",
        "corr = data.corr()\n",
        "sns.heatmap(corr)\n",
        "corr"
      ],
      "execution_count": 143,
      "outputs": [
        {
          "output_type": "execute_result",
          "data": {
            "text/html": [
              "<div>\n",
              "<style scoped>\n",
              "    .dataframe tbody tr th:only-of-type {\n",
              "        vertical-align: middle;\n",
              "    }\n",
              "\n",
              "    .dataframe tbody tr th {\n",
              "        vertical-align: top;\n",
              "    }\n",
              "\n",
              "    .dataframe thead th {\n",
              "        text-align: right;\n",
              "    }\n",
              "</style>\n",
              "<table border=\"1\" class=\"dataframe\">\n",
              "  <thead>\n",
              "    <tr style=\"text-align: right;\">\n",
              "      <th></th>\n",
              "      <th>Status</th>\n",
              "      <th>Seniority</th>\n",
              "      <th>Home</th>\n",
              "      <th>Time</th>\n",
              "      <th>Age</th>\n",
              "      <th>Marital</th>\n",
              "      <th>Records</th>\n",
              "      <th>Job</th>\n",
              "      <th>Expenses</th>\n",
              "      <th>Income</th>\n",
              "      <th>Assets</th>\n",
              "      <th>Debt</th>\n",
              "      <th>Amount</th>\n",
              "      <th>Price</th>\n",
              "      <th>Finrat</th>\n",
              "      <th>Savings</th>\n",
              "    </tr>\n",
              "  </thead>\n",
              "  <tbody>\n",
              "    <tr>\n",
              "      <th>Status</th>\n",
              "      <td>1.000000</td>\n",
              "      <td>0.259742</td>\n",
              "      <td>-0.123475</td>\n",
              "      <td>-0.101057</td>\n",
              "      <td>0.095305</td>\n",
              "      <td>-0.072958</td>\n",
              "      <td>-0.277817</td>\n",
              "      <td>-0.267701</td>\n",
              "      <td>-0.029633</td>\n",
              "      <td>0.144362</td>\n",
              "      <td>0.097239</td>\n",
              "      <td>-0.010408</td>\n",
              "      <td>-0.154325</td>\n",
              "      <td>-0.010144</td>\n",
              "      <td>-0.221790</td>\n",
              "      <td>0.185516</td>\n",
              "    </tr>\n",
              "    <tr>\n",
              "      <th>Seniority</th>\n",
              "      <td>0.259742</td>\n",
              "      <td>1.000000</td>\n",
              "      <td>-0.121105</td>\n",
              "      <td>-0.021874</td>\n",
              "      <td>0.506089</td>\n",
              "      <td>-0.229256</td>\n",
              "      <td>-0.016107</td>\n",
              "      <td>-0.271227</td>\n",
              "      <td>0.125680</td>\n",
              "      <td>0.121224</td>\n",
              "      <td>0.124241</td>\n",
              "      <td>-0.019347</td>\n",
              "      <td>-0.007639</td>\n",
              "      <td>0.041122</td>\n",
              "      <td>-0.073392</td>\n",
              "      <td>0.093246</td>\n",
              "    </tr>\n",
              "    <tr>\n",
              "      <th>Home</th>\n",
              "      <td>-0.123475</td>\n",
              "      <td>-0.121105</td>\n",
              "      <td>1.000000</td>\n",
              "      <td>0.041484</td>\n",
              "      <td>-0.108422</td>\n",
              "      <td>0.051880</td>\n",
              "      <td>0.019926</td>\n",
              "      <td>0.015536</td>\n",
              "      <td>0.175925</td>\n",
              "      <td>-0.039296</td>\n",
              "      <td>-0.182656</td>\n",
              "      <td>-0.098061</td>\n",
              "      <td>-0.032268</td>\n",
              "      <td>-0.086971</td>\n",
              "      <td>0.088591</td>\n",
              "      <td>-0.041239</td>\n",
              "    </tr>\n",
              "    <tr>\n",
              "      <th>Time</th>\n",
              "      <td>-0.101057</td>\n",
              "      <td>-0.021874</td>\n",
              "      <td>0.041484</td>\n",
              "      <td>1.000000</td>\n",
              "      <td>-0.051850</td>\n",
              "      <td>-0.039252</td>\n",
              "      <td>0.028313</td>\n",
              "      <td>-0.076804</td>\n",
              "      <td>-0.001717</td>\n",
              "      <td>-0.029915</td>\n",
              "      <td>-0.083018</td>\n",
              "      <td>0.058267</td>\n",
              "      <td>0.430858</td>\n",
              "      <td>0.129677</td>\n",
              "      <td>0.468641</td>\n",
              "      <td>0.101653</td>\n",
              "    </tr>\n",
              "    <tr>\n",
              "      <th>Age</th>\n",
              "      <td>0.095305</td>\n",
              "      <td>0.506089</td>\n",
              "      <td>-0.108422</td>\n",
              "      <td>-0.051850</td>\n",
              "      <td>1.000000</td>\n",
              "      <td>-0.358197</td>\n",
              "      <td>0.059837</td>\n",
              "      <td>-0.061422</td>\n",
              "      <td>0.248137</td>\n",
              "      <td>0.147556</td>\n",
              "      <td>0.180986</td>\n",
              "      <td>-0.046188</td>\n",
              "      <td>0.029031</td>\n",
              "      <td>0.048685</td>\n",
              "      <td>-0.034514</td>\n",
              "      <td>0.062036</td>\n",
              "    </tr>\n",
              "    <tr>\n",
              "      <th>Marital</th>\n",
              "      <td>-0.072958</td>\n",
              "      <td>-0.229256</td>\n",
              "      <td>0.051880</td>\n",
              "      <td>-0.039252</td>\n",
              "      <td>-0.358197</td>\n",
              "      <td>1.000000</td>\n",
              "      <td>-0.053529</td>\n",
              "      <td>0.105585</td>\n",
              "      <td>-0.483630</td>\n",
              "      <td>-0.140611</td>\n",
              "      <td>-0.061948</td>\n",
              "      <td>-0.053706</td>\n",
              "      <td>-0.071583</td>\n",
              "      <td>-0.102358</td>\n",
              "      <td>0.032714</td>\n",
              "      <td>0.000178</td>\n",
              "    </tr>\n",
              "    <tr>\n",
              "      <th>Records</th>\n",
              "      <td>-0.277817</td>\n",
              "      <td>-0.016107</td>\n",
              "      <td>0.019926</td>\n",
              "      <td>0.028313</td>\n",
              "      <td>0.059837</td>\n",
              "      <td>-0.053529</td>\n",
              "      <td>1.000000</td>\n",
              "      <td>-0.000477</td>\n",
              "      <td>0.058330</td>\n",
              "      <td>0.053466</td>\n",
              "      <td>0.021463</td>\n",
              "      <td>0.022907</td>\n",
              "      <td>0.110670</td>\n",
              "      <td>0.084821</td>\n",
              "      <td>0.051057</td>\n",
              "      <td>-0.003342</td>\n",
              "    </tr>\n",
              "    <tr>\n",
              "      <th>Job</th>\n",
              "      <td>-0.267701</td>\n",
              "      <td>-0.271227</td>\n",
              "      <td>0.015536</td>\n",
              "      <td>-0.076804</td>\n",
              "      <td>-0.061422</td>\n",
              "      <td>0.105585</td>\n",
              "      <td>-0.000477</td>\n",
              "      <td>1.000000</td>\n",
              "      <td>-0.063652</td>\n",
              "      <td>-0.111117</td>\n",
              "      <td>0.045444</td>\n",
              "      <td>-0.010169</td>\n",
              "      <td>-0.025724</td>\n",
              "      <td>-0.062651</td>\n",
              "      <td>0.051668</td>\n",
              "      <td>-0.122928</td>\n",
              "    </tr>\n",
              "    <tr>\n",
              "      <th>Expenses</th>\n",
              "      <td>-0.029633</td>\n",
              "      <td>0.125680</td>\n",
              "      <td>0.175925</td>\n",
              "      <td>-0.001717</td>\n",
              "      <td>0.248137</td>\n",
              "      <td>-0.483630</td>\n",
              "      <td>0.058330</td>\n",
              "      <td>-0.063652</td>\n",
              "      <td>1.000000</td>\n",
              "      <td>0.255005</td>\n",
              "      <td>0.018935</td>\n",
              "      <td>0.014771</td>\n",
              "      <td>0.049539</td>\n",
              "      <td>0.040728</td>\n",
              "      <td>0.024582</td>\n",
              "      <td>-0.038094</td>\n",
              "    </tr>\n",
              "    <tr>\n",
              "      <th>Income</th>\n",
              "      <td>0.144362</td>\n",
              "      <td>0.121224</td>\n",
              "      <td>-0.039296</td>\n",
              "      <td>-0.029915</td>\n",
              "      <td>0.147556</td>\n",
              "      <td>-0.140611</td>\n",
              "      <td>0.053466</td>\n",
              "      <td>-0.111117</td>\n",
              "      <td>0.255005</td>\n",
              "      <td>1.000000</td>\n",
              "      <td>0.219112</td>\n",
              "      <td>0.144697</td>\n",
              "      <td>0.190820</td>\n",
              "      <td>0.217789</td>\n",
              "      <td>-0.003407</td>\n",
              "      <td>0.717963</td>\n",
              "    </tr>\n",
              "    <tr>\n",
              "      <th>Assets</th>\n",
              "      <td>0.097239</td>\n",
              "      <td>0.124241</td>\n",
              "      <td>-0.182656</td>\n",
              "      <td>-0.083018</td>\n",
              "      <td>0.180986</td>\n",
              "      <td>-0.061948</td>\n",
              "      <td>0.021463</td>\n",
              "      <td>0.045444</td>\n",
              "      <td>0.018935</td>\n",
              "      <td>0.219112</td>\n",
              "      <td>1.000000</td>\n",
              "      <td>0.191619</td>\n",
              "      <td>0.144284</td>\n",
              "      <td>0.194894</td>\n",
              "      <td>-0.025060</td>\n",
              "      <td>0.067001</td>\n",
              "    </tr>\n",
              "    <tr>\n",
              "      <th>Debt</th>\n",
              "      <td>-0.010408</td>\n",
              "      <td>-0.019347</td>\n",
              "      <td>-0.098061</td>\n",
              "      <td>0.058267</td>\n",
              "      <td>-0.046188</td>\n",
              "      <td>-0.053706</td>\n",
              "      <td>0.022907</td>\n",
              "      <td>-0.010169</td>\n",
              "      <td>0.014771</td>\n",
              "      <td>0.144697</td>\n",
              "      <td>0.191619</td>\n",
              "      <td>1.000000</td>\n",
              "      <td>0.050902</td>\n",
              "      <td>0.043917</td>\n",
              "      <td>0.008609</td>\n",
              "      <td>0.004990</td>\n",
              "    </tr>\n",
              "    <tr>\n",
              "      <th>Amount</th>\n",
              "      <td>-0.154325</td>\n",
              "      <td>-0.007639</td>\n",
              "      <td>-0.032268</td>\n",
              "      <td>0.430858</td>\n",
              "      <td>0.029031</td>\n",
              "      <td>-0.071583</td>\n",
              "      <td>0.110670</td>\n",
              "      <td>-0.025724</td>\n",
              "      <td>0.049539</td>\n",
              "      <td>0.190820</td>\n",
              "      <td>0.144284</td>\n",
              "      <td>0.050902</td>\n",
              "      <td>1.000000</td>\n",
              "      <td>0.725025</td>\n",
              "      <td>0.473842</td>\n",
              "      <td>-0.149323</td>\n",
              "    </tr>\n",
              "    <tr>\n",
              "      <th>Price</th>\n",
              "      <td>-0.010144</td>\n",
              "      <td>0.041122</td>\n",
              "      <td>-0.086971</td>\n",
              "      <td>0.129677</td>\n",
              "      <td>0.048685</td>\n",
              "      <td>-0.102358</td>\n",
              "      <td>0.084821</td>\n",
              "      <td>-0.062651</td>\n",
              "      <td>0.040728</td>\n",
              "      <td>0.217789</td>\n",
              "      <td>0.194894</td>\n",
              "      <td>0.043917</td>\n",
              "      <td>0.725025</td>\n",
              "      <td>1.000000</td>\n",
              "      <td>-0.181348</td>\n",
              "      <td>-0.070361</td>\n",
              "    </tr>\n",
              "    <tr>\n",
              "      <th>Finrat</th>\n",
              "      <td>-0.221790</td>\n",
              "      <td>-0.073392</td>\n",
              "      <td>0.088591</td>\n",
              "      <td>0.468641</td>\n",
              "      <td>-0.034514</td>\n",
              "      <td>0.032714</td>\n",
              "      <td>0.051057</td>\n",
              "      <td>0.051668</td>\n",
              "      <td>0.024582</td>\n",
              "      <td>-0.003407</td>\n",
              "      <td>-0.025060</td>\n",
              "      <td>0.008609</td>\n",
              "      <td>0.473842</td>\n",
              "      <td>-0.181348</td>\n",
              "      <td>1.000000</td>\n",
              "      <td>-0.123180</td>\n",
              "    </tr>\n",
              "    <tr>\n",
              "      <th>Savings</th>\n",
              "      <td>0.185516</td>\n",
              "      <td>0.093246</td>\n",
              "      <td>-0.041239</td>\n",
              "      <td>0.101653</td>\n",
              "      <td>0.062036</td>\n",
              "      <td>0.000178</td>\n",
              "      <td>-0.003342</td>\n",
              "      <td>-0.122928</td>\n",
              "      <td>-0.038094</td>\n",
              "      <td>0.717963</td>\n",
              "      <td>0.067001</td>\n",
              "      <td>0.004990</td>\n",
              "      <td>-0.149323</td>\n",
              "      <td>-0.070361</td>\n",
              "      <td>-0.123180</td>\n",
              "      <td>1.000000</td>\n",
              "    </tr>\n",
              "  </tbody>\n",
              "</table>\n",
              "</div>"
            ],
            "text/plain": [
              "             Status  Seniority      Home  ...     Price    Finrat   Savings\n",
              "Status     1.000000   0.259742 -0.123475  ... -0.010144 -0.221790  0.185516\n",
              "Seniority  0.259742   1.000000 -0.121105  ...  0.041122 -0.073392  0.093246\n",
              "Home      -0.123475  -0.121105  1.000000  ... -0.086971  0.088591 -0.041239\n",
              "Time      -0.101057  -0.021874  0.041484  ...  0.129677  0.468641  0.101653\n",
              "Age        0.095305   0.506089 -0.108422  ...  0.048685 -0.034514  0.062036\n",
              "Marital   -0.072958  -0.229256  0.051880  ... -0.102358  0.032714  0.000178\n",
              "Records   -0.277817  -0.016107  0.019926  ...  0.084821  0.051057 -0.003342\n",
              "Job       -0.267701  -0.271227  0.015536  ... -0.062651  0.051668 -0.122928\n",
              "Expenses  -0.029633   0.125680  0.175925  ...  0.040728  0.024582 -0.038094\n",
              "Income     0.144362   0.121224 -0.039296  ...  0.217789 -0.003407  0.717963\n",
              "Assets     0.097239   0.124241 -0.182656  ...  0.194894 -0.025060  0.067001\n",
              "Debt      -0.010408  -0.019347 -0.098061  ...  0.043917  0.008609  0.004990\n",
              "Amount    -0.154325  -0.007639 -0.032268  ...  0.725025  0.473842 -0.149323\n",
              "Price     -0.010144   0.041122 -0.086971  ...  1.000000 -0.181348 -0.070361\n",
              "Finrat    -0.221790  -0.073392  0.088591  ... -0.181348  1.000000 -0.123180\n",
              "Savings    0.185516   0.093246 -0.041239  ... -0.070361 -0.123180  1.000000\n",
              "\n",
              "[16 rows x 16 columns]"
            ]
          },
          "metadata": {
            "tags": []
          },
          "execution_count": 143
        },
        {
          "output_type": "display_data",
          "data": {
            "image/png": "[encoded data removed]",
            "text/plain": [
              "<Figure size 432x288 with 2 Axes>"
            ]
          },
          "metadata": {
            "tags": [],
            "needs_background": "light"
          }
        }
      ]
    },
    {
      "cell_type": "markdown",
      "metadata": {
        "id": "XQAm7Vzd0lLP"
      },
      "source": [
        "#### As per the Correlation Matrix and the Correlation Values Calculated we can say that No Feature in the Dataset is highly Correlated with the Target Attribute 'Status'. Hence, there is no need for Feature Selection as of now and the Classification Model Such as 'Linear Regression ' and 'Logistic Regression' etc, can be performed directly on all the Features of the Dataset."
      ]
    },
    {
      "cell_type": "code",
      "metadata": {
        "id": "RQE6tfwD0lLP",
        "outputId": "688c3759-693f-40ea-d848-1ea35bbc558b",
        "colab": {
          "base_uri": "https://localhost:8080/",
          "height": 337
        }
      },
      "source": [
        "## Correlation Values of all the Features with respect to Target Variable 'Status' \n",
        "## Top 10 Values\n",
        "print (corr['Status'].sort_values(ascending=False)[:10], '\\n')\n",
        "\n",
        "## Last 5 Values\n",
        "print (corr['Status'].sort_values(ascending=False)[-5:])"
      ],
      "execution_count": 144,
      "outputs": [
        {
          "output_type": "stream",
          "text": [
            "Status       1.000000\n",
            "Seniority    0.259742\n",
            "Savings      0.185516\n",
            "Income       0.144362\n",
            "Assets       0.097239\n",
            "Age          0.095305\n",
            "Price       -0.010144\n",
            "Debt        -0.010408\n",
            "Expenses    -0.029633\n",
            "Marital     -0.072958\n",
            "Name: Status, dtype: float64 \n",
            "\n",
            "Home      -0.123475\n",
            "Amount    -0.154325\n",
            "Finrat    -0.221790\n",
            "Job       -0.267701\n",
            "Records   -0.277817\n",
            "Name: Status, dtype: float64\n"
          ],
          "name": "stdout"
        }
      ]
    },
    {
      "cell_type": "code",
      "metadata": {
        "id": "JaqPlCTC0lLS",
        "outputId": "67bac3cd-e864-42e1-9bff-966a441d23fd",
        "colab": {
          "base_uri": "https://localhost:8080/",
          "height": 335
        }
      },
      "source": [
        "## Visualising Correlation Matrix with actual Correlation Values\n",
        "cmap=sns.diverging_palette(5, 250, as_cmap=True)\n",
        "\n",
        "def magnify():\n",
        "    return [dict(selector=\"th\",\n",
        "                 props=[(\"font-size\", \"7pt\")]),\n",
        "            dict(selector=\"td\",\n",
        "                 props=[('padding', \"0em 0em\")]),\n",
        "            dict(selector=\"th:hover\",\n",
        "                 props=[(\"font-size\", \"15pt\")]),\n",
        "            dict(selector=\"tr:hover td:hover\",\n",
        "                 props=[('max-width', '200px'),\n",
        "                        ('font-size', '15pt')])\n",
        "]\n",
        "\n",
        "corr.style.background_gradient(cmap, axis=1)\\\n",
        "    .set_properties(**{'max-width': '80px', 'font-size': '10pt'})\\\n",
        "    .set_caption(\"Hover to magify\")\\\n",
        "    .set_precision(3)\\\n",
        "    .set_table_styles(magnify())"
      ],
      "execution_count": 145,
      "outputs": [
        {
          "output_type": "execute_result",
          "data": {
            "text/html": [
              "<style  type=\"text/css\" >\n",
              "    #T_4915fb60_1228_11eb_98f0_0242ac1c0002 th {\n",
              "          font-size: 7pt;\n",
              "    }    #T_4915fb60_1228_11eb_98f0_0242ac1c0002 td {\n",
              "          padding: 0em 0em;\n",
              "    }    #T_4915fb60_1228_11eb_98f0_0242ac1c0002 th:hover {\n",
              "          font-size: 15pt;\n",
              "    }    #T_4915fb60_1228_11eb_98f0_0242ac1c0002 tr:hover td:hover {\n",
              "          max-width: 200px;\n",
              "          font-size: 15pt;\n",
              "    }#T_4915fb60_1228_11eb_98f0_0242ac1c0002row0_col0,#T_4915fb60_1228_11eb_98f0_0242ac1c0002row1_col1,#T_4915fb60_1228_11eb_98f0_0242ac1c0002row2_col2,#T_4915fb60_1228_11eb_98f0_0242ac1c0002row3_col3,#T_4915fb60_1228_11eb_98f0_0242ac1c0002row4_col4,#T_4915fb60_1228_11eb_98f0_0242ac1c0002row5_col5,#T_4915fb60_1228_11eb_98f0_0242ac1c0002row6_col6,#T_4915fb60_1228_11eb_98f0_0242ac1c0002row7_col7,#T_4915fb60_1228_11eb_98f0_0242ac1c0002row8_col8,#T_4915fb60_1228_11eb_98f0_0242ac1c0002row9_col9,#T_4915fb60_1228_11eb_98f0_0242ac1c0002row10_col10,#T_4915fb60_1228_11eb_98f0_0242ac1c0002row11_col11,#T_4915fb60_1228_11eb_98f0_0242ac1c0002row12_col12,#T_4915fb60_1228_11eb_98f0_0242ac1c0002row13_col13,#T_4915fb60_1228_11eb_98f0_0242ac1c0002row14_col14,#T_4915fb60_1228_11eb_98f0_0242ac1c0002row15_col15{\n",
              "            background-color:  #4479bb;\n",
              "            color:  #000000;\n",
              "            max-width:  80px;\n",
              "            font-size:  10pt;\n",
              "        }#T_4915fb60_1228_11eb_98f0_0242ac1c0002row0_col1{\n",
              "            background-color:  #eed4d9;\n",
              "            color:  #000000;\n",
              "            max-width:  80px;\n",
              "            font-size:  10pt;\n",
              "        }#T_4915fb60_1228_11eb_98f0_0242ac1c0002row0_col2,#T_4915fb60_1228_11eb_98f0_0242ac1c0002row1_col2,#T_4915fb60_1228_11eb_98f0_0242ac1c0002row2_col15,#T_4915fb60_1228_11eb_98f0_0242ac1c0002row3_col6,#T_4915fb60_1228_11eb_98f0_0242ac1c0002row9_col14{\n",
              "            background-color:  #de667e;\n",
              "            color:  #000000;\n",
              "            max-width:  80px;\n",
              "            font-size:  10pt;\n",
              "        }#T_4915fb60_1228_11eb_98f0_0242ac1c0002row0_col3{\n",
              "            background-color:  #df6d84;\n",
              "            color:  #000000;\n",
              "            max-width:  80px;\n",
              "            font-size:  10pt;\n",
              "        }#T_4915fb60_1228_11eb_98f0_0242ac1c0002row0_col4,#T_4915fb60_1228_11eb_98f0_0242ac1c0002row5_col6,#T_4915fb60_1228_11eb_98f0_0242ac1c0002row5_col11,#T_4915fb60_1228_11eb_98f0_0242ac1c0002row9_col12,#T_4915fb60_1228_11eb_98f0_0242ac1c0002row15_col0{\n",
              "            background-color:  #e7a5b2;\n",
              "            color:  #000000;\n",
              "            max-width:  80px;\n",
              "            font-size:  10pt;\n",
              "        }#T_4915fb60_1228_11eb_98f0_0242ac1c0002row0_col5,#T_4915fb60_1228_11eb_98f0_0242ac1c0002row7_col8,#T_4915fb60_1228_11eb_98f0_0242ac1c0002row14_col10{\n",
              "            background-color:  #e0768b;\n",
              "            color:  #000000;\n",
              "            max-width:  80px;\n",
              "            font-size:  10pt;\n",
              "        }#T_4915fb60_1228_11eb_98f0_0242ac1c0002row0_col6,#T_4915fb60_1228_11eb_98f0_0242ac1c0002row1_col7,#T_4915fb60_1228_11eb_98f0_0242ac1c0002row2_col10,#T_4915fb60_1228_11eb_98f0_0242ac1c0002row3_col0,#T_4915fb60_1228_11eb_98f0_0242ac1c0002row4_col5,#T_4915fb60_1228_11eb_98f0_0242ac1c0002row5_col8,#T_4915fb60_1228_11eb_98f0_0242ac1c0002row6_col0,#T_4915fb60_1228_11eb_98f0_0242ac1c0002row7_col0,#T_4915fb60_1228_11eb_98f0_0242ac1c0002row7_col1,#T_4915fb60_1228_11eb_98f0_0242ac1c0002row8_col5,#T_4915fb60_1228_11eb_98f0_0242ac1c0002row9_col5,#T_4915fb60_1228_11eb_98f0_0242ac1c0002row10_col2,#T_4915fb60_1228_11eb_98f0_0242ac1c0002row11_col2,#T_4915fb60_1228_11eb_98f0_0242ac1c0002row12_col0,#T_4915fb60_1228_11eb_98f0_0242ac1c0002row13_col14,#T_4915fb60_1228_11eb_98f0_0242ac1c0002row14_col0,#T_4915fb60_1228_11eb_98f0_0242ac1c0002row15_col12{\n",
              "            background-color:  #d73c5b;\n",
              "            color:  #f1f1f1;\n",
              "            max-width:  80px;\n",
              "            font-size:  10pt;\n",
              "        }#T_4915fb60_1228_11eb_98f0_0242ac1c0002row0_col7{\n",
              "            background-color:  #d83e5d;\n",
              "            color:  #f1f1f1;\n",
              "            max-width:  80px;\n",
              "            font-size:  10pt;\n",
              "        }#T_4915fb60_1228_11eb_98f0_0242ac1c0002row0_col8,#T_4915fb60_1228_11eb_98f0_0242ac1c0002row7_col12,#T_4915fb60_1228_11eb_98f0_0242ac1c0002row10_col7,#T_4915fb60_1228_11eb_98f0_0242ac1c0002row13_col4{\n",
              "            background-color:  #e28194;\n",
              "            color:  #000000;\n",
              "            max-width:  80px;\n",
              "            font-size:  10pt;\n",
              "        }#T_4915fb60_1228_11eb_98f0_0242ac1c0002row0_col9{\n",
              "            background-color:  #e9b4be;\n",
              "            color:  #000000;\n",
              "            max-width:  80px;\n",
              "            font-size:  10pt;\n",
              "        }#T_4915fb60_1228_11eb_98f0_0242ac1c0002row0_col10,#T_4915fb60_1228_11eb_98f0_0242ac1c0002row7_col5{\n",
              "            background-color:  #e7a7b4;\n",
              "            color:  #000000;\n",
              "            max-width:  80px;\n",
              "            font-size:  10pt;\n",
              "        }#T_4915fb60_1228_11eb_98f0_0242ac1c0002row0_col11,#T_4915fb60_1228_11eb_98f0_0242ac1c0002row0_col13,#T_4915fb60_1228_11eb_98f0_0242ac1c0002row1_col12,#T_4915fb60_1228_11eb_98f0_0242ac1c0002row3_col13,#T_4915fb60_1228_11eb_98f0_0242ac1c0002row14_col5{\n",
              "            background-color:  #e28799;\n",
              "            color:  #000000;\n",
              "            max-width:  80px;\n",
              "            font-size:  10pt;\n",
              "        }#T_4915fb60_1228_11eb_98f0_0242ac1c0002row0_col12,#T_4915fb60_1228_11eb_98f0_0242ac1c0002row9_col3,#T_4915fb60_1228_11eb_98f0_0242ac1c0002row11_col14,#T_4915fb60_1228_11eb_98f0_0242ac1c0002row11_col15,#T_4915fb60_1228_11eb_98f0_0242ac1c0002row13_col15,#T_4915fb60_1228_11eb_98f0_0242ac1c0002row15_col2,#T_4915fb60_1228_11eb_98f0_0242ac1c0002row15_col8{\n",
              "            background-color:  #dc5e77;\n",
              "            color:  #000000;\n",
              "            max-width:  80px;\n",
              "            font-size:  10pt;\n",
              "        }#T_4915fb60_1228_11eb_98f0_0242ac1c0002row0_col14,#T_4915fb60_1228_11eb_98f0_0242ac1c0002row3_col4{\n",
              "            background-color:  #da4b68;\n",
              "            color:  #000000;\n",
              "            max-width:  80px;\n",
              "            font-size:  10pt;\n",
              "        }#T_4915fb60_1228_11eb_98f0_0242ac1c0002row0_col15,#T_4915fb60_1228_11eb_98f0_0242ac1c0002row5_col2{\n",
              "            background-color:  #ebbfc8;\n",
              "            color:  #000000;\n",
              "            max-width:  80px;\n",
              "            font-size:  10pt;\n",
              "        }#T_4915fb60_1228_11eb_98f0_0242ac1c0002row1_col0{\n",
              "            background-color:  #eed3d8;\n",
              "            color:  #000000;\n",
              "            max-width:  80px;\n",
              "            font-size:  10pt;\n",
              "        }#T_4915fb60_1228_11eb_98f0_0242ac1c0002row1_col3,#T_4915fb60_1228_11eb_98f0_0242ac1c0002row1_col11,#T_4915fb60_1228_11eb_98f0_0242ac1c0002row2_col5{\n",
              "            background-color:  #e28396;\n",
              "            color:  #000000;\n",
              "            max-width:  80px;\n",
              "            font-size:  10pt;\n",
              "        }#T_4915fb60_1228_11eb_98f0_0242ac1c0002row1_col4{\n",
              "            background-color:  #cbd7e6;\n",
              "            color:  #000000;\n",
              "            max-width:  80px;\n",
              "            font-size:  10pt;\n",
              "        }#T_4915fb60_1228_11eb_98f0_0242ac1c0002row1_col5,#T_4915fb60_1228_11eb_98f0_0242ac1c0002row14_col13{\n",
              "            background-color:  #d94764;\n",
              "            color:  #f1f1f1;\n",
              "            max-width:  80px;\n",
              "            font-size:  10pt;\n",
              "        }#T_4915fb60_1228_11eb_98f0_0242ac1c0002row1_col6,#T_4915fb60_1228_11eb_98f0_0242ac1c0002row14_col8{\n",
              "            background-color:  #e28497;\n",
              "            color:  #000000;\n",
              "            max-width:  80px;\n",
              "            font-size:  10pt;\n",
              "        }#T_4915fb60_1228_11eb_98f0_0242ac1c0002row1_col8,#T_4915fb60_1228_11eb_98f0_0242ac1c0002row1_col9,#T_4915fb60_1228_11eb_98f0_0242ac1c0002row1_col10,#T_4915fb60_1228_11eb_98f0_0242ac1c0002row4_col15{\n",
              "            background-color:  #e8adb8;\n",
              "            color:  #000000;\n",
              "            max-width:  80px;\n",
              "            font-size:  10pt;\n",
              "        }#T_4915fb60_1228_11eb_98f0_0242ac1c0002row1_col13{\n",
              "            background-color:  #e494a4;\n",
              "            color:  #000000;\n",
              "            max-width:  80px;\n",
              "            font-size:  10pt;\n",
              "        }#T_4915fb60_1228_11eb_98f0_0242ac1c0002row1_col14,#T_4915fb60_1228_11eb_98f0_0242ac1c0002row7_col3,#T_4915fb60_1228_11eb_98f0_0242ac1c0002row14_col4{\n",
              "            background-color:  #e07389;\n",
              "            color:  #000000;\n",
              "            max-width:  80px;\n",
              "            font-size:  10pt;\n",
              "        }#T_4915fb60_1228_11eb_98f0_0242ac1c0002row1_col15{\n",
              "            background-color:  #e7a4b1;\n",
              "            color:  #000000;\n",
              "            max-width:  80px;\n",
              "            font-size:  10pt;\n",
              "        }#T_4915fb60_1228_11eb_98f0_0242ac1c0002row2_col0,#T_4915fb60_1228_11eb_98f0_0242ac1c0002row11_col4{\n",
              "            background-color:  #da4d69;\n",
              "            color:  #000000;\n",
              "            max-width:  80px;\n",
              "            font-size:  10pt;\n",
              "        }#T_4915fb60_1228_11eb_98f0_0242ac1c0002row2_col1{\n",
              "            background-color:  #da4e6a;\n",
              "            color:  #000000;\n",
              "            max-width:  80px;\n",
              "            font-size:  10pt;\n",
              "        }#T_4915fb60_1228_11eb_98f0_0242ac1c0002row2_col3,#T_4915fb60_1228_11eb_98f0_0242ac1c0002row13_col1,#T_4915fb60_1228_11eb_98f0_0242ac1c0002row13_col8,#T_4915fb60_1228_11eb_98f0_0242ac1c0002row13_col11,#T_4915fb60_1228_11eb_98f0_0242ac1c0002row14_col11,#T_4915fb60_1228_11eb_98f0_0242ac1c0002row15_col10{\n",
              "            background-color:  #e18093;\n",
              "            color:  #000000;\n",
              "            max-width:  80px;\n",
              "            font-size:  10pt;\n",
              "        }#T_4915fb60_1228_11eb_98f0_0242ac1c0002row2_col4,#T_4915fb60_1228_11eb_98f0_0242ac1c0002row3_col9{\n",
              "            background-color:  #db526e;\n",
              "            color:  #000000;\n",
              "            max-width:  80px;\n",
              "            font-size:  10pt;\n",
              "        }#T_4915fb60_1228_11eb_98f0_0242ac1c0002row2_col6,#T_4915fb60_1228_11eb_98f0_0242ac1c0002row5_col1,#T_4915fb60_1228_11eb_98f0_0242ac1c0002row9_col6,#T_4915fb60_1228_11eb_98f0_0242ac1c0002row10_col8{\n",
              "            background-color:  #e0798d;\n",
              "            color:  #000000;\n",
              "            max-width:  80px;\n",
              "            font-size:  10pt;\n",
              "        }#T_4915fb60_1228_11eb_98f0_0242ac1c0002row2_col7,#T_4915fb60_1228_11eb_98f0_0242ac1c0002row7_col4,#T_4915fb60_1228_11eb_98f0_0242ac1c0002row7_col13{\n",
              "            background-color:  #e0778c;\n",
              "            color:  #000000;\n",
              "            max-width:  80px;\n",
              "            font-size:  10pt;\n",
              "        }#T_4915fb60_1228_11eb_98f0_0242ac1c0002row2_col8,#T_4915fb60_1228_11eb_98f0_0242ac1c0002row6_col12{\n",
              "            background-color:  #e8aab6;\n",
              "            color:  #000000;\n",
              "            max-width:  80px;\n",
              "            font-size:  10pt;\n",
              "        }#T_4915fb60_1228_11eb_98f0_0242ac1c0002row2_col9,#T_4915fb60_1228_11eb_98f0_0242ac1c0002row14_col1{\n",
              "            background-color:  #de687f;\n",
              "            color:  #000000;\n",
              "            max-width:  80px;\n",
              "            font-size:  10pt;\n",
              "        }#T_4915fb60_1228_11eb_98f0_0242ac1c0002row2_col11,#T_4915fb60_1228_11eb_98f0_0242ac1c0002row3_col1,#T_4915fb60_1228_11eb_98f0_0242ac1c0002row11_col1,#T_4915fb60_1228_11eb_98f0_0242ac1c0002row12_col5{\n",
              "            background-color:  #db5570;\n",
              "            color:  #000000;\n",
              "            max-width:  80px;\n",
              "            font-size:  10pt;\n",
              "        }#T_4915fb60_1228_11eb_98f0_0242ac1c0002row2_col12,#T_4915fb60_1228_11eb_98f0_0242ac1c0002row7_col9,#T_4915fb60_1228_11eb_98f0_0242ac1c0002row12_col1,#T_4915fb60_1228_11eb_98f0_0242ac1c0002row15_col6{\n",
              "            background-color:  #de6980;\n",
              "            color:  #000000;\n",
              "            max-width:  80px;\n",
              "            font-size:  10pt;\n",
              "        }#T_4915fb60_1228_11eb_98f0_0242ac1c0002row2_col13,#T_4915fb60_1228_11eb_98f0_0242ac1c0002row11_col0,#T_4915fb60_1228_11eb_98f0_0242ac1c0002row11_col7,#T_4915fb60_1228_11eb_98f0_0242ac1c0002row13_col2,#T_4915fb60_1228_11eb_98f0_0242ac1c0002row14_col15{\n",
              "            background-color:  #db5872;\n",
              "            color:  #000000;\n",
              "            max-width:  80px;\n",
              "            font-size:  10pt;\n",
              "        }#T_4915fb60_1228_11eb_98f0_0242ac1c0002row2_col14,#T_4915fb60_1228_11eb_98f0_0242ac1c0002row4_col11,#T_4915fb60_1228_11eb_98f0_0242ac1c0002row9_col1,#T_4915fb60_1228_11eb_98f0_0242ac1c0002row12_col6{\n",
              "            background-color:  #e48e9f;\n",
              "            color:  #000000;\n",
              "            max-width:  80px;\n",
              "            font-size:  10pt;\n",
              "        }#T_4915fb60_1228_11eb_98f0_0242ac1c0002row3_col2,#T_4915fb60_1228_11eb_98f0_0242ac1c0002row11_col13,#T_4915fb60_1228_11eb_98f0_0242ac1c0002row15_col5{\n",
              "            background-color:  #de6b82;\n",
              "            color:  #000000;\n",
              "            max-width:  80px;\n",
              "            font-size:  10pt;\n",
              "        }#T_4915fb60_1228_11eb_98f0_0242ac1c0002row3_col5{\n",
              "            background-color:  #da506b;\n",
              "            color:  #000000;\n",
              "            max-width:  80px;\n",
              "            font-size:  10pt;\n",
              "        }#T_4915fb60_1228_11eb_98f0_0242ac1c0002row3_col7,#T_4915fb60_1228_11eb_98f0_0242ac1c0002row15_col7,#T_4915fb60_1228_11eb_98f0_0242ac1c0002row15_col14{\n",
              "            background-color:  #d84361;\n",
              "            color:  #f1f1f1;\n",
              "            max-width:  80px;\n",
              "            font-size:  10pt;\n",
              "        }#T_4915fb60_1228_11eb_98f0_0242ac1c0002row3_col8{\n",
              "            background-color:  #dc5c76;\n",
              "            color:  #000000;\n",
              "            max-width:  80px;\n",
              "            font-size:  10pt;\n",
              "        }#T_4915fb60_1228_11eb_98f0_0242ac1c0002row3_col10{\n",
              "            background-color:  #d8415f;\n",
              "            color:  #f1f1f1;\n",
              "            max-width:  80px;\n",
              "            font-size:  10pt;\n",
              "        }#T_4915fb60_1228_11eb_98f0_0242ac1c0002row3_col11,#T_4915fb60_1228_11eb_98f0_0242ac1c0002row13_col0{\n",
              "            background-color:  #df7086;\n",
              "            color:  #000000;\n",
              "            max-width:  80px;\n",
              "            font-size:  10pt;\n",
              "        }#T_4915fb60_1228_11eb_98f0_0242ac1c0002row3_col12{\n",
              "            background-color:  #f2ebec;\n",
              "            color:  #000000;\n",
              "            max-width:  80px;\n",
              "            font-size:  10pt;\n",
              "        }#T_4915fb60_1228_11eb_98f0_0242ac1c0002row3_col14{\n",
              "            background-color:  #ebedf1;\n",
              "            color:  #000000;\n",
              "            max-width:  80px;\n",
              "            font-size:  10pt;\n",
              "        }#T_4915fb60_1228_11eb_98f0_0242ac1c0002row3_col15,#T_4915fb60_1228_11eb_98f0_0242ac1c0002row4_col2,#T_4915fb60_1228_11eb_98f0_0242ac1c0002row15_col4{\n",
              "            background-color:  #e17e92;\n",
              "            color:  #000000;\n",
              "            max-width:  80px;\n",
              "            font-size:  10pt;\n",
              "        }#T_4915fb60_1228_11eb_98f0_0242ac1c0002row4_col0,#T_4915fb60_1228_11eb_98f0_0242ac1c0002row8_col11{\n",
              "            background-color:  #e9b5bf;\n",
              "            color:  #000000;\n",
              "            max-width:  80px;\n",
              "            font-size:  10pt;\n",
              "        }#T_4915fb60_1228_11eb_98f0_0242ac1c0002row4_col1{\n",
              "            background-color:  #c3d1e4;\n",
              "            color:  #000000;\n",
              "            max-width:  80px;\n",
              "            font-size:  10pt;\n",
              "        }#T_4915fb60_1228_11eb_98f0_0242ac1c0002row4_col3,#T_4915fb60_1228_11eb_98f0_0242ac1c0002row7_col2,#T_4915fb60_1228_11eb_98f0_0242ac1c0002row13_col6,#T_4915fb60_1228_11eb_98f0_0242ac1c0002row14_col6,#T_4915fb60_1228_11eb_98f0_0242ac1c0002row14_col7{\n",
              "            background-color:  #e38d9e;\n",
              "            color:  #000000;\n",
              "            max-width:  80px;\n",
              "            font-size:  10pt;\n",
              "        }#T_4915fb60_1228_11eb_98f0_0242ac1c0002row4_col6,#T_4915fb60_1228_11eb_98f0_0242ac1c0002row8_col0,#T_4915fb60_1228_11eb_98f0_0242ac1c0002row10_col4{\n",
              "            background-color:  #e8abb7;\n",
              "            color:  #000000;\n",
              "            max-width:  80px;\n",
              "            font-size:  10pt;\n",
              "        }#T_4915fb60_1228_11eb_98f0_0242ac1c0002row4_col7,#T_4915fb60_1228_11eb_98f0_0242ac1c0002row6_col7,#T_4915fb60_1228_11eb_98f0_0242ac1c0002row15_col3{\n",
              "            background-color:  #e38a9c;\n",
              "            color:  #000000;\n",
              "            max-width:  80px;\n",
              "            font-size:  10pt;\n",
              "        }#T_4915fb60_1228_11eb_98f0_0242ac1c0002row4_col8{\n",
              "            background-color:  #f0dee2;\n",
              "            color:  #000000;\n",
              "            max-width:  80px;\n",
              "            font-size:  10pt;\n",
              "        }#T_4915fb60_1228_11eb_98f0_0242ac1c0002row4_col9{\n",
              "            background-color:  #ecc3cb;\n",
              "            color:  #000000;\n",
              "            max-width:  80px;\n",
              "            font-size:  10pt;\n",
              "        }#T_4915fb60_1228_11eb_98f0_0242ac1c0002row4_col10,#T_4915fb60_1228_11eb_98f0_0242ac1c0002row5_col7{\n",
              "            background-color:  #edccd2;\n",
              "            color:  #000000;\n",
              "            max-width:  80px;\n",
              "            font-size:  10pt;\n",
              "        }#T_4915fb60_1228_11eb_98f0_0242ac1c0002row4_col12,#T_4915fb60_1228_11eb_98f0_0242ac1c0002row5_col10,#T_4915fb60_1228_11eb_98f0_0242ac1c0002row6_col13,#T_4915fb60_1228_11eb_98f0_0242ac1c0002row8_col7{\n",
              "            background-color:  #e7a3b0;\n",
              "            color:  #000000;\n",
              "            max-width:  80px;\n",
              "            font-size:  10pt;\n",
              "        }#T_4915fb60_1228_11eb_98f0_0242ac1c0002row4_col13,#T_4915fb60_1228_11eb_98f0_0242ac1c0002row5_col3,#T_4915fb60_1228_11eb_98f0_0242ac1c0002row8_col15,#T_4915fb60_1228_11eb_98f0_0242ac1c0002row12_col9{\n",
              "            background-color:  #e7a8b5;\n",
              "            color:  #000000;\n",
              "            max-width:  80px;\n",
              "            font-size:  10pt;\n",
              "        }#T_4915fb60_1228_11eb_98f0_0242ac1c0002row4_col14,#T_4915fb60_1228_11eb_98f0_0242ac1c0002row6_col3{\n",
              "            background-color:  #e492a3;\n",
              "            color:  #000000;\n",
              "            max-width:  80px;\n",
              "            font-size:  10pt;\n",
              "        }#T_4915fb60_1228_11eb_98f0_0242ac1c0002row5_col0,#T_4915fb60_1228_11eb_98f0_0242ac1c0002row10_col12{\n",
              "            background-color:  #e6a0ae;\n",
              "            color:  #000000;\n",
              "            max-width:  80px;\n",
              "            font-size:  10pt;\n",
              "        }#T_4915fb60_1228_11eb_98f0_0242ac1c0002row5_col4,#T_4915fb60_1228_11eb_98f0_0242ac1c0002row10_col3{\n",
              "            background-color:  #dc5973;\n",
              "            color:  #000000;\n",
              "            max-width:  80px;\n",
              "            font-size:  10pt;\n",
              "        }#T_4915fb60_1228_11eb_98f0_0242ac1c0002row5_col9,#T_4915fb60_1228_11eb_98f0_0242ac1c0002row6_col2,#T_4915fb60_1228_11eb_98f0_0242ac1c0002row6_col10{\n",
              "            background-color:  #e48fa0;\n",
              "            color:  #000000;\n",
              "            max-width:  80px;\n",
              "            font-size:  10pt;\n",
              "        }#T_4915fb60_1228_11eb_98f0_0242ac1c0002row5_col12{\n",
              "            background-color:  #e6a1af;\n",
              "            color:  #000000;\n",
              "            max-width:  80px;\n",
              "            font-size:  10pt;\n",
              "        }#T_4915fb60_1228_11eb_98f0_0242ac1c0002row5_col13,#T_4915fb60_1228_11eb_98f0_0242ac1c0002row6_col14,#T_4915fb60_1228_11eb_98f0_0242ac1c0002row7_col14,#T_4915fb60_1228_11eb_98f0_0242ac1c0002row14_col2{\n",
              "            background-color:  #e599a8;\n",
              "            color:  #000000;\n",
              "            max-width:  80px;\n",
              "            font-size:  10pt;\n",
              "        }#T_4915fb60_1228_11eb_98f0_0242ac1c0002row5_col14{\n",
              "            background-color:  #eabbc4;\n",
              "            color:  #000000;\n",
              "            max-width:  80px;\n",
              "            font-size:  10pt;\n",
              "        }#T_4915fb60_1228_11eb_98f0_0242ac1c0002row5_col15,#T_4915fb60_1228_11eb_98f0_0242ac1c0002row8_col3{\n",
              "            background-color:  #e9b2bd;\n",
              "            color:  #000000;\n",
              "            max-width:  80px;\n",
              "            font-size:  10pt;\n",
              "        }#T_4915fb60_1228_11eb_98f0_0242ac1c0002row6_col1,#T_4915fb60_1228_11eb_98f0_0242ac1c0002row7_col11{\n",
              "            background-color:  #e28698;\n",
              "            color:  #000000;\n",
              "            max-width:  80px;\n",
              "            font-size:  10pt;\n",
              "        }#T_4915fb60_1228_11eb_98f0_0242ac1c0002row6_col4,#T_4915fb60_1228_11eb_98f0_0242ac1c0002row6_col8,#T_4915fb60_1228_11eb_98f0_0242ac1c0002row11_col10,#T_4915fb60_1228_11eb_98f0_0242ac1c0002row13_col3{\n",
              "            background-color:  #e69caa;\n",
              "            color:  #000000;\n",
              "            max-width:  80px;\n",
              "            font-size:  10pt;\n",
              "        }#T_4915fb60_1228_11eb_98f0_0242ac1c0002row6_col5,#T_4915fb60_1228_11eb_98f0_0242ac1c0002row10_col6{\n",
              "            background-color:  #e17a8f;\n",
              "            color:  #000000;\n",
              "            max-width:  80px;\n",
              "            font-size:  10pt;\n",
              "        }#T_4915fb60_1228_11eb_98f0_0242ac1c0002row6_col9,#T_4915fb60_1228_11eb_98f0_0242ac1c0002row10_col1,#T_4915fb60_1228_11eb_98f0_0242ac1c0002row12_col10{\n",
              "            background-color:  #e59aa9;\n",
              "            color:  #000000;\n",
              "            max-width:  80px;\n",
              "            font-size:  10pt;\n",
              "        }#T_4915fb60_1228_11eb_98f0_0242ac1c0002row6_col11,#T_4915fb60_1228_11eb_98f0_0242ac1c0002row10_col0{\n",
              "            background-color:  #e491a1;\n",
              "            color:  #000000;\n",
              "            max-width:  80px;\n",
              "            font-size:  10pt;\n",
              "        }#T_4915fb60_1228_11eb_98f0_0242ac1c0002row6_col15,#T_4915fb60_1228_11eb_98f0_0242ac1c0002row7_col6,#T_4915fb60_1228_11eb_98f0_0242ac1c0002row10_col15,#T_4915fb60_1228_11eb_98f0_0242ac1c0002row15_col1{\n",
              "            background-color:  #e3889a;\n",
              "            color:  #000000;\n",
              "            max-width:  80px;\n",
              "            font-size:  10pt;\n",
              "        }#T_4915fb60_1228_11eb_98f0_0242ac1c0002row7_col10,#T_4915fb60_1228_11eb_98f0_0242ac1c0002row9_col0{\n",
              "            background-color:  #e595a5;\n",
              "            color:  #000000;\n",
              "            max-width:  80px;\n",
              "            font-size:  10pt;\n",
              "        }#T_4915fb60_1228_11eb_98f0_0242ac1c0002row7_col15{\n",
              "            background-color:  #dd657d;\n",
              "            color:  #000000;\n",
              "            max-width:  80px;\n",
              "            font-size:  10pt;\n",
              "        }#T_4915fb60_1228_11eb_98f0_0242ac1c0002row8_col1{\n",
              "            background-color:  #eed2d7;\n",
              "            color:  #000000;\n",
              "            max-width:  80px;\n",
              "            font-size:  10pt;\n",
              "        }#T_4915fb60_1228_11eb_98f0_0242ac1c0002row8_col2{\n",
              "            background-color:  #efdde0;\n",
              "            color:  #000000;\n",
              "            max-width:  80px;\n",
              "            font-size:  10pt;\n",
              "        }#T_4915fb60_1228_11eb_98f0_0242ac1c0002row8_col4{\n",
              "            background-color:  #f2eff0;\n",
              "            color:  #000000;\n",
              "            max-width:  80px;\n",
              "            font-size:  10pt;\n",
              "        }#T_4915fb60_1228_11eb_98f0_0242ac1c0002row8_col6{\n",
              "            background-color:  #ebc1c9;\n",
              "            color:  #000000;\n",
              "            max-width:  80px;\n",
              "            font-size:  10pt;\n",
              "        }#T_4915fb60_1228_11eb_98f0_0242ac1c0002row8_col9{\n",
              "            background-color:  #f2f1f1;\n",
              "            color:  #000000;\n",
              "            max-width:  80px;\n",
              "            font-size:  10pt;\n",
              "        }#T_4915fb60_1228_11eb_98f0_0242ac1c0002row8_col10,#T_4915fb60_1228_11eb_98f0_0242ac1c0002row10_col9,#T_4915fb60_1228_11eb_98f0_0242ac1c0002row13_col9{\n",
              "            background-color:  #eab7c1;\n",
              "            color:  #000000;\n",
              "            max-width:  80px;\n",
              "            font-size:  10pt;\n",
              "        }#T_4915fb60_1228_11eb_98f0_0242ac1c0002row8_col12{\n",
              "            background-color:  #ebbec6;\n",
              "            color:  #000000;\n",
              "            max-width:  80px;\n",
              "            font-size:  10pt;\n",
              "        }#T_4915fb60_1228_11eb_98f0_0242ac1c0002row8_col13{\n",
              "            background-color:  #eabcc5;\n",
              "            color:  #000000;\n",
              "            max-width:  80px;\n",
              "            font-size:  10pt;\n",
              "        }#T_4915fb60_1228_11eb_98f0_0242ac1c0002row8_col14{\n",
              "            background-color:  #eab8c2;\n",
              "            color:  #000000;\n",
              "            max-width:  80px;\n",
              "            font-size:  10pt;\n",
              "        }#T_4915fb60_1228_11eb_98f0_0242ac1c0002row9_col2{\n",
              "            background-color:  #dc5b75;\n",
              "            color:  #000000;\n",
              "            max-width:  80px;\n",
              "            font-size:  10pt;\n",
              "        }#T_4915fb60_1228_11eb_98f0_0242ac1c0002row9_col4,#T_4915fb60_1228_11eb_98f0_0242ac1c0002row9_col11{\n",
              "            background-color:  #e597a7;\n",
              "            color:  #000000;\n",
              "            max-width:  80px;\n",
              "            font-size:  10pt;\n",
              "        }#T_4915fb60_1228_11eb_98f0_0242ac1c0002row9_col7{\n",
              "            background-color:  #d84462;\n",
              "            color:  #f1f1f1;\n",
              "            max-width:  80px;\n",
              "            font-size:  10pt;\n",
              "        }#T_4915fb60_1228_11eb_98f0_0242ac1c0002row9_col8{\n",
              "            background-color:  #eab9c3;\n",
              "            color:  #000000;\n",
              "            max-width:  80px;\n",
              "            font-size:  10pt;\n",
              "        }#T_4915fb60_1228_11eb_98f0_0242ac1c0002row9_col10,#T_4915fb60_1228_11eb_98f0_0242ac1c0002row9_col13{\n",
              "            background-color:  #e8aeba;\n",
              "            color:  #000000;\n",
              "            max-width:  80px;\n",
              "            font-size:  10pt;\n",
              "        }#T_4915fb60_1228_11eb_98f0_0242ac1c0002row9_col15{\n",
              "            background-color:  #99b4d6;\n",
              "            color:  #000000;\n",
              "            max-width:  80px;\n",
              "            font-size:  10pt;\n",
              "        }#T_4915fb60_1228_11eb_98f0_0242ac1c0002row10_col5,#T_4915fb60_1228_11eb_98f0_0242ac1c0002row11_col8{\n",
              "            background-color:  #dd6179;\n",
              "            color:  #000000;\n",
              "            max-width:  80px;\n",
              "            font-size:  10pt;\n",
              "        }#T_4915fb60_1228_11eb_98f0_0242ac1c0002row10_col11,#T_4915fb60_1228_11eb_98f0_0242ac1c0002row10_col13,#T_4915fb60_1228_11eb_98f0_0242ac1c0002row13_col10{\n",
              "            background-color:  #e9afbb;\n",
              "            color:  #000000;\n",
              "            max-width:  80px;\n",
              "            font-size:  10pt;\n",
              "        }#T_4915fb60_1228_11eb_98f0_0242ac1c0002row10_col14,#T_4915fb60_1228_11eb_98f0_0242ac1c0002row11_col12,#T_4915fb60_1228_11eb_98f0_0242ac1c0002row15_col11{\n",
              "            background-color:  #de6c83;\n",
              "            color:  #000000;\n",
              "            max-width:  80px;\n",
              "            font-size:  10pt;\n",
              "        }#T_4915fb60_1228_11eb_98f0_0242ac1c0002row11_col3{\n",
              "            background-color:  #df6f85;\n",
              "            color:  #000000;\n",
              "            max-width:  80px;\n",
              "            font-size:  10pt;\n",
              "        }#T_4915fb60_1228_11eb_98f0_0242ac1c0002row11_col5{\n",
              "            background-color:  #d94a67;\n",
              "            color:  #000000;\n",
              "            max-width:  80px;\n",
              "            font-size:  10pt;\n",
              "        }#T_4915fb60_1228_11eb_98f0_0242ac1c0002row11_col6,#T_4915fb60_1228_11eb_98f0_0242ac1c0002row12_col7{\n",
              "            background-color:  #dd637c;\n",
              "            color:  #000000;\n",
              "            max-width:  80px;\n",
              "            font-size:  10pt;\n",
              "        }#T_4915fb60_1228_11eb_98f0_0242ac1c0002row11_col9{\n",
              "            background-color:  #e38b9d;\n",
              "            color:  #000000;\n",
              "            max-width:  80px;\n",
              "            font-size:  10pt;\n",
              "        }#T_4915fb60_1228_11eb_98f0_0242ac1c0002row12_col2{\n",
              "            background-color:  #dd627b;\n",
              "            color:  #000000;\n",
              "            max-width:  80px;\n",
              "            font-size:  10pt;\n",
              "        }#T_4915fb60_1228_11eb_98f0_0242ac1c0002row12_col3{\n",
              "            background-color:  #eff0f2;\n",
              "            color:  #000000;\n",
              "            max-width:  80px;\n",
              "            font-size:  10pt;\n",
              "        }#T_4915fb60_1228_11eb_98f0_0242ac1c0002row12_col4{\n",
              "            background-color:  #e0748a;\n",
              "            color:  #000000;\n",
              "            max-width:  80px;\n",
              "            font-size:  10pt;\n",
              "        }#T_4915fb60_1228_11eb_98f0_0242ac1c0002row12_col8,#T_4915fb60_1228_11eb_98f0_0242ac1c0002row12_col11,#T_4915fb60_1228_11eb_98f0_0242ac1c0002row14_col9{\n",
              "            background-color:  #e17c90;\n",
              "            color:  #000000;\n",
              "            max-width:  80px;\n",
              "            font-size:  10pt;\n",
              "        }#T_4915fb60_1228_11eb_98f0_0242ac1c0002row12_col13{\n",
              "            background-color:  #95b1d5;\n",
              "            color:  #000000;\n",
              "            max-width:  80px;\n",
              "            font-size:  10pt;\n",
              "        }#T_4915fb60_1228_11eb_98f0_0242ac1c0002row12_col14{\n",
              "            background-color:  #e2e7ee;\n",
              "            color:  #000000;\n",
              "            max-width:  80px;\n",
              "            font-size:  10pt;\n",
              "        }#T_4915fb60_1228_11eb_98f0_0242ac1c0002row12_col15{\n",
              "            background-color:  #d73d5c;\n",
              "            color:  #f1f1f1;\n",
              "            max-width:  80px;\n",
              "            font-size:  10pt;\n",
              "        }#T_4915fb60_1228_11eb_98f0_0242ac1c0002row13_col5,#T_4915fb60_1228_11eb_98f0_0242ac1c0002row15_col13{\n",
              "            background-color:  #db546f;\n",
              "            color:  #000000;\n",
              "            max-width:  80px;\n",
              "            font-size:  10pt;\n",
              "        }#T_4915fb60_1228_11eb_98f0_0242ac1c0002row13_col7{\n",
              "            background-color:  #dd5f78;\n",
              "            color:  #000000;\n",
              "            max-width:  80px;\n",
              "            font-size:  10pt;\n",
              "        }#T_4915fb60_1228_11eb_98f0_0242ac1c0002row13_col12{\n",
              "            background-color:  #94b0d4;\n",
              "            color:  #000000;\n",
              "            max-width:  80px;\n",
              "            font-size:  10pt;\n",
              "        }#T_4915fb60_1228_11eb_98f0_0242ac1c0002row14_col3{\n",
              "            background-color:  #dbe2eb;\n",
              "            color:  #000000;\n",
              "            max-width:  80px;\n",
              "            font-size:  10pt;\n",
              "        }#T_4915fb60_1228_11eb_98f0_0242ac1c0002row14_col12{\n",
              "            background-color:  #dae1eb;\n",
              "            color:  #000000;\n",
              "            max-width:  80px;\n",
              "            font-size:  10pt;\n",
              "        }#T_4915fb60_1228_11eb_98f0_0242ac1c0002row15_col9{\n",
              "            background-color:  #98b3d6;\n",
              "            color:  #000000;\n",
              "            max-width:  80px;\n",
              "            font-size:  10pt;\n",
              "        }</style><table id=\"T_4915fb60_1228_11eb_98f0_0242ac1c0002\" ><caption>Hover to magify</caption><thead>    <tr>        <th class=\"blank level0\" ></th>        <th class=\"col_heading level0 col0\" >Status</th>        <th class=\"col_heading level0 col1\" >Seniority</th>        <th class=\"col_heading level0 col2\" >Home</th>        <th class=\"col_heading level0 col3\" >Time</th>        <th class=\"col_heading level0 col4\" >Age</th>        <th class=\"col_heading level0 col5\" >Marital</th>        <th class=\"col_heading level0 col6\" >Records</th>        <th class=\"col_heading level0 col7\" >Job</th>        <th class=\"col_heading level0 col8\" >Expenses</th>        <th class=\"col_heading level0 col9\" >Income</th>        <th class=\"col_heading level0 col10\" >Assets</th>        <th class=\"col_heading level0 col11\" >Debt</th>        <th class=\"col_heading level0 col12\" >Amount</th>        <th class=\"col_heading level0 col13\" >Price</th>        <th class=\"col_heading level0 col14\" >Finrat</th>        <th class=\"col_heading level0 col15\" >Savings</th>    </tr></thead><tbody>\n",
              "                <tr>\n",
              "                        <th id=\"T_4915fb60_1228_11eb_98f0_0242ac1c0002level0_row0\" class=\"row_heading level0 row0\" >Status</th>\n",
              "                        <td id=\"T_4915fb60_1228_11eb_98f0_0242ac1c0002row0_col0\" class=\"data row0 col0\" >1.000</td>\n",
              "                        <td id=\"T_4915fb60_1228_11eb_98f0_0242ac1c0002row0_col1\" class=\"data row0 col1\" >0.260</td>\n",
              "                        <td id=\"T_4915fb60_1228_11eb_98f0_0242ac1c0002row0_col2\" class=\"data row0 col2\" >-0.123</td>\n",
              "                        <td id=\"T_4915fb60_1228_11eb_98f0_0242ac1c0002row0_col3\" class=\"data row0 col3\" >-0.101</td>\n",
              "                        <td id=\"T_4915fb60_1228_11eb_98f0_0242ac1c0002row0_col4\" class=\"data row0 col4\" >0.095</td>\n",
              "                        <td id=\"T_4915fb60_1228_11eb_98f0_0242ac1c0002row0_col5\" class=\"data row0 col5\" >-0.073</td>\n",
              "                        <td id=\"T_4915fb60_1228_11eb_98f0_0242ac1c0002row0_col6\" class=\"data row0 col6\" >-0.278</td>\n",
              "                        <td id=\"T_4915fb60_1228_11eb_98f0_0242ac1c0002row0_col7\" class=\"data row0 col7\" >-0.268</td>\n",
              "                        <td id=\"T_4915fb60_1228_11eb_98f0_0242ac1c0002row0_col8\" class=\"data row0 col8\" >-0.030</td>\n",
              "                        <td id=\"T_4915fb60_1228_11eb_98f0_0242ac1c0002row0_col9\" class=\"data row0 col9\" >0.144</td>\n",
              "                        <td id=\"T_4915fb60_1228_11eb_98f0_0242ac1c0002row0_col10\" class=\"data row0 col10\" >0.097</td>\n",
              "                        <td id=\"T_4915fb60_1228_11eb_98f0_0242ac1c0002row0_col11\" class=\"data row0 col11\" >-0.010</td>\n",
              "                        <td id=\"T_4915fb60_1228_11eb_98f0_0242ac1c0002row0_col12\" class=\"data row0 col12\" >-0.154</td>\n",
              "                        <td id=\"T_4915fb60_1228_11eb_98f0_0242ac1c0002row0_col13\" class=\"data row0 col13\" >-0.010</td>\n",
              "                        <td id=\"T_4915fb60_1228_11eb_98f0_0242ac1c0002row0_col14\" class=\"data row0 col14\" >-0.222</td>\n",
              "                        <td id=\"T_4915fb60_1228_11eb_98f0_0242ac1c0002row0_col15\" class=\"data row0 col15\" >0.186</td>\n",
              "            </tr>\n",
              "            <tr>\n",
              "                        <th id=\"T_4915fb60_1228_11eb_98f0_0242ac1c0002level0_row1\" class=\"row_heading level0 row1\" >Seniority</th>\n",
              "                        <td id=\"T_4915fb60_1228_11eb_98f0_0242ac1c0002row1_col0\" class=\"data row1 col0\" >0.260</td>\n",
              "                        <td id=\"T_4915fb60_1228_11eb_98f0_0242ac1c0002row1_col1\" class=\"data row1 col1\" >1.000</td>\n",
              "                        <td id=\"T_4915fb60_1228_11eb_98f0_0242ac1c0002row1_col2\" class=\"data row1 col2\" >-0.121</td>\n",
              "                        <td id=\"T_4915fb60_1228_11eb_98f0_0242ac1c0002row1_col3\" class=\"data row1 col3\" >-0.022</td>\n",
              "                        <td id=\"T_4915fb60_1228_11eb_98f0_0242ac1c0002row1_col4\" class=\"data row1 col4\" >0.506</td>\n",
              "                        <td id=\"T_4915fb60_1228_11eb_98f0_0242ac1c0002row1_col5\" class=\"data row1 col5\" >-0.229</td>\n",
              "                        <td id=\"T_4915fb60_1228_11eb_98f0_0242ac1c0002row1_col6\" class=\"data row1 col6\" >-0.016</td>\n",
              "                        <td id=\"T_4915fb60_1228_11eb_98f0_0242ac1c0002row1_col7\" class=\"data row1 col7\" >-0.271</td>\n",
              "                        <td id=\"T_4915fb60_1228_11eb_98f0_0242ac1c0002row1_col8\" class=\"data row1 col8\" >0.126</td>\n",
              "                        <td id=\"T_4915fb60_1228_11eb_98f0_0242ac1c0002row1_col9\" class=\"data row1 col9\" >0.121</td>\n",
              "                        <td id=\"T_4915fb60_1228_11eb_98f0_0242ac1c0002row1_col10\" class=\"data row1 col10\" >0.124</td>\n",
              "                        <td id=\"T_4915fb60_1228_11eb_98f0_0242ac1c0002row1_col11\" class=\"data row1 col11\" >-0.019</td>\n",
              "                        <td id=\"T_4915fb60_1228_11eb_98f0_0242ac1c0002row1_col12\" class=\"data row1 col12\" >-0.008</td>\n",
              "                        <td id=\"T_4915fb60_1228_11eb_98f0_0242ac1c0002row1_col13\" class=\"data row1 col13\" >0.041</td>\n",
              "                        <td id=\"T_4915fb60_1228_11eb_98f0_0242ac1c0002row1_col14\" class=\"data row1 col14\" >-0.073</td>\n",
              "                        <td id=\"T_4915fb60_1228_11eb_98f0_0242ac1c0002row1_col15\" class=\"data row1 col15\" >0.093</td>\n",
              "            </tr>\n",
              "            <tr>\n",
              "                        <th id=\"T_4915fb60_1228_11eb_98f0_0242ac1c0002level0_row2\" class=\"row_heading level0 row2\" >Home</th>\n",
              "                        <td id=\"T_4915fb60_1228_11eb_98f0_0242ac1c0002row2_col0\" class=\"data row2 col0\" >-0.123</td>\n",
              "                        <td id=\"T_4915fb60_1228_11eb_98f0_0242ac1c0002row2_col1\" class=\"data row2 col1\" >-0.121</td>\n",
              "                        <td id=\"T_4915fb60_1228_11eb_98f0_0242ac1c0002row2_col2\" class=\"data row2 col2\" >1.000</td>\n",
              "                        <td id=\"T_4915fb60_1228_11eb_98f0_0242ac1c0002row2_col3\" class=\"data row2 col3\" >0.041</td>\n",
              "                        <td id=\"T_4915fb60_1228_11eb_98f0_0242ac1c0002row2_col4\" class=\"data row2 col4\" >-0.108</td>\n",
              "                        <td id=\"T_4915fb60_1228_11eb_98f0_0242ac1c0002row2_col5\" class=\"data row2 col5\" >0.052</td>\n",
              "                        <td id=\"T_4915fb60_1228_11eb_98f0_0242ac1c0002row2_col6\" class=\"data row2 col6\" >0.020</td>\n",
              "                        <td id=\"T_4915fb60_1228_11eb_98f0_0242ac1c0002row2_col7\" class=\"data row2 col7\" >0.016</td>\n",
              "                        <td id=\"T_4915fb60_1228_11eb_98f0_0242ac1c0002row2_col8\" class=\"data row2 col8\" >0.176</td>\n",
              "                        <td id=\"T_4915fb60_1228_11eb_98f0_0242ac1c0002row2_col9\" class=\"data row2 col9\" >-0.039</td>\n",
              "                        <td id=\"T_4915fb60_1228_11eb_98f0_0242ac1c0002row2_col10\" class=\"data row2 col10\" >-0.183</td>\n",
              "                        <td id=\"T_4915fb60_1228_11eb_98f0_0242ac1c0002row2_col11\" class=\"data row2 col11\" >-0.098</td>\n",
              "                        <td id=\"T_4915fb60_1228_11eb_98f0_0242ac1c0002row2_col12\" class=\"data row2 col12\" >-0.032</td>\n",
              "                        <td id=\"T_4915fb60_1228_11eb_98f0_0242ac1c0002row2_col13\" class=\"data row2 col13\" >-0.087</td>\n",
              "                        <td id=\"T_4915fb60_1228_11eb_98f0_0242ac1c0002row2_col14\" class=\"data row2 col14\" >0.089</td>\n",
              "                        <td id=\"T_4915fb60_1228_11eb_98f0_0242ac1c0002row2_col15\" class=\"data row2 col15\" >-0.041</td>\n",
              "            </tr>\n",
              "            <tr>\n",
              "                        <th id=\"T_4915fb60_1228_11eb_98f0_0242ac1c0002level0_row3\" class=\"row_heading level0 row3\" >Time</th>\n",
              "                        <td id=\"T_4915fb60_1228_11eb_98f0_0242ac1c0002row3_col0\" class=\"data row3 col0\" >-0.101</td>\n",
              "                        <td id=\"T_4915fb60_1228_11eb_98f0_0242ac1c0002row3_col1\" class=\"data row3 col1\" >-0.022</td>\n",
              "                        <td id=\"T_4915fb60_1228_11eb_98f0_0242ac1c0002row3_col2\" class=\"data row3 col2\" >0.041</td>\n",
              "                        <td id=\"T_4915fb60_1228_11eb_98f0_0242ac1c0002row3_col3\" class=\"data row3 col3\" >1.000</td>\n",
              "                        <td id=\"T_4915fb60_1228_11eb_98f0_0242ac1c0002row3_col4\" class=\"data row3 col4\" >-0.052</td>\n",
              "                        <td id=\"T_4915fb60_1228_11eb_98f0_0242ac1c0002row3_col5\" class=\"data row3 col5\" >-0.039</td>\n",
              "                        <td id=\"T_4915fb60_1228_11eb_98f0_0242ac1c0002row3_col6\" class=\"data row3 col6\" >0.028</td>\n",
              "                        <td id=\"T_4915fb60_1228_11eb_98f0_0242ac1c0002row3_col7\" class=\"data row3 col7\" >-0.077</td>\n",
              "                        <td id=\"T_4915fb60_1228_11eb_98f0_0242ac1c0002row3_col8\" class=\"data row3 col8\" >-0.002</td>\n",
              "                        <td id=\"T_4915fb60_1228_11eb_98f0_0242ac1c0002row3_col9\" class=\"data row3 col9\" >-0.030</td>\n",
              "                        <td id=\"T_4915fb60_1228_11eb_98f0_0242ac1c0002row3_col10\" class=\"data row3 col10\" >-0.083</td>\n",
              "                        <td id=\"T_4915fb60_1228_11eb_98f0_0242ac1c0002row3_col11\" class=\"data row3 col11\" >0.058</td>\n",
              "                        <td id=\"T_4915fb60_1228_11eb_98f0_0242ac1c0002row3_col12\" class=\"data row3 col12\" >0.431</td>\n",
              "                        <td id=\"T_4915fb60_1228_11eb_98f0_0242ac1c0002row3_col13\" class=\"data row3 col13\" >0.130</td>\n",
              "                        <td id=\"T_4915fb60_1228_11eb_98f0_0242ac1c0002row3_col14\" class=\"data row3 col14\" >0.469</td>\n",
              "                        <td id=\"T_4915fb60_1228_11eb_98f0_0242ac1c0002row3_col15\" class=\"data row3 col15\" >0.102</td>\n",
              "            </tr>\n",
              "            <tr>\n",
              "                        <th id=\"T_4915fb60_1228_11eb_98f0_0242ac1c0002level0_row4\" class=\"row_heading level0 row4\" >Age</th>\n",
              "                        <td id=\"T_4915fb60_1228_11eb_98f0_0242ac1c0002row4_col0\" class=\"data row4 col0\" >0.095</td>\n",
              "                        <td id=\"T_4915fb60_1228_11eb_98f0_0242ac1c0002row4_col1\" class=\"data row4 col1\" >0.506</td>\n",
              "                        <td id=\"T_4915fb60_1228_11eb_98f0_0242ac1c0002row4_col2\" class=\"data row4 col2\" >-0.108</td>\n",
              "                        <td id=\"T_4915fb60_1228_11eb_98f0_0242ac1c0002row4_col3\" class=\"data row4 col3\" >-0.052</td>\n",
              "                        <td id=\"T_4915fb60_1228_11eb_98f0_0242ac1c0002row4_col4\" class=\"data row4 col4\" >1.000</td>\n",
              "                        <td id=\"T_4915fb60_1228_11eb_98f0_0242ac1c0002row4_col5\" class=\"data row4 col5\" >-0.358</td>\n",
              "                        <td id=\"T_4915fb60_1228_11eb_98f0_0242ac1c0002row4_col6\" class=\"data row4 col6\" >0.060</td>\n",
              "                        <td id=\"T_4915fb60_1228_11eb_98f0_0242ac1c0002row4_col7\" class=\"data row4 col7\" >-0.061</td>\n",
              "                        <td id=\"T_4915fb60_1228_11eb_98f0_0242ac1c0002row4_col8\" class=\"data row4 col8\" >0.248</td>\n",
              "                        <td id=\"T_4915fb60_1228_11eb_98f0_0242ac1c0002row4_col9\" class=\"data row4 col9\" >0.148</td>\n",
              "                        <td id=\"T_4915fb60_1228_11eb_98f0_0242ac1c0002row4_col10\" class=\"data row4 col10\" >0.181</td>\n",
              "                        <td id=\"T_4915fb60_1228_11eb_98f0_0242ac1c0002row4_col11\" class=\"data row4 col11\" >-0.046</td>\n",
              "                        <td id=\"T_4915fb60_1228_11eb_98f0_0242ac1c0002row4_col12\" class=\"data row4 col12\" >0.029</td>\n",
              "                        <td id=\"T_4915fb60_1228_11eb_98f0_0242ac1c0002row4_col13\" class=\"data row4 col13\" >0.049</td>\n",
              "                        <td id=\"T_4915fb60_1228_11eb_98f0_0242ac1c0002row4_col14\" class=\"data row4 col14\" >-0.035</td>\n",
              "                        <td id=\"T_4915fb60_1228_11eb_98f0_0242ac1c0002row4_col15\" class=\"data row4 col15\" >0.062</td>\n",
              "            </tr>\n",
              "            <tr>\n",
              "                        <th id=\"T_4915fb60_1228_11eb_98f0_0242ac1c0002level0_row5\" class=\"row_heading level0 row5\" >Marital</th>\n",
              "                        <td id=\"T_4915fb60_1228_11eb_98f0_0242ac1c0002row5_col0\" class=\"data row5 col0\" >-0.073</td>\n",
              "                        <td id=\"T_4915fb60_1228_11eb_98f0_0242ac1c0002row5_col1\" class=\"data row5 col1\" >-0.229</td>\n",
              "                        <td id=\"T_4915fb60_1228_11eb_98f0_0242ac1c0002row5_col2\" class=\"data row5 col2\" >0.052</td>\n",
              "                        <td id=\"T_4915fb60_1228_11eb_98f0_0242ac1c0002row5_col3\" class=\"data row5 col3\" >-0.039</td>\n",
              "                        <td id=\"T_4915fb60_1228_11eb_98f0_0242ac1c0002row5_col4\" class=\"data row5 col4\" >-0.358</td>\n",
              "                        <td id=\"T_4915fb60_1228_11eb_98f0_0242ac1c0002row5_col5\" class=\"data row5 col5\" >1.000</td>\n",
              "                        <td id=\"T_4915fb60_1228_11eb_98f0_0242ac1c0002row5_col6\" class=\"data row5 col6\" >-0.054</td>\n",
              "                        <td id=\"T_4915fb60_1228_11eb_98f0_0242ac1c0002row5_col7\" class=\"data row5 col7\" >0.106</td>\n",
              "                        <td id=\"T_4915fb60_1228_11eb_98f0_0242ac1c0002row5_col8\" class=\"data row5 col8\" >-0.484</td>\n",
              "                        <td id=\"T_4915fb60_1228_11eb_98f0_0242ac1c0002row5_col9\" class=\"data row5 col9\" >-0.141</td>\n",
              "                        <td id=\"T_4915fb60_1228_11eb_98f0_0242ac1c0002row5_col10\" class=\"data row5 col10\" >-0.062</td>\n",
              "                        <td id=\"T_4915fb60_1228_11eb_98f0_0242ac1c0002row5_col11\" class=\"data row5 col11\" >-0.054</td>\n",
              "                        <td id=\"T_4915fb60_1228_11eb_98f0_0242ac1c0002row5_col12\" class=\"data row5 col12\" >-0.072</td>\n",
              "                        <td id=\"T_4915fb60_1228_11eb_98f0_0242ac1c0002row5_col13\" class=\"data row5 col13\" >-0.102</td>\n",
              "                        <td id=\"T_4915fb60_1228_11eb_98f0_0242ac1c0002row5_col14\" class=\"data row5 col14\" >0.033</td>\n",
              "                        <td id=\"T_4915fb60_1228_11eb_98f0_0242ac1c0002row5_col15\" class=\"data row5 col15\" >0.000</td>\n",
              "            </tr>\n",
              "            <tr>\n",
              "                        <th id=\"T_4915fb60_1228_11eb_98f0_0242ac1c0002level0_row6\" class=\"row_heading level0 row6\" >Records</th>\n",
              "                        <td id=\"T_4915fb60_1228_11eb_98f0_0242ac1c0002row6_col0\" class=\"data row6 col0\" >-0.278</td>\n",
              "                        <td id=\"T_4915fb60_1228_11eb_98f0_0242ac1c0002row6_col1\" class=\"data row6 col1\" >-0.016</td>\n",
              "                        <td id=\"T_4915fb60_1228_11eb_98f0_0242ac1c0002row6_col2\" class=\"data row6 col2\" >0.020</td>\n",
              "                        <td id=\"T_4915fb60_1228_11eb_98f0_0242ac1c0002row6_col3\" class=\"data row6 col3\" >0.028</td>\n",
              "                        <td id=\"T_4915fb60_1228_11eb_98f0_0242ac1c0002row6_col4\" class=\"data row6 col4\" >0.060</td>\n",
              "                        <td id=\"T_4915fb60_1228_11eb_98f0_0242ac1c0002row6_col5\" class=\"data row6 col5\" >-0.054</td>\n",
              "                        <td id=\"T_4915fb60_1228_11eb_98f0_0242ac1c0002row6_col6\" class=\"data row6 col6\" >1.000</td>\n",
              "                        <td id=\"T_4915fb60_1228_11eb_98f0_0242ac1c0002row6_col7\" class=\"data row6 col7\" >-0.000</td>\n",
              "                        <td id=\"T_4915fb60_1228_11eb_98f0_0242ac1c0002row6_col8\" class=\"data row6 col8\" >0.058</td>\n",
              "                        <td id=\"T_4915fb60_1228_11eb_98f0_0242ac1c0002row6_col9\" class=\"data row6 col9\" >0.053</td>\n",
              "                        <td id=\"T_4915fb60_1228_11eb_98f0_0242ac1c0002row6_col10\" class=\"data row6 col10\" >0.021</td>\n",
              "                        <td id=\"T_4915fb60_1228_11eb_98f0_0242ac1c0002row6_col11\" class=\"data row6 col11\" >0.023</td>\n",
              "                        <td id=\"T_4915fb60_1228_11eb_98f0_0242ac1c0002row6_col12\" class=\"data row6 col12\" >0.111</td>\n",
              "                        <td id=\"T_4915fb60_1228_11eb_98f0_0242ac1c0002row6_col13\" class=\"data row6 col13\" >0.085</td>\n",
              "                        <td id=\"T_4915fb60_1228_11eb_98f0_0242ac1c0002row6_col14\" class=\"data row6 col14\" >0.051</td>\n",
              "                        <td id=\"T_4915fb60_1228_11eb_98f0_0242ac1c0002row6_col15\" class=\"data row6 col15\" >-0.003</td>\n",
              "            </tr>\n",
              "            <tr>\n",
              "                        <th id=\"T_4915fb60_1228_11eb_98f0_0242ac1c0002level0_row7\" class=\"row_heading level0 row7\" >Job</th>\n",
              "                        <td id=\"T_4915fb60_1228_11eb_98f0_0242ac1c0002row7_col0\" class=\"data row7 col0\" >-0.268</td>\n",
              "                        <td id=\"T_4915fb60_1228_11eb_98f0_0242ac1c0002row7_col1\" class=\"data row7 col1\" >-0.271</td>\n",
              "                        <td id=\"T_4915fb60_1228_11eb_98f0_0242ac1c0002row7_col2\" class=\"data row7 col2\" >0.016</td>\n",
              "                        <td id=\"T_4915fb60_1228_11eb_98f0_0242ac1c0002row7_col3\" class=\"data row7 col3\" >-0.077</td>\n",
              "                        <td id=\"T_4915fb60_1228_11eb_98f0_0242ac1c0002row7_col4\" class=\"data row7 col4\" >-0.061</td>\n",
              "                        <td id=\"T_4915fb60_1228_11eb_98f0_0242ac1c0002row7_col5\" class=\"data row7 col5\" >0.106</td>\n",
              "                        <td id=\"T_4915fb60_1228_11eb_98f0_0242ac1c0002row7_col6\" class=\"data row7 col6\" >-0.000</td>\n",
              "                        <td id=\"T_4915fb60_1228_11eb_98f0_0242ac1c0002row7_col7\" class=\"data row7 col7\" >1.000</td>\n",
              "                        <td id=\"T_4915fb60_1228_11eb_98f0_0242ac1c0002row7_col8\" class=\"data row7 col8\" >-0.064</td>\n",
              "                        <td id=\"T_4915fb60_1228_11eb_98f0_0242ac1c0002row7_col9\" class=\"data row7 col9\" >-0.111</td>\n",
              "                        <td id=\"T_4915fb60_1228_11eb_98f0_0242ac1c0002row7_col10\" class=\"data row7 col10\" >0.045</td>\n",
              "                        <td id=\"T_4915fb60_1228_11eb_98f0_0242ac1c0002row7_col11\" class=\"data row7 col11\" >-0.010</td>\n",
              "                        <td id=\"T_4915fb60_1228_11eb_98f0_0242ac1c0002row7_col12\" class=\"data row7 col12\" >-0.026</td>\n",
              "                        <td id=\"T_4915fb60_1228_11eb_98f0_0242ac1c0002row7_col13\" class=\"data row7 col13\" >-0.063</td>\n",
              "                        <td id=\"T_4915fb60_1228_11eb_98f0_0242ac1c0002row7_col14\" class=\"data row7 col14\" >0.052</td>\n",
              "                        <td id=\"T_4915fb60_1228_11eb_98f0_0242ac1c0002row7_col15\" class=\"data row7 col15\" >-0.123</td>\n",
              "            </tr>\n",
              "            <tr>\n",
              "                        <th id=\"T_4915fb60_1228_11eb_98f0_0242ac1c0002level0_row8\" class=\"row_heading level0 row8\" >Expenses</th>\n",
              "                        <td id=\"T_4915fb60_1228_11eb_98f0_0242ac1c0002row8_col0\" class=\"data row8 col0\" >-0.030</td>\n",
              "                        <td id=\"T_4915fb60_1228_11eb_98f0_0242ac1c0002row8_col1\" class=\"data row8 col1\" >0.126</td>\n",
              "                        <td id=\"T_4915fb60_1228_11eb_98f0_0242ac1c0002row8_col2\" class=\"data row8 col2\" >0.176</td>\n",
              "                        <td id=\"T_4915fb60_1228_11eb_98f0_0242ac1c0002row8_col3\" class=\"data row8 col3\" >-0.002</td>\n",
              "                        <td id=\"T_4915fb60_1228_11eb_98f0_0242ac1c0002row8_col4\" class=\"data row8 col4\" >0.248</td>\n",
              "                        <td id=\"T_4915fb60_1228_11eb_98f0_0242ac1c0002row8_col5\" class=\"data row8 col5\" >-0.484</td>\n",
              "                        <td id=\"T_4915fb60_1228_11eb_98f0_0242ac1c0002row8_col6\" class=\"data row8 col6\" >0.058</td>\n",
              "                        <td id=\"T_4915fb60_1228_11eb_98f0_0242ac1c0002row8_col7\" class=\"data row8 col7\" >-0.064</td>\n",
              "                        <td id=\"T_4915fb60_1228_11eb_98f0_0242ac1c0002row8_col8\" class=\"data row8 col8\" >1.000</td>\n",
              "                        <td id=\"T_4915fb60_1228_11eb_98f0_0242ac1c0002row8_col9\" class=\"data row8 col9\" >0.255</td>\n",
              "                        <td id=\"T_4915fb60_1228_11eb_98f0_0242ac1c0002row8_col10\" class=\"data row8 col10\" >0.019</td>\n",
              "                        <td id=\"T_4915fb60_1228_11eb_98f0_0242ac1c0002row8_col11\" class=\"data row8 col11\" >0.015</td>\n",
              "                        <td id=\"T_4915fb60_1228_11eb_98f0_0242ac1c0002row8_col12\" class=\"data row8 col12\" >0.050</td>\n",
              "                        <td id=\"T_4915fb60_1228_11eb_98f0_0242ac1c0002row8_col13\" class=\"data row8 col13\" >0.041</td>\n",
              "                        <td id=\"T_4915fb60_1228_11eb_98f0_0242ac1c0002row8_col14\" class=\"data row8 col14\" >0.025</td>\n",
              "                        <td id=\"T_4915fb60_1228_11eb_98f0_0242ac1c0002row8_col15\" class=\"data row8 col15\" >-0.038</td>\n",
              "            </tr>\n",
              "            <tr>\n",
              "                        <th id=\"T_4915fb60_1228_11eb_98f0_0242ac1c0002level0_row9\" class=\"row_heading level0 row9\" >Income</th>\n",
              "                        <td id=\"T_4915fb60_1228_11eb_98f0_0242ac1c0002row9_col0\" class=\"data row9 col0\" >0.144</td>\n",
              "                        <td id=\"T_4915fb60_1228_11eb_98f0_0242ac1c0002row9_col1\" class=\"data row9 col1\" >0.121</td>\n",
              "                        <td id=\"T_4915fb60_1228_11eb_98f0_0242ac1c0002row9_col2\" class=\"data row9 col2\" >-0.039</td>\n",
              "                        <td id=\"T_4915fb60_1228_11eb_98f0_0242ac1c0002row9_col3\" class=\"data row9 col3\" >-0.030</td>\n",
              "                        <td id=\"T_4915fb60_1228_11eb_98f0_0242ac1c0002row9_col4\" class=\"data row9 col4\" >0.148</td>\n",
              "                        <td id=\"T_4915fb60_1228_11eb_98f0_0242ac1c0002row9_col5\" class=\"data row9 col5\" >-0.141</td>\n",
              "                        <td id=\"T_4915fb60_1228_11eb_98f0_0242ac1c0002row9_col6\" class=\"data row9 col6\" >0.053</td>\n",
              "                        <td id=\"T_4915fb60_1228_11eb_98f0_0242ac1c0002row9_col7\" class=\"data row9 col7\" >-0.111</td>\n",
              "                        <td id=\"T_4915fb60_1228_11eb_98f0_0242ac1c0002row9_col8\" class=\"data row9 col8\" >0.255</td>\n",
              "                        <td id=\"T_4915fb60_1228_11eb_98f0_0242ac1c0002row9_col9\" class=\"data row9 col9\" >1.000</td>\n",
              "                        <td id=\"T_4915fb60_1228_11eb_98f0_0242ac1c0002row9_col10\" class=\"data row9 col10\" >0.219</td>\n",
              "                        <td id=\"T_4915fb60_1228_11eb_98f0_0242ac1c0002row9_col11\" class=\"data row9 col11\" >0.145</td>\n",
              "                        <td id=\"T_4915fb60_1228_11eb_98f0_0242ac1c0002row9_col12\" class=\"data row9 col12\" >0.191</td>\n",
              "                        <td id=\"T_4915fb60_1228_11eb_98f0_0242ac1c0002row9_col13\" class=\"data row9 col13\" >0.218</td>\n",
              "                        <td id=\"T_4915fb60_1228_11eb_98f0_0242ac1c0002row9_col14\" class=\"data row9 col14\" >-0.003</td>\n",
              "                        <td id=\"T_4915fb60_1228_11eb_98f0_0242ac1c0002row9_col15\" class=\"data row9 col15\" >0.718</td>\n",
              "            </tr>\n",
              "            <tr>\n",
              "                        <th id=\"T_4915fb60_1228_11eb_98f0_0242ac1c0002level0_row10\" class=\"row_heading level0 row10\" >Assets</th>\n",
              "                        <td id=\"T_4915fb60_1228_11eb_98f0_0242ac1c0002row10_col0\" class=\"data row10 col0\" >0.097</td>\n",
              "                        <td id=\"T_4915fb60_1228_11eb_98f0_0242ac1c0002row10_col1\" class=\"data row10 col1\" >0.124</td>\n",
              "                        <td id=\"T_4915fb60_1228_11eb_98f0_0242ac1c0002row10_col2\" class=\"data row10 col2\" >-0.183</td>\n",
              "                        <td id=\"T_4915fb60_1228_11eb_98f0_0242ac1c0002row10_col3\" class=\"data row10 col3\" >-0.083</td>\n",
              "                        <td id=\"T_4915fb60_1228_11eb_98f0_0242ac1c0002row10_col4\" class=\"data row10 col4\" >0.181</td>\n",
              "                        <td id=\"T_4915fb60_1228_11eb_98f0_0242ac1c0002row10_col5\" class=\"data row10 col5\" >-0.062</td>\n",
              "                        <td id=\"T_4915fb60_1228_11eb_98f0_0242ac1c0002row10_col6\" class=\"data row10 col6\" >0.021</td>\n",
              "                        <td id=\"T_4915fb60_1228_11eb_98f0_0242ac1c0002row10_col7\" class=\"data row10 col7\" >0.045</td>\n",
              "                        <td id=\"T_4915fb60_1228_11eb_98f0_0242ac1c0002row10_col8\" class=\"data row10 col8\" >0.019</td>\n",
              "                        <td id=\"T_4915fb60_1228_11eb_98f0_0242ac1c0002row10_col9\" class=\"data row10 col9\" >0.219</td>\n",
              "                        <td id=\"T_4915fb60_1228_11eb_98f0_0242ac1c0002row10_col10\" class=\"data row10 col10\" >1.000</td>\n",
              "                        <td id=\"T_4915fb60_1228_11eb_98f0_0242ac1c0002row10_col11\" class=\"data row10 col11\" >0.192</td>\n",
              "                        <td id=\"T_4915fb60_1228_11eb_98f0_0242ac1c0002row10_col12\" class=\"data row10 col12\" >0.144</td>\n",
              "                        <td id=\"T_4915fb60_1228_11eb_98f0_0242ac1c0002row10_col13\" class=\"data row10 col13\" >0.195</td>\n",
              "                        <td id=\"T_4915fb60_1228_11eb_98f0_0242ac1c0002row10_col14\" class=\"data row10 col14\" >-0.025</td>\n",
              "                        <td id=\"T_4915fb60_1228_11eb_98f0_0242ac1c0002row10_col15\" class=\"data row10 col15\" >0.067</td>\n",
              "            </tr>\n",
              "            <tr>\n",
              "                        <th id=\"T_4915fb60_1228_11eb_98f0_0242ac1c0002level0_row11\" class=\"row_heading level0 row11\" >Debt</th>\n",
              "                        <td id=\"T_4915fb60_1228_11eb_98f0_0242ac1c0002row11_col0\" class=\"data row11 col0\" >-0.010</td>\n",
              "                        <td id=\"T_4915fb60_1228_11eb_98f0_0242ac1c0002row11_col1\" class=\"data row11 col1\" >-0.019</td>\n",
              "                        <td id=\"T_4915fb60_1228_11eb_98f0_0242ac1c0002row11_col2\" class=\"data row11 col2\" >-0.098</td>\n",
              "                        <td id=\"T_4915fb60_1228_11eb_98f0_0242ac1c0002row11_col3\" class=\"data row11 col3\" >0.058</td>\n",
              "                        <td id=\"T_4915fb60_1228_11eb_98f0_0242ac1c0002row11_col4\" class=\"data row11 col4\" >-0.046</td>\n",
              "                        <td id=\"T_4915fb60_1228_11eb_98f0_0242ac1c0002row11_col5\" class=\"data row11 col5\" >-0.054</td>\n",
              "                        <td id=\"T_4915fb60_1228_11eb_98f0_0242ac1c0002row11_col6\" class=\"data row11 col6\" >0.023</td>\n",
              "                        <td id=\"T_4915fb60_1228_11eb_98f0_0242ac1c0002row11_col7\" class=\"data row11 col7\" >-0.010</td>\n",
              "                        <td id=\"T_4915fb60_1228_11eb_98f0_0242ac1c0002row11_col8\" class=\"data row11 col8\" >0.015</td>\n",
              "                        <td id=\"T_4915fb60_1228_11eb_98f0_0242ac1c0002row11_col9\" class=\"data row11 col9\" >0.145</td>\n",
              "                        <td id=\"T_4915fb60_1228_11eb_98f0_0242ac1c0002row11_col10\" class=\"data row11 col10\" >0.192</td>\n",
              "                        <td id=\"T_4915fb60_1228_11eb_98f0_0242ac1c0002row11_col11\" class=\"data row11 col11\" >1.000</td>\n",
              "                        <td id=\"T_4915fb60_1228_11eb_98f0_0242ac1c0002row11_col12\" class=\"data row11 col12\" >0.051</td>\n",
              "                        <td id=\"T_4915fb60_1228_11eb_98f0_0242ac1c0002row11_col13\" class=\"data row11 col13\" >0.044</td>\n",
              "                        <td id=\"T_4915fb60_1228_11eb_98f0_0242ac1c0002row11_col14\" class=\"data row11 col14\" >0.009</td>\n",
              "                        <td id=\"T_4915fb60_1228_11eb_98f0_0242ac1c0002row11_col15\" class=\"data row11 col15\" >0.005</td>\n",
              "            </tr>\n",
              "            <tr>\n",
              "                        <th id=\"T_4915fb60_1228_11eb_98f0_0242ac1c0002level0_row12\" class=\"row_heading level0 row12\" >Amount</th>\n",
              "                        <td id=\"T_4915fb60_1228_11eb_98f0_0242ac1c0002row12_col0\" class=\"data row12 col0\" >-0.154</td>\n",
              "                        <td id=\"T_4915fb60_1228_11eb_98f0_0242ac1c0002row12_col1\" class=\"data row12 col1\" >-0.008</td>\n",
              "                        <td id=\"T_4915fb60_1228_11eb_98f0_0242ac1c0002row12_col2\" class=\"data row12 col2\" >-0.032</td>\n",
              "                        <td id=\"T_4915fb60_1228_11eb_98f0_0242ac1c0002row12_col3\" class=\"data row12 col3\" >0.431</td>\n",
              "                        <td id=\"T_4915fb60_1228_11eb_98f0_0242ac1c0002row12_col4\" class=\"data row12 col4\" >0.029</td>\n",
              "                        <td id=\"T_4915fb60_1228_11eb_98f0_0242ac1c0002row12_col5\" class=\"data row12 col5\" >-0.072</td>\n",
              "                        <td id=\"T_4915fb60_1228_11eb_98f0_0242ac1c0002row12_col6\" class=\"data row12 col6\" >0.111</td>\n",
              "                        <td id=\"T_4915fb60_1228_11eb_98f0_0242ac1c0002row12_col7\" class=\"data row12 col7\" >-0.026</td>\n",
              "                        <td id=\"T_4915fb60_1228_11eb_98f0_0242ac1c0002row12_col8\" class=\"data row12 col8\" >0.050</td>\n",
              "                        <td id=\"T_4915fb60_1228_11eb_98f0_0242ac1c0002row12_col9\" class=\"data row12 col9\" >0.191</td>\n",
              "                        <td id=\"T_4915fb60_1228_11eb_98f0_0242ac1c0002row12_col10\" class=\"data row12 col10\" >0.144</td>\n",
              "                        <td id=\"T_4915fb60_1228_11eb_98f0_0242ac1c0002row12_col11\" class=\"data row12 col11\" >0.051</td>\n",
              "                        <td id=\"T_4915fb60_1228_11eb_98f0_0242ac1c0002row12_col12\" class=\"data row12 col12\" >1.000</td>\n",
              "                        <td id=\"T_4915fb60_1228_11eb_98f0_0242ac1c0002row12_col13\" class=\"data row12 col13\" >0.725</td>\n",
              "                        <td id=\"T_4915fb60_1228_11eb_98f0_0242ac1c0002row12_col14\" class=\"data row12 col14\" >0.474</td>\n",
              "                        <td id=\"T_4915fb60_1228_11eb_98f0_0242ac1c0002row12_col15\" class=\"data row12 col15\" >-0.149</td>\n",
              "            </tr>\n",
              "            <tr>\n",
              "                        <th id=\"T_4915fb60_1228_11eb_98f0_0242ac1c0002level0_row13\" class=\"row_heading level0 row13\" >Price</th>\n",
              "                        <td id=\"T_4915fb60_1228_11eb_98f0_0242ac1c0002row13_col0\" class=\"data row13 col0\" >-0.010</td>\n",
              "                        <td id=\"T_4915fb60_1228_11eb_98f0_0242ac1c0002row13_col1\" class=\"data row13 col1\" >0.041</td>\n",
              "                        <td id=\"T_4915fb60_1228_11eb_98f0_0242ac1c0002row13_col2\" class=\"data row13 col2\" >-0.087</td>\n",
              "                        <td id=\"T_4915fb60_1228_11eb_98f0_0242ac1c0002row13_col3\" class=\"data row13 col3\" >0.130</td>\n",
              "                        <td id=\"T_4915fb60_1228_11eb_98f0_0242ac1c0002row13_col4\" class=\"data row13 col4\" >0.049</td>\n",
              "                        <td id=\"T_4915fb60_1228_11eb_98f0_0242ac1c0002row13_col5\" class=\"data row13 col5\" >-0.102</td>\n",
              "                        <td id=\"T_4915fb60_1228_11eb_98f0_0242ac1c0002row13_col6\" class=\"data row13 col6\" >0.085</td>\n",
              "                        <td id=\"T_4915fb60_1228_11eb_98f0_0242ac1c0002row13_col7\" class=\"data row13 col7\" >-0.063</td>\n",
              "                        <td id=\"T_4915fb60_1228_11eb_98f0_0242ac1c0002row13_col8\" class=\"data row13 col8\" >0.041</td>\n",
              "                        <td id=\"T_4915fb60_1228_11eb_98f0_0242ac1c0002row13_col9\" class=\"data row13 col9\" >0.218</td>\n",
              "                        <td id=\"T_4915fb60_1228_11eb_98f0_0242ac1c0002row13_col10\" class=\"data row13 col10\" >0.195</td>\n",
              "                        <td id=\"T_4915fb60_1228_11eb_98f0_0242ac1c0002row13_col11\" class=\"data row13 col11\" >0.044</td>\n",
              "                        <td id=\"T_4915fb60_1228_11eb_98f0_0242ac1c0002row13_col12\" class=\"data row13 col12\" >0.725</td>\n",
              "                        <td id=\"T_4915fb60_1228_11eb_98f0_0242ac1c0002row13_col13\" class=\"data row13 col13\" >1.000</td>\n",
              "                        <td id=\"T_4915fb60_1228_11eb_98f0_0242ac1c0002row13_col14\" class=\"data row13 col14\" >-0.181</td>\n",
              "                        <td id=\"T_4915fb60_1228_11eb_98f0_0242ac1c0002row13_col15\" class=\"data row13 col15\" >-0.070</td>\n",
              "            </tr>\n",
              "            <tr>\n",
              "                        <th id=\"T_4915fb60_1228_11eb_98f0_0242ac1c0002level0_row14\" class=\"row_heading level0 row14\" >Finrat</th>\n",
              "                        <td id=\"T_4915fb60_1228_11eb_98f0_0242ac1c0002row14_col0\" class=\"data row14 col0\" >-0.222</td>\n",
              "                        <td id=\"T_4915fb60_1228_11eb_98f0_0242ac1c0002row14_col1\" class=\"data row14 col1\" >-0.073</td>\n",
              "                        <td id=\"T_4915fb60_1228_11eb_98f0_0242ac1c0002row14_col2\" class=\"data row14 col2\" >0.089</td>\n",
              "                        <td id=\"T_4915fb60_1228_11eb_98f0_0242ac1c0002row14_col3\" class=\"data row14 col3\" >0.469</td>\n",
              "                        <td id=\"T_4915fb60_1228_11eb_98f0_0242ac1c0002row14_col4\" class=\"data row14 col4\" >-0.035</td>\n",
              "                        <td id=\"T_4915fb60_1228_11eb_98f0_0242ac1c0002row14_col5\" class=\"data row14 col5\" >0.033</td>\n",
              "                        <td id=\"T_4915fb60_1228_11eb_98f0_0242ac1c0002row14_col6\" class=\"data row14 col6\" >0.051</td>\n",
              "                        <td id=\"T_4915fb60_1228_11eb_98f0_0242ac1c0002row14_col7\" class=\"data row14 col7\" >0.052</td>\n",
              "                        <td id=\"T_4915fb60_1228_11eb_98f0_0242ac1c0002row14_col8\" class=\"data row14 col8\" >0.025</td>\n",
              "                        <td id=\"T_4915fb60_1228_11eb_98f0_0242ac1c0002row14_col9\" class=\"data row14 col9\" >-0.003</td>\n",
              "                        <td id=\"T_4915fb60_1228_11eb_98f0_0242ac1c0002row14_col10\" class=\"data row14 col10\" >-0.025</td>\n",
              "                        <td id=\"T_4915fb60_1228_11eb_98f0_0242ac1c0002row14_col11\" class=\"data row14 col11\" >0.009</td>\n",
              "                        <td id=\"T_4915fb60_1228_11eb_98f0_0242ac1c0002row14_col12\" class=\"data row14 col12\" >0.474</td>\n",
              "                        <td id=\"T_4915fb60_1228_11eb_98f0_0242ac1c0002row14_col13\" class=\"data row14 col13\" >-0.181</td>\n",
              "                        <td id=\"T_4915fb60_1228_11eb_98f0_0242ac1c0002row14_col14\" class=\"data row14 col14\" >1.000</td>\n",
              "                        <td id=\"T_4915fb60_1228_11eb_98f0_0242ac1c0002row14_col15\" class=\"data row14 col15\" >-0.123</td>\n",
              "            </tr>\n",
              "            <tr>\n",
              "                        <th id=\"T_4915fb60_1228_11eb_98f0_0242ac1c0002level0_row15\" class=\"row_heading level0 row15\" >Savings</th>\n",
              "                        <td id=\"T_4915fb60_1228_11eb_98f0_0242ac1c0002row15_col0\" class=\"data row15 col0\" >0.186</td>\n",
              "                        <td id=\"T_4915fb60_1228_11eb_98f0_0242ac1c0002row15_col1\" class=\"data row15 col1\" >0.093</td>\n",
              "                        <td id=\"T_4915fb60_1228_11eb_98f0_0242ac1c0002row15_col2\" class=\"data row15 col2\" >-0.041</td>\n",
              "                        <td id=\"T_4915fb60_1228_11eb_98f0_0242ac1c0002row15_col3\" class=\"data row15 col3\" >0.102</td>\n",
              "                        <td id=\"T_4915fb60_1228_11eb_98f0_0242ac1c0002row15_col4\" class=\"data row15 col4\" >0.062</td>\n",
              "                        <td id=\"T_4915fb60_1228_11eb_98f0_0242ac1c0002row15_col5\" class=\"data row15 col5\" >0.000</td>\n",
              "                        <td id=\"T_4915fb60_1228_11eb_98f0_0242ac1c0002row15_col6\" class=\"data row15 col6\" >-0.003</td>\n",
              "                        <td id=\"T_4915fb60_1228_11eb_98f0_0242ac1c0002row15_col7\" class=\"data row15 col7\" >-0.123</td>\n",
              "                        <td id=\"T_4915fb60_1228_11eb_98f0_0242ac1c0002row15_col8\" class=\"data row15 col8\" >-0.038</td>\n",
              "                        <td id=\"T_4915fb60_1228_11eb_98f0_0242ac1c0002row15_col9\" class=\"data row15 col9\" >0.718</td>\n",
              "                        <td id=\"T_4915fb60_1228_11eb_98f0_0242ac1c0002row15_col10\" class=\"data row15 col10\" >0.067</td>\n",
              "                        <td id=\"T_4915fb60_1228_11eb_98f0_0242ac1c0002row15_col11\" class=\"data row15 col11\" >0.005</td>\n",
              "                        <td id=\"T_4915fb60_1228_11eb_98f0_0242ac1c0002row15_col12\" class=\"data row15 col12\" >-0.149</td>\n",
              "                        <td id=\"T_4915fb60_1228_11eb_98f0_0242ac1c0002row15_col13\" class=\"data row15 col13\" >-0.070</td>\n",
              "                        <td id=\"T_4915fb60_1228_11eb_98f0_0242ac1c0002row15_col14\" class=\"data row15 col14\" >-0.123</td>\n",
              "                        <td id=\"T_4915fb60_1228_11eb_98f0_0242ac1c0002row15_col15\" class=\"data row15 col15\" >1.000</td>\n",
              "            </tr>\n",
              "    </tbody></table>"
            ],
            "text/plain": [
              "<pandas.io.formats.style.Styler at 0x7fa148adf198>"
            ]
          },
          "metadata": {
            "tags": []
          },
          "execution_count": 145
        }
      ]
    },
    {
      "cell_type": "markdown",
      "metadata": {
        "id": "klEHN4b40lLU"
      },
      "source": [
        "##### Dummy variables are \"proxy\" variables or numeric stand-ins for qualitative facts in a regression model. In regression analysis, the dependent variables may be influenced not only by quantitative variables (income, output, prices, etc.), but also by qualitative variables (gender, religion, geographic region, etc.). A dummy independent variable (also called a dummy explanatory variable) which for some observation has a value of 0 will cause that variable's coefficient to have no role in influencing the dependent variable, while when the dummy takes on a value 1 its coefficient acts to alter the intercept. For example, suppose membership in a group is one of the qualitative variables relevant to a regression. If group membership is arbitrarily assigned the value of 1, then all others would get the value 0."
      ]
    },
    {
      "cell_type": "markdown",
      "metadata": {
        "id": "-UhGwjHi0lLU"
      },
      "source": [
        "## Histogram Plots of all the Features in the Dataset"
      ]
    },
    {
      "cell_type": "code",
      "metadata": {
        "id": "tIQ_-N3M0lLU",
        "outputId": "a95af5b8-475c-47aa-995b-b9d767904447",
        "colab": {
          "base_uri": "https://localhost:8080/",
          "height": 879
        }
      },
      "source": [
        "num_bins = 10\n",
        "\n",
        "data.hist(bins = num_bins, figsize=(20,15))\n",
        "plt.savefig(\"Data_Histogram_Plots\")\n",
        "# plt.show()"
      ],
      "execution_count": 146,
      "outputs": [
        {
          "output_type": "display_data",
          "data": {
            "image/png": "[encoded data removed]",
            "text/plain": [
              "<Figure size 1440x1080 with 16 Axes>"
            ]
          },
          "metadata": {
            "tags": [],
            "needs_background": "light"
          }
        }
      ]
    },
    {
      "cell_type": "markdown",
      "metadata": {
        "id": "k5mrj7-o0lLW"
      },
      "source": [
        "## Scatterplots"
      ]
    },
    {
      "cell_type": "code",
      "metadata": {
        "id": "rQC5Nlz017aI",
        "outputId": "899559a6-05e3-40f6-e47f-6d6d3d408ca2",
        "colab": {
          "base_uri": "https://localhost:8080/",
          "height": 1000
        }
      },
      "source": [
        "columns = ['Status', 'Seniority', 'Home', 'Time', 'Age', 'Marital', 'Records', 'Job', 'Expenses', 'Income', 'Assets', 'Debt', 'Amount', 'Price', 'Finrat', 'Savings']\n",
        "data.plot.scatter(x=columns[0], y=columns[14])\n",
        "data.plot.hexbin(x=columns[0], y=columns[14], gridsize=10)\n",
        "data.plot.scatter(x=columns[0], y=columns[15])\n",
        "data.plot.hexbin(x=columns[0], y=columns[15], gridsize=25)\n",
        "plt.show()"
      ],
      "execution_count": 147,
      "outputs": [
        {
          "output_type": "display_data",
          "data": {
            "image/png": "[encoded data removed]",
            "text/plain": [
              "<Figure size 432x288 with 1 Axes>"
            ]
          },
          "metadata": {
            "tags": [],
            "needs_background": "light"
          }
        },
        {
          "output_type": "display_data",
          "data": {
            "image/png": "[encoded data removed]",
            "text/plain": [
              "<Figure size 432x288 with 2 Axes>"
            ]
          },
          "metadata": {
            "tags": [],
            "needs_background": "light"
          }
        },
        {
          "output_type": "display_data",
          "data": {
            "image/png": "[encoded data removed]",
            "text/plain": [
              "<Figure size 432x288 with 1 Axes>"
            ]
          },
          "metadata": {
            "tags": [],
            "needs_background": "light"
          }
        },
        {
          "output_type": "display_data",
          "data": {
            "image/png": "[encoded data removed]",
            "text/plain": [
              "<Figure size 432x288 with 2 Axes>"
            ]
          },
          "metadata": {
            "tags": [],
            "needs_background": "light"
          }
        }
      ]
    },
    {
      "cell_type": "markdown",
      "metadata": {
        "id": "af2-GqdE0lLX"
      },
      "source": [
        "## Creating Dummy Variables"
      ]
    },
    {
      "cell_type": "code",
      "metadata": {
        "id": "ruWwDkkQ0lLY",
        "outputId": "58bafa40-8d81-48f4-c2c4-cab1a336212f",
        "colab": {
          "base_uri": "https://localhost:8080/",
          "height": 301
        }
      },
      "source": [
        "list( data.columns )"
      ],
      "execution_count": 148,
      "outputs": [
        {
          "output_type": "execute_result",
          "data": {
            "text/plain": [
              "['Status',\n",
              " 'Seniority',\n",
              " 'Home',\n",
              " 'Time',\n",
              " 'Age',\n",
              " 'Marital',\n",
              " 'Records',\n",
              " 'Job',\n",
              " 'Expenses',\n",
              " 'Income',\n",
              " 'Assets',\n",
              " 'Debt',\n",
              " 'Amount',\n",
              " 'Price',\n",
              " 'Finrat',\n",
              " 'Savings']"
            ]
          },
          "metadata": {
            "tags": []
          },
          "execution_count": 148
        }
      ]
    },
    {
      "cell_type": "code",
      "metadata": {
        "id": "q6hjUDI30lLa",
        "outputId": "f3d4c886-7bc8-4123-dea0-410d0de015a1",
        "colab": {
          "base_uri": "https://localhost:8080/",
          "height": 284
        }
      },
      "source": [
        "X = list( data.columns )\n",
        "X.remove( 'Status' )\n",
        "X"
      ],
      "execution_count": 149,
      "outputs": [
        {
          "output_type": "execute_result",
          "data": {
            "text/plain": [
              "['Seniority',\n",
              " 'Home',\n",
              " 'Time',\n",
              " 'Age',\n",
              " 'Marital',\n",
              " 'Records',\n",
              " 'Job',\n",
              " 'Expenses',\n",
              " 'Income',\n",
              " 'Assets',\n",
              " 'Debt',\n",
              " 'Amount',\n",
              " 'Price',\n",
              " 'Finrat',\n",
              " 'Savings']"
            ]
          },
          "metadata": {
            "tags": []
          },
          "execution_count": 149
        }
      ]
    },
    {
      "cell_type": "code",
      "metadata": {
        "id": "BfK8mMbc0lLd"
      },
      "source": [
        "Y = data['Status']"
      ],
      "execution_count": 150,
      "outputs": []
    },
    {
      "cell_type": "code",
      "metadata": {
        "id": "qrPC7yb_0lLf",
        "outputId": "e0222c85-ae1a-4e62-9eb1-557f0da387db",
        "colab": {
          "base_uri": "https://localhost:8080/",
          "height": 35
        }
      },
      "source": [
        "credit_data = pd.get_dummies( data[X], drop_first = True )\n",
        "len( credit_data.columns )"
      ],
      "execution_count": 151,
      "outputs": [
        {
          "output_type": "execute_result",
          "data": {
            "text/plain": [
              "15"
            ]
          },
          "metadata": {
            "tags": []
          },
          "execution_count": 151
        }
      ]
    },
    {
      "cell_type": "code",
      "metadata": {
        "id": "IEHIz14B0lLh"
      },
      "source": [
        "### Splitting Dataset into 'Training' and 'Testing' Dataset\n",
        "from sklearn.model_selection import train_test_split\n",
        "X_train, X_test, y_train, y_test = train_test_split( data[X], Y, test_size = 0.3, random_state = 42 )"
      ],
      "execution_count": 152,
      "outputs": []
    },
    {
      "cell_type": "code",
      "metadata": {
        "id": "w6egBmtPshSh",
        "outputId": "fb0816aa-e7ed-4657-c984-0f0fa3dd2429",
        "colab": {
          "base_uri": "https://localhost:8080/",
          "height": 399
        }
      },
      "source": [
        "X_test"
      ],
      "execution_count": 157,
      "outputs": [
        {
          "output_type": "execute_result",
          "data": {
            "text/html": [
              "<div>\n",
              "<style scoped>\n",
              "    .dataframe tbody tr th:only-of-type {\n",
              "        vertical-align: middle;\n",
              "    }\n",
              "\n",
              "    .dataframe tbody tr th {\n",
              "        vertical-align: top;\n",
              "    }\n",
              "\n",
              "    .dataframe thead th {\n",
              "        text-align: right;\n",
              "    }\n",
              "</style>\n",
              "<table border=\"1\" class=\"dataframe\">\n",
              "  <thead>\n",
              "    <tr style=\"text-align: right;\">\n",
              "      <th></th>\n",
              "      <th>Seniority</th>\n",
              "      <th>Home</th>\n",
              "      <th>Time</th>\n",
              "      <th>Age</th>\n",
              "      <th>Marital</th>\n",
              "      <th>Records</th>\n",
              "      <th>Job</th>\n",
              "      <th>Expenses</th>\n",
              "      <th>Income</th>\n",
              "      <th>Assets</th>\n",
              "      <th>Debt</th>\n",
              "      <th>Amount</th>\n",
              "      <th>Price</th>\n",
              "      <th>Finrat</th>\n",
              "      <th>Savings</th>\n",
              "    </tr>\n",
              "  </thead>\n",
              "  <tbody>\n",
              "    <tr>\n",
              "      <th>3286</th>\n",
              "      <td>3</td>\n",
              "      <td>3</td>\n",
              "      <td>60</td>\n",
              "      <td>26</td>\n",
              "      <td>3</td>\n",
              "      <td>0</td>\n",
              "      <td>0</td>\n",
              "      <td>35</td>\n",
              "      <td>83</td>\n",
              "      <td>0</td>\n",
              "      <td>0</td>\n",
              "      <td>1050</td>\n",
              "      <td>1156</td>\n",
              "      <td>90.830450</td>\n",
              "      <td>2.742857</td>\n",
              "    </tr>\n",
              "    <tr>\n",
              "      <th>1550</th>\n",
              "      <td>10</td>\n",
              "      <td>5</td>\n",
              "      <td>60</td>\n",
              "      <td>37</td>\n",
              "      <td>1</td>\n",
              "      <td>0</td>\n",
              "      <td>0</td>\n",
              "      <td>85</td>\n",
              "      <td>96</td>\n",
              "      <td>4000</td>\n",
              "      <td>850</td>\n",
              "      <td>1100</td>\n",
              "      <td>1340</td>\n",
              "      <td>82.089552</td>\n",
              "      <td>0.136364</td>\n",
              "    </tr>\n",
              "    <tr>\n",
              "      <th>1103</th>\n",
              "      <td>4</td>\n",
              "      <td>2</td>\n",
              "      <td>60</td>\n",
              "      <td>36</td>\n",
              "      <td>1</td>\n",
              "      <td>1</td>\n",
              "      <td>0</td>\n",
              "      <td>75</td>\n",
              "      <td>236</td>\n",
              "      <td>3750</td>\n",
              "      <td>2000</td>\n",
              "      <td>1500</td>\n",
              "      <td>1615</td>\n",
              "      <td>92.879257</td>\n",
              "      <td>5.640000</td>\n",
              "    </tr>\n",
              "    <tr>\n",
              "      <th>2301</th>\n",
              "      <td>22</td>\n",
              "      <td>2</td>\n",
              "      <td>12</td>\n",
              "      <td>45</td>\n",
              "      <td>1</td>\n",
              "      <td>0</td>\n",
              "      <td>0</td>\n",
              "      <td>60</td>\n",
              "      <td>100</td>\n",
              "      <td>3000</td>\n",
              "      <td>0</td>\n",
              "      <td>400</td>\n",
              "      <td>1531</td>\n",
              "      <td>26.126715</td>\n",
              "      <td>1.200000</td>\n",
              "    </tr>\n",
              "    <tr>\n",
              "      <th>1001</th>\n",
              "      <td>5</td>\n",
              "      <td>1</td>\n",
              "      <td>48</td>\n",
              "      <td>32</td>\n",
              "      <td>1</td>\n",
              "      <td>1</td>\n",
              "      <td>0</td>\n",
              "      <td>45</td>\n",
              "      <td>225</td>\n",
              "      <td>0</td>\n",
              "      <td>0</td>\n",
              "      <td>1000</td>\n",
              "      <td>1812</td>\n",
              "      <td>55.187638</td>\n",
              "      <td>8.640000</td>\n",
              "    </tr>\n",
              "    <tr>\n",
              "      <th>...</th>\n",
              "      <td>...</td>\n",
              "      <td>...</td>\n",
              "      <td>...</td>\n",
              "      <td>...</td>\n",
              "      <td>...</td>\n",
              "      <td>...</td>\n",
              "      <td>...</td>\n",
              "      <td>...</td>\n",
              "      <td>...</td>\n",
              "      <td>...</td>\n",
              "      <td>...</td>\n",
              "      <td>...</td>\n",
              "      <td>...</td>\n",
              "      <td>...</td>\n",
              "      <td>...</td>\n",
              "    </tr>\n",
              "    <tr>\n",
              "      <th>1278</th>\n",
              "      <td>20</td>\n",
              "      <td>4</td>\n",
              "      <td>60</td>\n",
              "      <td>39</td>\n",
              "      <td>1</td>\n",
              "      <td>0</td>\n",
              "      <td>0</td>\n",
              "      <td>90</td>\n",
              "      <td>159</td>\n",
              "      <td>2000</td>\n",
              "      <td>0</td>\n",
              "      <td>750</td>\n",
              "      <td>790</td>\n",
              "      <td>94.936709</td>\n",
              "      <td>5.520000</td>\n",
              "    </tr>\n",
              "    <tr>\n",
              "      <th>4128</th>\n",
              "      <td>5</td>\n",
              "      <td>3</td>\n",
              "      <td>24</td>\n",
              "      <td>26</td>\n",
              "      <td>3</td>\n",
              "      <td>1</td>\n",
              "      <td>0</td>\n",
              "      <td>35</td>\n",
              "      <td>104</td>\n",
              "      <td>0</td>\n",
              "      <td>0</td>\n",
              "      <td>1000</td>\n",
              "      <td>1314</td>\n",
              "      <td>76.103501</td>\n",
              "      <td>1.656000</td>\n",
              "    </tr>\n",
              "    <tr>\n",
              "      <th>3605</th>\n",
              "      <td>10</td>\n",
              "      <td>3</td>\n",
              "      <td>48</td>\n",
              "      <td>28</td>\n",
              "      <td>3</td>\n",
              "      <td>0</td>\n",
              "      <td>0</td>\n",
              "      <td>35</td>\n",
              "      <td>135</td>\n",
              "      <td>6000</td>\n",
              "      <td>0</td>\n",
              "      <td>1500</td>\n",
              "      <td>2164</td>\n",
              "      <td>69.316081</td>\n",
              "      <td>3.200000</td>\n",
              "    </tr>\n",
              "    <tr>\n",
              "      <th>2258</th>\n",
              "      <td>0</td>\n",
              "      <td>2</td>\n",
              "      <td>60</td>\n",
              "      <td>38</td>\n",
              "      <td>1</td>\n",
              "      <td>1</td>\n",
              "      <td>3</td>\n",
              "      <td>75</td>\n",
              "      <td>120</td>\n",
              "      <td>3500</td>\n",
              "      <td>0</td>\n",
              "      <td>1500</td>\n",
              "      <td>1702</td>\n",
              "      <td>88.131610</td>\n",
              "      <td>1.800000</td>\n",
              "    </tr>\n",
              "    <tr>\n",
              "      <th>67</th>\n",
              "      <td>9</td>\n",
              "      <td>2</td>\n",
              "      <td>60</td>\n",
              "      <td>53</td>\n",
              "      <td>1</td>\n",
              "      <td>0</td>\n",
              "      <td>0</td>\n",
              "      <td>45</td>\n",
              "      <td>170</td>\n",
              "      <td>2500</td>\n",
              "      <td>0</td>\n",
              "      <td>850</td>\n",
              "      <td>1205</td>\n",
              "      <td>70.539419</td>\n",
              "      <td>8.823529</td>\n",
              "    </tr>\n",
              "  </tbody>\n",
              "</table>\n",
              "<p>1334 rows × 15 columns</p>\n",
              "</div>"
            ],
            "text/plain": [
              "      Seniority  Home  Time  Age  ...  Amount  Price     Finrat   Savings\n",
              "3286          3     3    60   26  ...    1050   1156  90.830450  2.742857\n",
              "1550         10     5    60   37  ...    1100   1340  82.089552  0.136364\n",
              "1103          4     2    60   36  ...    1500   1615  92.879257  5.640000\n",
              "2301         22     2    12   45  ...     400   1531  26.126715  1.200000\n",
              "1001          5     1    48   32  ...    1000   1812  55.187638  8.640000\n",
              "...         ...   ...   ...  ...  ...     ...    ...        ...       ...\n",
              "1278         20     4    60   39  ...     750    790  94.936709  5.520000\n",
              "4128          5     3    24   26  ...    1000   1314  76.103501  1.656000\n",
              "3605         10     3    48   28  ...    1500   2164  69.316081  3.200000\n",
              "2258          0     2    60   38  ...    1500   1702  88.131610  1.800000\n",
              "67            9     2    60   53  ...     850   1205  70.539419  8.823529\n",
              "\n",
              "[1334 rows x 15 columns]"
            ]
          },
          "metadata": {
            "tags": []
          },
          "execution_count": 157
        }
      ]
    },
    {
      "cell_type": "code",
      "metadata": {
        "id": "3soyjXHPsjwG"
      },
      "source": [
        "abc=sm.add_constant( X_test )"
      ],
      "execution_count": 155,
      "outputs": []
    },
    {
      "cell_type": "code",
      "metadata": {
        "id": "ZczHakbgsjzm",
        "outputId": "0e35e85b-baf6-437c-c1a1-beec55c3da03",
        "colab": {
          "base_uri": "https://localhost:8080/",
          "height": 399
        }
      },
      "source": [
        "abc"
      ],
      "execution_count": 156,
      "outputs": [
        {
          "output_type": "execute_result",
          "data": {
            "text/html": [
              "<div>\n",
              "<style scoped>\n",
              "    .dataframe tbody tr th:only-of-type {\n",
              "        vertical-align: middle;\n",
              "    }\n",
              "\n",
              "    .dataframe tbody tr th {\n",
              "        vertical-align: top;\n",
              "    }\n",
              "\n",
              "    .dataframe thead th {\n",
              "        text-align: right;\n",
              "    }\n",
              "</style>\n",
              "<table border=\"1\" class=\"dataframe\">\n",
              "  <thead>\n",
              "    <tr style=\"text-align: right;\">\n",
              "      <th></th>\n",
              "      <th>const</th>\n",
              "      <th>Seniority</th>\n",
              "      <th>Home</th>\n",
              "      <th>Time</th>\n",
              "      <th>Age</th>\n",
              "      <th>Marital</th>\n",
              "      <th>Records</th>\n",
              "      <th>Job</th>\n",
              "      <th>Expenses</th>\n",
              "      <th>Income</th>\n",
              "      <th>Assets</th>\n",
              "      <th>Debt</th>\n",
              "      <th>Amount</th>\n",
              "      <th>Price</th>\n",
              "      <th>Finrat</th>\n",
              "      <th>Savings</th>\n",
              "    </tr>\n",
              "  </thead>\n",
              "  <tbody>\n",
              "    <tr>\n",
              "      <th>3286</th>\n",
              "      <td>1.0</td>\n",
              "      <td>3</td>\n",
              "      <td>3</td>\n",
              "      <td>60</td>\n",
              "      <td>26</td>\n",
              "      <td>3</td>\n",
              "      <td>0</td>\n",
              "      <td>0</td>\n",
              "      <td>35</td>\n",
              "      <td>83</td>\n",
              "      <td>0</td>\n",
              "      <td>0</td>\n",
              "      <td>1050</td>\n",
              "      <td>1156</td>\n",
              "      <td>90.830450</td>\n",
              "      <td>2.742857</td>\n",
              "    </tr>\n",
              "    <tr>\n",
              "      <th>1550</th>\n",
              "      <td>1.0</td>\n",
              "      <td>10</td>\n",
              "      <td>5</td>\n",
              "      <td>60</td>\n",
              "      <td>37</td>\n",
              "      <td>1</td>\n",
              "      <td>0</td>\n",
              "      <td>0</td>\n",
              "      <td>85</td>\n",
              "      <td>96</td>\n",
              "      <td>4000</td>\n",
              "      <td>850</td>\n",
              "      <td>1100</td>\n",
              "      <td>1340</td>\n",
              "      <td>82.089552</td>\n",
              "      <td>0.136364</td>\n",
              "    </tr>\n",
              "    <tr>\n",
              "      <th>1103</th>\n",
              "      <td>1.0</td>\n",
              "      <td>4</td>\n",
              "      <td>2</td>\n",
              "      <td>60</td>\n",
              "      <td>36</td>\n",
              "      <td>1</td>\n",
              "      <td>1</td>\n",
              "      <td>0</td>\n",
              "      <td>75</td>\n",
              "      <td>236</td>\n",
              "      <td>3750</td>\n",
              "      <td>2000</td>\n",
              "      <td>1500</td>\n",
              "      <td>1615</td>\n",
              "      <td>92.879257</td>\n",
              "      <td>5.640000</td>\n",
              "    </tr>\n",
              "    <tr>\n",
              "      <th>2301</th>\n",
              "      <td>1.0</td>\n",
              "      <td>22</td>\n",
              "      <td>2</td>\n",
              "      <td>12</td>\n",
              "      <td>45</td>\n",
              "      <td>1</td>\n",
              "      <td>0</td>\n",
              "      <td>0</td>\n",
              "      <td>60</td>\n",
              "      <td>100</td>\n",
              "      <td>3000</td>\n",
              "      <td>0</td>\n",
              "      <td>400</td>\n",
              "      <td>1531</td>\n",
              "      <td>26.126715</td>\n",
              "      <td>1.200000</td>\n",
              "    </tr>\n",
              "    <tr>\n",
              "      <th>1001</th>\n",
              "      <td>1.0</td>\n",
              "      <td>5</td>\n",
              "      <td>1</td>\n",
              "      <td>48</td>\n",
              "      <td>32</td>\n",
              "      <td>1</td>\n",
              "      <td>1</td>\n",
              "      <td>0</td>\n",
              "      <td>45</td>\n",
              "      <td>225</td>\n",
              "      <td>0</td>\n",
              "      <td>0</td>\n",
              "      <td>1000</td>\n",
              "      <td>1812</td>\n",
              "      <td>55.187638</td>\n",
              "      <td>8.640000</td>\n",
              "    </tr>\n",
              "    <tr>\n",
              "      <th>...</th>\n",
              "      <td>...</td>\n",
              "      <td>...</td>\n",
              "      <td>...</td>\n",
              "      <td>...</td>\n",
              "      <td>...</td>\n",
              "      <td>...</td>\n",
              "      <td>...</td>\n",
              "      <td>...</td>\n",
              "      <td>...</td>\n",
              "      <td>...</td>\n",
              "      <td>...</td>\n",
              "      <td>...</td>\n",
              "      <td>...</td>\n",
              "      <td>...</td>\n",
              "      <td>...</td>\n",
              "      <td>...</td>\n",
              "    </tr>\n",
              "    <tr>\n",
              "      <th>1278</th>\n",
              "      <td>1.0</td>\n",
              "      <td>20</td>\n",
              "      <td>4</td>\n",
              "      <td>60</td>\n",
              "      <td>39</td>\n",
              "      <td>1</td>\n",
              "      <td>0</td>\n",
              "      <td>0</td>\n",
              "      <td>90</td>\n",
              "      <td>159</td>\n",
              "      <td>2000</td>\n",
              "      <td>0</td>\n",
              "      <td>750</td>\n",
              "      <td>790</td>\n",
              "      <td>94.936709</td>\n",
              "      <td>5.520000</td>\n",
              "    </tr>\n",
              "    <tr>\n",
              "      <th>4128</th>\n",
              "      <td>1.0</td>\n",
              "      <td>5</td>\n",
              "      <td>3</td>\n",
              "      <td>24</td>\n",
              "      <td>26</td>\n",
              "      <td>3</td>\n",
              "      <td>1</td>\n",
              "      <td>0</td>\n",
              "      <td>35</td>\n",
              "      <td>104</td>\n",
              "      <td>0</td>\n",
              "      <td>0</td>\n",
              "      <td>1000</td>\n",
              "      <td>1314</td>\n",
              "      <td>76.103501</td>\n",
              "      <td>1.656000</td>\n",
              "    </tr>\n",
              "    <tr>\n",
              "      <th>3605</th>\n",
              "      <td>1.0</td>\n",
              "      <td>10</td>\n",
              "      <td>3</td>\n",
              "      <td>48</td>\n",
              "      <td>28</td>\n",
              "      <td>3</td>\n",
              "      <td>0</td>\n",
              "      <td>0</td>\n",
              "      <td>35</td>\n",
              "      <td>135</td>\n",
              "      <td>6000</td>\n",
              "      <td>0</td>\n",
              "      <td>1500</td>\n",
              "      <td>2164</td>\n",
              "      <td>69.316081</td>\n",
              "      <td>3.200000</td>\n",
              "    </tr>\n",
              "    <tr>\n",
              "      <th>2258</th>\n",
              "      <td>1.0</td>\n",
              "      <td>0</td>\n",
              "      <td>2</td>\n",
              "      <td>60</td>\n",
              "      <td>38</td>\n",
              "      <td>1</td>\n",
              "      <td>1</td>\n",
              "      <td>3</td>\n",
              "      <td>75</td>\n",
              "      <td>120</td>\n",
              "      <td>3500</td>\n",
              "      <td>0</td>\n",
              "      <td>1500</td>\n",
              "      <td>1702</td>\n",
              "      <td>88.131610</td>\n",
              "      <td>1.800000</td>\n",
              "    </tr>\n",
              "    <tr>\n",
              "      <th>67</th>\n",
              "      <td>1.0</td>\n",
              "      <td>9</td>\n",
              "      <td>2</td>\n",
              "      <td>60</td>\n",
              "      <td>53</td>\n",
              "      <td>1</td>\n",
              "      <td>0</td>\n",
              "      <td>0</td>\n",
              "      <td>45</td>\n",
              "      <td>170</td>\n",
              "      <td>2500</td>\n",
              "      <td>0</td>\n",
              "      <td>850</td>\n",
              "      <td>1205</td>\n",
              "      <td>70.539419</td>\n",
              "      <td>8.823529</td>\n",
              "    </tr>\n",
              "  </tbody>\n",
              "</table>\n",
              "<p>1334 rows × 16 columns</p>\n",
              "</div>"
            ],
            "text/plain": [
              "      const  Seniority  Home  Time  ...  Amount  Price     Finrat   Savings\n",
              "3286    1.0          3     3    60  ...    1050   1156  90.830450  2.742857\n",
              "1550    1.0         10     5    60  ...    1100   1340  82.089552  0.136364\n",
              "1103    1.0          4     2    60  ...    1500   1615  92.879257  5.640000\n",
              "2301    1.0         22     2    12  ...     400   1531  26.126715  1.200000\n",
              "1001    1.0          5     1    48  ...    1000   1812  55.187638  8.640000\n",
              "...     ...        ...   ...   ...  ...     ...    ...        ...       ...\n",
              "1278    1.0         20     4    60  ...     750    790  94.936709  5.520000\n",
              "4128    1.0          5     3    24  ...    1000   1314  76.103501  1.656000\n",
              "3605    1.0         10     3    48  ...    1500   2164  69.316081  3.200000\n",
              "2258    1.0          0     2    60  ...    1500   1702  88.131610  1.800000\n",
              "67      1.0          9     2    60  ...     850   1205  70.539419  8.823529\n",
              "\n",
              "[1334 rows x 16 columns]"
            ]
          },
          "metadata": {
            "tags": []
          },
          "execution_count": 156
        }
      ]
    },
    {
      "cell_type": "markdown",
      "metadata": {
        "id": "MKYneF9d0lLj"
      },
      "source": [
        "## (3) Logistic Regression Model"
      ]
    },
    {
      "cell_type": "code",
      "metadata": {
        "id": "WU9Kw9tI0lLj",
        "outputId": "c9d86fe1-9c21-410d-f9a9-67717fb67f14",
        "colab": {
          "base_uri": "https://localhost:8080/",
          "height": 70
        }
      },
      "source": [
        "## Using 'statsmodel.api' you can use R-style formulas together with pandas data frames to fit your models\n",
        "import statsmodels.api as sm\n",
        "logit = sm.Logit( y_train, sm.add_constant( X_train ) )\n",
        "lg = logit.fit()"
      ],
      "execution_count": 158,
      "outputs": [
        {
          "output_type": "stream",
          "text": [
            "Optimization terminated successfully.\n",
            "         Current function value: 0.451547\n",
            "         Iterations 7\n"
          ],
          "name": "stdout"
        }
      ]
    },
    {
      "cell_type": "code",
      "metadata": {
        "id": "iVjv076yezz4"
      },
      "source": [
        "import pickle"
      ],
      "execution_count": 159,
      "outputs": []
    },
    {
      "cell_type": "code",
      "metadata": {
        "id": "COUnXMwXespK"
      },
      "source": [
        "# pickle.dump(logit, open('model.pkl','wb'))"
      ],
      "execution_count": 160,
      "outputs": []
    },
    {
      "cell_type": "code",
      "metadata": {
        "id": "MJmD1nrutILo"
      },
      "source": [
        "pickle.dump(lg, open('model1.pkl','wb'))\n",
        "model1=pickle.load(open('model1.pkl','rb'))"
      ],
      "execution_count": 163,
      "outputs": []
    },
    {
      "cell_type": "code",
      "metadata": {
        "id": "YaITCco-e3K4"
      },
      "source": [
        "# model=pickle.load(open('model.pkl','rb'))"
      ],
      "execution_count": 164,
      "outputs": []
    },
    {
      "cell_type": "code",
      "metadata": {
        "id": "uqsZMX2fpO5P",
        "outputId": "e2350557-ad36-4210-8e59-7e7e955c8ceb",
        "colab": {
          "base_uri": "https://localhost:8080/",
          "height": 88
        }
      },
      "source": [
        "import pandas as pd\n",
        "data = [[1.0,3,3,60,26,3,0,0,35,83,0,0,1050,1156,90.830450,2.742857]]\n",
        "df = pd.DataFrame(data,columns=['const','Seniority','Home','Time','Age','Marital','Records','Job','Expenses','Income','Assets','Debt','Amount','Price','Finrat','Savings'])\n",
        "print(df)"
      ],
      "execution_count": 175,
      "outputs": [
        {
          "output_type": "stream",
          "text": [
            "   const  Seniority  Home  Time  Age  ...  Debt  Amount  Price    Finrat   Savings\n",
            "0    1.0          3     3    60   26  ...     0    1050   1156  90.83045  2.742857\n",
            "\n",
            "[1 rows x 16 columns]\n"
          ],
          "name": "stdout"
        }
      ]
    },
    {
      "cell_type": "code",
      "metadata": {
        "id": "iSpNwwQ_q4-V",
        "outputId": "e23f314a-c95a-4c61-a1d8-01bdc4467cee",
        "colab": {
          "base_uri": "https://localhost:8080/",
          "height": 35
        }
      },
      "source": [
        "df.shape"
      ],
      "execution_count": 189,
      "outputs": [
        {
          "output_type": "execute_result",
          "data": {
            "text/plain": [
              "(1, 16)"
            ]
          },
          "metadata": {
            "tags": []
          },
          "execution_count": 189
        }
      ]
    },
    {
      "cell_type": "code",
      "metadata": {
        "id": "uqRxFBPVt_DO"
      },
      "source": [
        "sd=sm.add_constant(df) "
      ],
      "execution_count": 172,
      "outputs": []
    },
    {
      "cell_type": "code",
      "metadata": {
        "id": "OLZJq5R8uBSd",
        "outputId": "315bda01-c4b5-4e5a-d300-984ecfc0b7c8",
        "colab": {
          "base_uri": "https://localhost:8080/",
          "height": 35
        }
      },
      "source": [
        "sd.shape"
      ],
      "execution_count": 173,
      "outputs": [
        {
          "output_type": "execute_result",
          "data": {
            "text/plain": [
              "(1, 15)"
            ]
          },
          "metadata": {
            "tags": []
          },
          "execution_count": 173
        }
      ]
    },
    {
      "cell_type": "code",
      "metadata": {
        "id": "38JEO0w-uEir",
        "outputId": "52555872-7c19-412c-d653-2ef4df31a0b1",
        "colab": {
          "base_uri": "https://localhost:8080/",
          "height": 76
        }
      },
      "source": [
        "sd"
      ],
      "execution_count": 174,
      "outputs": [
        {
          "output_type": "execute_result",
          "data": {
            "text/html": [
              "<div>\n",
              "<style scoped>\n",
              "    .dataframe tbody tr th:only-of-type {\n",
              "        vertical-align: middle;\n",
              "    }\n",
              "\n",
              "    .dataframe tbody tr th {\n",
              "        vertical-align: top;\n",
              "    }\n",
              "\n",
              "    .dataframe thead th {\n",
              "        text-align: right;\n",
              "    }\n",
              "</style>\n",
              "<table border=\"1\" class=\"dataframe\">\n",
              "  <thead>\n",
              "    <tr style=\"text-align: right;\">\n",
              "      <th></th>\n",
              "      <th>Seniority</th>\n",
              "      <th>Home</th>\n",
              "      <th>Time</th>\n",
              "      <th>Age</th>\n",
              "      <th>Marital</th>\n",
              "      <th>Records</th>\n",
              "      <th>Job</th>\n",
              "      <th>Expenses</th>\n",
              "      <th>Income</th>\n",
              "      <th>Assets</th>\n",
              "      <th>Debt</th>\n",
              "      <th>Amount</th>\n",
              "      <th>Price</th>\n",
              "      <th>Finrat</th>\n",
              "      <th>Savings</th>\n",
              "    </tr>\n",
              "  </thead>\n",
              "  <tbody>\n",
              "    <tr>\n",
              "      <th>0</th>\n",
              "      <td>3</td>\n",
              "      <td>3</td>\n",
              "      <td>60</td>\n",
              "      <td>26</td>\n",
              "      <td>3</td>\n",
              "      <td>0</td>\n",
              "      <td>0</td>\n",
              "      <td>35</td>\n",
              "      <td>83</td>\n",
              "      <td>0</td>\n",
              "      <td>0</td>\n",
              "      <td>1050</td>\n",
              "      <td>1156</td>\n",
              "      <td>90.83045</td>\n",
              "      <td>2.742857</td>\n",
              "    </tr>\n",
              "  </tbody>\n",
              "</table>\n",
              "</div>"
            ],
            "text/plain": [
              "   Seniority  Home  Time  Age  Marital  ...  Debt  Amount  Price    Finrat   Savings\n",
              "0          3     3    60   26        3  ...     0    1050   1156  90.83045  2.742857\n",
              "\n",
              "[1 rows x 15 columns]"
            ]
          },
          "metadata": {
            "tags": []
          },
          "execution_count": 174
        }
      ]
    },
    {
      "cell_type": "code",
      "metadata": {
        "id": "tvCeZbskfBmJ"
      },
      "source": [
        "def get_predictions(lg):\n",
        "    y_pred_df = pd.DataFrame( { \"predicted_prob\": lg.predict( sm.add_constant(df) ) } )\n",
        "    return y_pred_df\n"
      ],
      "execution_count": 177,
      "outputs": []
    },
    {
      "cell_type": "code",
      "metadata": {
        "id": "qasYoeqCttZ0"
      },
      "source": [
        "y_pred_df = get_predictions(model1)"
      ],
      "execution_count": 180,
      "outputs": []
    },
    {
      "cell_type": "code",
      "metadata": {
        "id": "kADvrBeiudNJ"
      },
      "source": [
        "y_pred_df['predicted'] = y_pred_df.predicted_prob.map( lambda x: 1 if x > 0.5 else 0)"
      ],
      "execution_count": 181,
      "outputs": []
    },
    {
      "cell_type": "code",
      "metadata": {
        "id": "GgC5R8X_ugA9",
        "outputId": "b3eb1dd5-c0c9-4993-ea75-4eeb2ad39a47",
        "colab": {
          "base_uri": "https://localhost:8080/",
          "height": 76
        }
      },
      "source": [
        "y_pred_df"
      ],
      "execution_count": 182,
      "outputs": [
        {
          "output_type": "execute_result",
          "data": {
            "text/html": [
              "<div>\n",
              "<style scoped>\n",
              "    .dataframe tbody tr th:only-of-type {\n",
              "        vertical-align: middle;\n",
              "    }\n",
              "\n",
              "    .dataframe tbody tr th {\n",
              "        vertical-align: top;\n",
              "    }\n",
              "\n",
              "    .dataframe thead th {\n",
              "        text-align: right;\n",
              "    }\n",
              "</style>\n",
              "<table border=\"1\" class=\"dataframe\">\n",
              "  <thead>\n",
              "    <tr style=\"text-align: right;\">\n",
              "      <th></th>\n",
              "      <th>predicted_prob</th>\n",
              "      <th>predicted</th>\n",
              "    </tr>\n",
              "  </thead>\n",
              "  <tbody>\n",
              "    <tr>\n",
              "      <th>0</th>\n",
              "      <td>0.686556</td>\n",
              "      <td>1</td>\n",
              "    </tr>\n",
              "  </tbody>\n",
              "</table>\n",
              "</div>"
            ],
            "text/plain": [
              "   predicted_prob  predicted\n",
              "0        0.686556          1"
            ]
          },
          "metadata": {
            "tags": []
          },
          "execution_count": 182
        }
      ]
    },
    {
      "cell_type": "code",
      "metadata": {
        "id": "bvH7JUzfuhkO",
        "outputId": "f9889faa-725f-4920-ebca-19adb43bfe05",
        "colab": {
          "base_uri": "https://localhost:8080/",
          "height": 52
        }
      },
      "source": [
        "ans = y_pred_df['predicted']\n",
        "ans"
      ],
      "execution_count": 187,
      "outputs": [
        {
          "output_type": "execute_result",
          "data": {
            "text/plain": [
              "0    1\n",
              "Name: predicted, dtype: int64"
            ]
          },
          "metadata": {
            "tags": []
          },
          "execution_count": 187
        }
      ]
    },
    {
      "cell_type": "code",
      "metadata": {
        "id": "GdiGN6YuuyCa"
      },
      "source": [
        ""
      ],
      "execution_count": null,
      "outputs": []
    },
    {
      "cell_type": "code",
      "metadata": {
        "id": "wmYjiJLIfL-_"
      },
      "source": [
        "# Seniority\tHome\tTime\tAge\tMarital\tRecords\tJob\tExpenses\tIncome\tAssets\tDebt\tAmount\tPrice\tFinrat\tSavings\n",
        "# 3286\t3\t3\t60\t26\t3\t0\t0\t35\t83\t0\t0\t1050\t1156\t90.830450\t2.742857"
      ],
      "execution_count": null,
      "outputs": []
    },
    {
      "cell_type": "code",
      "metadata": {
        "id": "jKkdnh_ArW7l",
        "outputId": "dca1f3b4-7028-4085-ecf5-f28df7888310",
        "colab": {
          "base_uri": "https://localhost:8080/",
          "height": 35
        }
      },
      "source": [
        "X_test.shape"
      ],
      "execution_count": 121,
      "outputs": [
        {
          "output_type": "execute_result",
          "data": {
            "text/plain": [
              "(1334, 15)"
            ]
          },
          "metadata": {
            "tags": []
          },
          "execution_count": 121
        }
      ]
    },
    {
      "cell_type": "code",
      "metadata": {
        "id": "emsSw0150lLl",
        "outputId": "beda406d-46e4-45aa-a211-e5c1f2d10f95",
        "colab": {
          "base_uri": "https://localhost:8080/",
          "height": 528
        }
      },
      "source": [
        "lg.summary()"
      ],
      "execution_count": 52,
      "outputs": [
        {
          "output_type": "execute_result",
          "data": {
            "text/html": [
              "<table class=\"simpletable\">\n",
              "<caption>Logit Regression Results</caption>\n",
              "<tr>\n",
              "  <th>Dep. Variable:</th>        <td>Status</td>      <th>  No. Observations:  </th>   <td>  3112</td>  \n",
              "</tr>\n",
              "<tr>\n",
              "  <th>Model:</th>                 <td>Logit</td>      <th>  Df Residuals:      </th>   <td>  3096</td>  \n",
              "</tr>\n",
              "<tr>\n",
              "  <th>Method:</th>                 <td>MLE</td>       <th>  Df Model:          </th>   <td>    15</td>  \n",
              "</tr>\n",
              "<tr>\n",
              "  <th>Date:</th>            <td>Mon, 19 Oct 2020</td> <th>  Pseudo R-squ.:     </th>   <td>0.2336</td>  \n",
              "</tr>\n",
              "<tr>\n",
              "  <th>Time:</th>                <td>15:27:13</td>     <th>  Log-Likelihood:    </th>  <td> -1405.2</td> \n",
              "</tr>\n",
              "<tr>\n",
              "  <th>converged:</th>             <td>True</td>       <th>  LL-Null:           </th>  <td> -1833.5</td> \n",
              "</tr>\n",
              "<tr>\n",
              "  <th>Covariance Type:</th>     <td>nonrobust</td>    <th>  LLR p-value:       </th> <td>7.074e-173</td>\n",
              "</tr>\n",
              "</table>\n",
              "<table class=\"simpletable\">\n",
              "<tr>\n",
              "      <td></td>         <th>coef</th>     <th>std err</th>      <th>z</th>      <th>P>|z|</th>  <th>[0.025</th>    <th>0.975]</th>  \n",
              "</tr>\n",
              "<tr>\n",
              "  <th>const</th>     <td>    4.6164</td> <td>    0.578</td> <td>    7.987</td> <td> 0.000</td> <td>    3.484</td> <td>    5.749</td>\n",
              "</tr>\n",
              "<tr>\n",
              "  <th>Seniority</th> <td>    0.0808</td> <td>    0.009</td> <td>    9.337</td> <td> 0.000</td> <td>    0.064</td> <td>    0.098</td>\n",
              "</tr>\n",
              "<tr>\n",
              "  <th>Home</th>      <td>   -0.1420</td> <td>    0.038</td> <td>   -3.784</td> <td> 0.000</td> <td>   -0.216</td> <td>   -0.068</td>\n",
              "</tr>\n",
              "<tr>\n",
              "  <th>Time</th>      <td>    0.0062</td> <td>    0.005</td> <td>    1.354</td> <td> 0.176</td> <td>   -0.003</td> <td>    0.015</td>\n",
              "</tr>\n",
              "<tr>\n",
              "  <th>Age</th>       <td>   -0.0098</td> <td>    0.005</td> <td>   -1.860</td> <td> 0.063</td> <td>   -0.020</td> <td>    0.001</td>\n",
              "</tr>\n",
              "<tr>\n",
              "  <th>Marital</th>   <td>   -0.1995</td> <td>    0.062</td> <td>   -3.241</td> <td> 0.001</td> <td>   -0.320</td> <td>   -0.079</td>\n",
              "</tr>\n",
              "<tr>\n",
              "  <th>Records</th>   <td>   -1.6714</td> <td>    0.119</td> <td>  -14.088</td> <td> 0.000</td> <td>   -1.904</td> <td>   -1.439</td>\n",
              "</tr>\n",
              "<tr>\n",
              "  <th>Job</th>       <td>   -0.4610</td> <td>    0.047</td> <td>   -9.763</td> <td> 0.000</td> <td>   -0.554</td> <td>   -0.368</td>\n",
              "</tr>\n",
              "<tr>\n",
              "  <th>Expenses</th>  <td>   -0.0132</td> <td>    0.003</td> <td>   -3.936</td> <td> 0.000</td> <td>   -0.020</td> <td>   -0.007</td>\n",
              "</tr>\n",
              "<tr>\n",
              "  <th>Income</th>    <td>    0.0062</td> <td>    0.002</td> <td>    3.653</td> <td> 0.000</td> <td>    0.003</td> <td>    0.010</td>\n",
              "</tr>\n",
              "<tr>\n",
              "  <th>Assets</th>    <td> 3.206e-05</td> <td> 7.84e-06</td> <td>    4.088</td> <td> 0.000</td> <td> 1.67e-05</td> <td> 4.74e-05</td>\n",
              "</tr>\n",
              "<tr>\n",
              "  <th>Debt</th>      <td>   -0.0001</td> <td> 4.03e-05</td> <td>   -3.575</td> <td> 0.000</td> <td>   -0.000</td> <td>-6.52e-05</td>\n",
              "</tr>\n",
              "<tr>\n",
              "  <th>Amount</th>    <td>   -0.0004</td> <td>    0.000</td> <td>   -0.881</td> <td> 0.378</td> <td>   -0.001</td> <td>    0.000</td>\n",
              "</tr>\n",
              "<tr>\n",
              "  <th>Price</th>     <td>   -0.0003</td> <td>    0.000</td> <td>   -1.230</td> <td> 0.219</td> <td>   -0.001</td> <td>    0.000</td>\n",
              "</tr>\n",
              "<tr>\n",
              "  <th>Finrat</th>    <td>   -0.0269</td> <td>    0.006</td> <td>   -4.307</td> <td> 0.000</td> <td>   -0.039</td> <td>   -0.015</td>\n",
              "</tr>\n",
              "<tr>\n",
              "  <th>Savings</th>   <td>   -0.0032</td> <td>    0.035</td> <td>   -0.090</td> <td> 0.928</td> <td>   -0.071</td> <td>    0.065</td>\n",
              "</tr>\n",
              "</table>"
            ],
            "text/plain": [
              "<class 'statsmodels.iolib.summary.Summary'>\n",
              "\"\"\"\n",
              "                           Logit Regression Results                           \n",
              "==============================================================================\n",
              "Dep. Variable:                 Status   No. Observations:                 3112\n",
              "Model:                          Logit   Df Residuals:                     3096\n",
              "Method:                           MLE   Df Model:                           15\n",
              "Date:                Mon, 19 Oct 2020   Pseudo R-squ.:                  0.2336\n",
              "Time:                        15:27:13   Log-Likelihood:                -1405.2\n",
              "converged:                       True   LL-Null:                       -1833.5\n",
              "Covariance Type:            nonrobust   LLR p-value:                7.074e-173\n",
              "==============================================================================\n",
              "                 coef    std err          z      P>|z|      [0.025      0.975]\n",
              "------------------------------------------------------------------------------\n",
              "const          4.6164      0.578      7.987      0.000       3.484       5.749\n",
              "Seniority      0.0808      0.009      9.337      0.000       0.064       0.098\n",
              "Home          -0.1420      0.038     -3.784      0.000      -0.216      -0.068\n",
              "Time           0.0062      0.005      1.354      0.176      -0.003       0.015\n",
              "Age           -0.0098      0.005     -1.860      0.063      -0.020       0.001\n",
              "Marital       -0.1995      0.062     -3.241      0.001      -0.320      -0.079\n",
              "Records       -1.6714      0.119    -14.088      0.000      -1.904      -1.439\n",
              "Job           -0.4610      0.047     -9.763      0.000      -0.554      -0.368\n",
              "Expenses      -0.0132      0.003     -3.936      0.000      -0.020      -0.007\n",
              "Income         0.0062      0.002      3.653      0.000       0.003       0.010\n",
              "Assets      3.206e-05   7.84e-06      4.088      0.000    1.67e-05    4.74e-05\n",
              "Debt          -0.0001   4.03e-05     -3.575      0.000      -0.000   -6.52e-05\n",
              "Amount        -0.0004      0.000     -0.881      0.378      -0.001       0.000\n",
              "Price         -0.0003      0.000     -1.230      0.219      -0.001       0.000\n",
              "Finrat        -0.0269      0.006     -4.307      0.000      -0.039      -0.015\n",
              "Savings       -0.0032      0.035     -0.090      0.928      -0.071       0.065\n",
              "==============================================================================\n",
              "\"\"\""
            ]
          },
          "metadata": {
            "tags": []
          },
          "execution_count": 52
        }
      ]
    },
    {
      "cell_type": "markdown",
      "metadata": {
        "id": "t69Pf9ln0lLo"
      },
      "source": [
        "## Find Significant Variables"
      ]
    },
    {
      "cell_type": "code",
      "metadata": {
        "id": "WI87wM0q0lLp"
      },
      "source": [
        "def get_significant_vars( lm ):\n",
        "    var_p_vals_df = pd.DataFrame( lm.pvalues )\n",
        "    var_p_vals_df['vars'] = var_p_vals_df.index\n",
        "    var_p_vals_df.columns = ['pvals', 'vars']\n",
        "    return list( var_p_vals_df[var_p_vals_df.pvals <= 0.05]['vars'] )"
      ],
      "execution_count": 53,
      "outputs": []
    },
    {
      "cell_type": "code",
      "metadata": {
        "id": "YjcdEksy0lLs"
      },
      "source": [
        "significant_vars = get_significant_vars( lg )"
      ],
      "execution_count": 54,
      "outputs": []
    },
    {
      "cell_type": "code",
      "metadata": {
        "id": "LDzISEGQroED",
        "outputId": "a241127b-e256-4ab6-bf1c-b319a02ccaae",
        "colab": {
          "base_uri": "https://localhost:8080/",
          "height": 35
        }
      },
      "source": [
        "lg"
      ],
      "execution_count": 124,
      "outputs": [
        {
          "output_type": "execute_result",
          "data": {
            "text/plain": [
              "<statsmodels.discrete.discrete_model.BinaryResultsWrapper at 0x7fa1607d9eb8>"
            ]
          },
          "metadata": {
            "tags": []
          },
          "execution_count": 124
        }
      ]
    },
    {
      "cell_type": "markdown",
      "metadata": {
        "id": "8qy1hxlm0lLv"
      },
      "source": [
        "### The Significant Features in the Dataset obtained are ['Seniority', 'Home', 'Marital', 'Records', 'Job', 'Expenses', 'Income', 'Assets', 'Debt', 'Finrat']"
      ]
    },
    {
      "cell_type": "code",
      "metadata": {
        "id": "i1hM1GDP0lLw",
        "outputId": "29cb9778-1ee8-456f-e778-3d17a15c3013",
        "colab": {
          "base_uri": "https://localhost:8080/",
          "height": 212
        }
      },
      "source": [
        "significant_vars"
      ],
      "execution_count": 55,
      "outputs": [
        {
          "output_type": "execute_result",
          "data": {
            "text/plain": [
              "['const',\n",
              " 'Seniority',\n",
              " 'Home',\n",
              " 'Marital',\n",
              " 'Records',\n",
              " 'Job',\n",
              " 'Expenses',\n",
              " 'Income',\n",
              " 'Assets',\n",
              " 'Debt',\n",
              " 'Finrat']"
            ]
          },
          "metadata": {
            "tags": []
          },
          "execution_count": 55
        }
      ]
    },
    {
      "cell_type": "markdown",
      "metadata": {
        "id": "u_3PO2H80lLy"
      },
      "source": [
        "### Testing the Model and measuring Accuracy Score"
      ]
    },
    {
      "cell_type": "code",
      "metadata": {
        "id": "ki6aq61o0lLy"
      },
      "source": [
        "from sklearn import metrics"
      ],
      "execution_count": 56,
      "outputs": []
    },
    {
      "cell_type": "code",
      "metadata": {
        "id": "CqAmDVvUfH7Z",
        "outputId": "38ea614e-f317-4e9a-e3f6-c356eb3132bc",
        "colab": {
          "base_uri": "https://localhost:8080/",
          "height": 35
        }
      },
      "source": [
        "X_test.shape"
      ],
      "execution_count": 94,
      "outputs": [
        {
          "output_type": "execute_result",
          "data": {
            "text/plain": [
              "(1334, 15)"
            ]
          },
          "metadata": {
            "tags": []
          },
          "execution_count": 94
        }
      ]
    },
    {
      "cell_type": "code",
      "metadata": {
        "id": "tcbVkm6I0lL0"
      },
      "source": [
        "def get_predictions( y_test, model ):\n",
        "    y_pred_df = pd.DataFrame( { 'actual': y_test,\n",
        "                               \"predicted_prob\": lg.predict( sm.add_constant( X_test ) ) } )\n",
        "    return y_pred_df\n"
      ],
      "execution_count": 57,
      "outputs": []
    },
    {
      "cell_type": "code",
      "metadata": {
        "id": "K_D_nCko0lL1"
      },
      "source": [
        "y_pred_df = get_predictions( y_test, lg )"
      ],
      "execution_count": 58,
      "outputs": []
    },
    {
      "cell_type": "code",
      "metadata": {
        "id": "N3qCzryS0lL4",
        "outputId": "66b9be41-06ba-4454-e96a-8c56b6276498",
        "colab": {
          "base_uri": "https://localhost:8080/",
          "height": 340
        }
      },
      "source": [
        "## Calculating predicted probability for the Target Variable 'Status(Default Classes)'\n",
        "y_pred_df[0:10]"
      ],
      "execution_count": 59,
      "outputs": [
        {
          "output_type": "execute_result",
          "data": {
            "text/html": [
              "<div>\n",
              "<style scoped>\n",
              "    .dataframe tbody tr th:only-of-type {\n",
              "        vertical-align: middle;\n",
              "    }\n",
              "\n",
              "    .dataframe tbody tr th {\n",
              "        vertical-align: top;\n",
              "    }\n",
              "\n",
              "    .dataframe thead th {\n",
              "        text-align: right;\n",
              "    }\n",
              "</style>\n",
              "<table border=\"1\" class=\"dataframe\">\n",
              "  <thead>\n",
              "    <tr style=\"text-align: right;\">\n",
              "      <th></th>\n",
              "      <th>actual</th>\n",
              "      <th>predicted_prob</th>\n",
              "    </tr>\n",
              "  </thead>\n",
              "  <tbody>\n",
              "    <tr>\n",
              "      <th>3286</th>\n",
              "      <td>1</td>\n",
              "      <td>0.686556</td>\n",
              "    </tr>\n",
              "    <tr>\n",
              "      <th>1550</th>\n",
              "      <td>0</td>\n",
              "      <td>0.720232</td>\n",
              "    </tr>\n",
              "    <tr>\n",
              "      <th>1103</th>\n",
              "      <td>1</td>\n",
              "      <td>0.379120</td>\n",
              "    </tr>\n",
              "    <tr>\n",
              "      <th>2301</th>\n",
              "      <td>1</td>\n",
              "      <td>0.983629</td>\n",
              "    </tr>\n",
              "    <tr>\n",
              "      <th>1001</th>\n",
              "      <td>0</td>\n",
              "      <td>0.786510</td>\n",
              "    </tr>\n",
              "    <tr>\n",
              "      <th>2446</th>\n",
              "      <td>0</td>\n",
              "      <td>0.673567</td>\n",
              "    </tr>\n",
              "    <tr>\n",
              "      <th>680</th>\n",
              "      <td>1</td>\n",
              "      <td>0.853179</td>\n",
              "    </tr>\n",
              "    <tr>\n",
              "      <th>132</th>\n",
              "      <td>1</td>\n",
              "      <td>0.949093</td>\n",
              "    </tr>\n",
              "    <tr>\n",
              "      <th>4036</th>\n",
              "      <td>1</td>\n",
              "      <td>0.896540</td>\n",
              "    </tr>\n",
              "    <tr>\n",
              "      <th>2498</th>\n",
              "      <td>1</td>\n",
              "      <td>0.331953</td>\n",
              "    </tr>\n",
              "  </tbody>\n",
              "</table>\n",
              "</div>"
            ],
            "text/plain": [
              "      actual  predicted_prob\n",
              "3286       1        0.686556\n",
              "1550       0        0.720232\n",
              "1103       1        0.379120\n",
              "2301       1        0.983629\n",
              "1001       0        0.786510\n",
              "2446       0        0.673567\n",
              "680        1        0.853179\n",
              "132        1        0.949093\n",
              "4036       1        0.896540\n",
              "2498       1        0.331953"
            ]
          },
          "metadata": {
            "tags": []
          },
          "execution_count": 59
        }
      ]
    },
    {
      "cell_type": "code",
      "metadata": {
        "id": "JI8bj0U20lL7"
      },
      "source": [
        "y_pred_df['predicted'] = y_pred_df.predicted_prob.map( lambda x: 1 if x > 0.5 else 0)"
      ],
      "execution_count": 60,
      "outputs": []
    },
    {
      "cell_type": "code",
      "metadata": {
        "id": "TseSgNNM0lL-",
        "outputId": "ae2388b6-20e8-405c-ee67-b8aca3485618",
        "colab": {
          "base_uri": "https://localhost:8080/",
          "height": 340
        }
      },
      "source": [
        "y_pred_df[0:10]"
      ],
      "execution_count": 61,
      "outputs": [
        {
          "output_type": "execute_result",
          "data": {
            "text/html": [
              "<div>\n",
              "<style scoped>\n",
              "    .dataframe tbody tr th:only-of-type {\n",
              "        vertical-align: middle;\n",
              "    }\n",
              "\n",
              "    .dataframe tbody tr th {\n",
              "        vertical-align: top;\n",
              "    }\n",
              "\n",
              "    .dataframe thead th {\n",
              "        text-align: right;\n",
              "    }\n",
              "</style>\n",
              "<table border=\"1\" class=\"dataframe\">\n",
              "  <thead>\n",
              "    <tr style=\"text-align: right;\">\n",
              "      <th></th>\n",
              "      <th>actual</th>\n",
              "      <th>predicted_prob</th>\n",
              "      <th>predicted</th>\n",
              "    </tr>\n",
              "  </thead>\n",
              "  <tbody>\n",
              "    <tr>\n",
              "      <th>3286</th>\n",
              "      <td>1</td>\n",
              "      <td>0.686556</td>\n",
              "      <td>1</td>\n",
              "    </tr>\n",
              "    <tr>\n",
              "      <th>1550</th>\n",
              "      <td>0</td>\n",
              "      <td>0.720232</td>\n",
              "      <td>1</td>\n",
              "    </tr>\n",
              "    <tr>\n",
              "      <th>1103</th>\n",
              "      <td>1</td>\n",
              "      <td>0.379120</td>\n",
              "      <td>0</td>\n",
              "    </tr>\n",
              "    <tr>\n",
              "      <th>2301</th>\n",
              "      <td>1</td>\n",
              "      <td>0.983629</td>\n",
              "      <td>1</td>\n",
              "    </tr>\n",
              "    <tr>\n",
              "      <th>1001</th>\n",
              "      <td>0</td>\n",
              "      <td>0.786510</td>\n",
              "      <td>1</td>\n",
              "    </tr>\n",
              "    <tr>\n",
              "      <th>2446</th>\n",
              "      <td>0</td>\n",
              "      <td>0.673567</td>\n",
              "      <td>1</td>\n",
              "    </tr>\n",
              "    <tr>\n",
              "      <th>680</th>\n",
              "      <td>1</td>\n",
              "      <td>0.853179</td>\n",
              "      <td>1</td>\n",
              "    </tr>\n",
              "    <tr>\n",
              "      <th>132</th>\n",
              "      <td>1</td>\n",
              "      <td>0.949093</td>\n",
              "      <td>1</td>\n",
              "    </tr>\n",
              "    <tr>\n",
              "      <th>4036</th>\n",
              "      <td>1</td>\n",
              "      <td>0.896540</td>\n",
              "      <td>1</td>\n",
              "    </tr>\n",
              "    <tr>\n",
              "      <th>2498</th>\n",
              "      <td>1</td>\n",
              "      <td>0.331953</td>\n",
              "      <td>0</td>\n",
              "    </tr>\n",
              "  </tbody>\n",
              "</table>\n",
              "</div>"
            ],
            "text/plain": [
              "      actual  predicted_prob  predicted\n",
              "3286       1        0.686556          1\n",
              "1550       0        0.720232          1\n",
              "1103       1        0.379120          0\n",
              "2301       1        0.983629          1\n",
              "1001       0        0.786510          1\n",
              "2446       0        0.673567          1\n",
              "680        1        0.853179          1\n",
              "132        1        0.949093          1\n",
              "4036       1        0.896540          1\n",
              "2498       1        0.331953          0"
            ]
          },
          "metadata": {
            "tags": []
          },
          "execution_count": 61
        }
      ]
    },
    {
      "cell_type": "code",
      "metadata": {
        "id": "87pD7NBR0lMA",
        "outputId": "41534310-fb06-4338-c883-fc0ce3d8cf1c",
        "colab": {
          "base_uri": "https://localhost:8080/",
          "height": 35
        }
      },
      "source": [
        "import matplotlib.pylab as plt\n",
        "%matplotlib"
      ],
      "execution_count": 62,
      "outputs": [
        {
          "output_type": "stream",
          "text": [
            "Using matplotlib backend: agg\n"
          ],
          "name": "stdout"
        }
      ]
    },
    {
      "cell_type": "code",
      "metadata": {
        "id": "5gvC23ct0lMC"
      },
      "source": [
        "def draw_cm( actual, predicted ):\n",
        "    cm = metrics.confusion_matrix( actual, predicted, [1,0] )\n",
        "    sns.heatmap(cm, annot=True,  fmt='.2f', xticklabels = [\"No Default\", \"Default\"] , yticklabels = [\"No Default\", \"Default\"] )\n",
        "    plt.ylabel('True label')\n",
        "    plt.xlabel('Predicted label')\n",
        "    plt.show()"
      ],
      "execution_count": 63,
      "outputs": []
    },
    {
      "cell_type": "code",
      "metadata": {
        "id": "3vlUqGeH0lMD",
        "outputId": "bd714e9c-6871-4616-f298-aa75a9a60aeb",
        "colab": {
          "base_uri": "https://localhost:8080/",
          "height": 279
        }
      },
      "source": [
        "draw_cm( y_pred_df.actual, y_pred_df.predicted )"
      ],
      "execution_count": 64,
      "outputs": [
        {
          "output_type": "display_data",
          "data": {
            "image/png": "[encoded data removed]",
            "text/plain": [
              "<Figure size 432x288 with 2 Axes>"
            ]
          },
          "metadata": {
            "tags": [],
            "needs_background": "light"
          }
        }
      ]
    },
    {
      "cell_type": "code",
      "metadata": {
        "id": "upRfyzum0lMH",
        "outputId": "ff399234-fab8-4b4d-8de9-7ff50c7204b6",
        "colab": {
          "base_uri": "https://localhost:8080/",
          "height": 106
        }
      },
      "source": [
        "## Finding Overall Accuracy of the Model\n",
        "print( 'Total Accuracy : ',np.round( metrics.accuracy_score( y_test, y_pred_df.predicted ), 2 ) )\n",
        "print( 'Precision : ',np.round( metrics.precision_score( y_test, y_pred_df.predicted ), 2 ) )\n",
        "print( 'Recall : ',np.round( metrics.recall_score( y_test, y_pred_df.predicted ), 2 ) )\n",
        "\n",
        "cm1 = metrics.confusion_matrix( y_pred_df.actual, y_pred_df.predicted, [1,0] )\n",
        "\n",
        "sensitivity = cm1[0,0]/(cm1[0,0]+cm1[0,1])\n",
        "print('Sensitivity : ', round( sensitivity, 2) )\n",
        "\n",
        "specificity = cm1[1,1]/(cm1[1,0]+cm1[1,1])\n",
        "print('Specificity : ', round( specificity, 2 ) )"
      ],
      "execution_count": 65,
      "outputs": [
        {
          "output_type": "stream",
          "text": [
            "Total Accuracy :  0.79\n",
            "Precision :  0.81\n",
            "Recall :  0.92\n",
            "Sensitivity :  0.92\n",
            "Specificity :  0.47\n"
          ],
          "name": "stdout"
        }
      ]
    },
    {
      "cell_type": "markdown",
      "metadata": {
        "id": "wnBce24q0lMJ"
      },
      "source": [
        "### Predicted Probability distribution Plots for Defaults(BAD) and Non Defaults(GOOD)"
      ]
    },
    {
      "cell_type": "code",
      "metadata": {
        "id": "4v8ocaJ00lMJ",
        "outputId": "2d7ff26b-a4ee-4c64-e60a-6be5f25a036c",
        "colab": {
          "base_uri": "https://localhost:8080/",
          "height": 389
        }
      },
      "source": [
        "sns.distplot( y_pred_df[y_pred_df.actual == 1][\"predicted_prob\"], kde=False, color = 'b' )\n",
        "sns.distplot( y_pred_df[y_pred_df.actual == 0][\"predicted_prob\"], kde=False, color = 'g' )"
      ],
      "execution_count": 66,
      "outputs": [
        {
          "output_type": "stream",
          "text": [
            "/usr/local/lib/python3.6/dist-packages/seaborn/distributions.py:2551: FutureWarning: `distplot` is a deprecated function and will be removed in a future version. Please adapt your code to use either `displot` (a figure-level function with similar flexibility) or `histplot` (an axes-level function for histograms).\n",
            "  warnings.warn(msg, FutureWarning)\n",
            "/usr/local/lib/python3.6/dist-packages/seaborn/distributions.py:2551: FutureWarning: `distplot` is a deprecated function and will be removed in a future version. Please adapt your code to use either `displot` (a figure-level function with similar flexibility) or `histplot` (an axes-level function for histograms).\n",
            "  warnings.warn(msg, FutureWarning)\n"
          ],
          "name": "stderr"
        },
        {
          "output_type": "execute_result",
          "data": {
            "text/plain": [
              "<matplotlib.axes._subplots.AxesSubplot at 0x7fa1491856d8>"
            ]
          },
          "metadata": {
            "tags": []
          },
          "execution_count": 66
        },
        {
          "output_type": "display_data",
          "data": {
            "image/png": "[encoded data removed]",
            "text/plain": [
              "<Figure size 432x288 with 1 Axes>"
            ]
          },
          "metadata": {
            "tags": [],
            "needs_background": "light"
          }
        }
      ]
    },
    {
      "cell_type": "code",
      "metadata": {
        "id": "RUfUdw9h0lML",
        "outputId": "4f47b03a-7ca5-4adf-969b-80f15e0c8ea0",
        "colab": {
          "base_uri": "https://localhost:8080/",
          "height": 34
        }
      },
      "source": [
        "auc_score = metrics.roc_auc_score( y_pred_df.actual, y_pred_df.predicted_prob  )\n",
        "round( float( auc_score ), 2 )"
      ],
      "execution_count": 67,
      "outputs": [
        {
          "output_type": "execute_result",
          "data": {
            "text/plain": [
              "0.84"
            ]
          },
          "metadata": {
            "tags": []
          },
          "execution_count": 67
        }
      ]
    },
    {
      "cell_type": "markdown",
      "metadata": {
        "id": "rTPEE3S50lMN"
      },
      "source": [
        "### Plotting ROC Curve "
      ]
    },
    {
      "cell_type": "code",
      "metadata": {
        "id": "S4w6kdcB0lMN"
      },
      "source": [
        "def draw_roc( actual, probs ):\n",
        "    fpr, tpr, thresholds = metrics.roc_curve( actual, probs,\n",
        "                                              drop_intermediate = False )\n",
        "    auc_score = metrics.roc_auc_score( actual, probs )\n",
        "    plt.figure(figsize=(6, 4))\n",
        "    plt.plot( fpr, tpr, label='ROC curve (area = %0.2f)' % auc_score )\n",
        "    plt.plot([0, 1], [0, 1], 'k--')\n",
        "    plt.xlim([0.0, 1.0])\n",
        "    plt.ylim([0.0, 1.05])\n",
        "    plt.xlabel('False Positive Rate or [1 - True Negative Rate]')\n",
        "    plt.ylabel('True Positive Rate')\n",
        "    plt.title('Receiver operating characteristic example')\n",
        "    plt.legend(loc=\"lower right\")\n",
        "    plt.show()\n",
        "\n",
        "    return fpr, tpr, thresholds"
      ],
      "execution_count": 68,
      "outputs": []
    },
    {
      "cell_type": "code",
      "metadata": {
        "id": "wcPSNOLH0lMQ",
        "outputId": "9d17ceec-3363-4d51-a00c-d12821aab559",
        "colab": {
          "base_uri": "https://localhost:8080/",
          "height": 295
        }
      },
      "source": [
        "fpr, tpr, thresholds = draw_roc( y_pred_df.actual, y_pred_df.predicted_prob )"
      ],
      "execution_count": 69,
      "outputs": [
        {
          "output_type": "display_data",
          "data": {
            "image/png": "[encoded data removed]",
            "text/plain": [
              "<Figure size 432x288 with 1 Axes>"
            ]
          },
          "metadata": {
            "tags": [],
            "needs_background": "light"
          }
        }
      ]
    },
    {
      "cell_type": "markdown",
      "metadata": {
        "id": "sDAylWe10lMS"
      },
      "source": [
        "### Finding Optimal Cutt-off Probability"
      ]
    },
    {
      "cell_type": "code",
      "metadata": {
        "id": "Q6MG2Prg0lMT",
        "outputId": "7656d514-168b-439a-9524-ad712692e4fa",
        "colab": {
          "base_uri": "https://localhost:8080/",
          "height": 51
        }
      },
      "source": [
        "thresholds[0:10]"
      ],
      "execution_count": 70,
      "outputs": [
        {
          "output_type": "execute_result",
          "data": {
            "text/plain": [
              "array([1.99996788, 0.99996788, 0.99992222, 0.99918371, 0.99840055,\n",
              "       0.99827602, 0.99757991, 0.99713821, 0.99679948, 0.99573036])"
            ]
          },
          "metadata": {
            "tags": []
          },
          "execution_count": 70
        }
      ]
    },
    {
      "cell_type": "code",
      "metadata": {
        "id": "0uCX2MtI0lMV",
        "outputId": "6f04cc98-b852-475b-9c00-660254490c26",
        "colab": {
          "base_uri": "https://localhost:8080/",
          "height": 34
        }
      },
      "source": [
        "fpr[0:10]"
      ],
      "execution_count": 71,
      "outputs": [
        {
          "output_type": "execute_result",
          "data": {
            "text/plain": [
              "array([0., 0., 0., 0., 0., 0., 0., 0., 0., 0.])"
            ]
          },
          "metadata": {
            "tags": []
          },
          "execution_count": 71
        }
      ]
    },
    {
      "cell_type": "code",
      "metadata": {
        "id": "L0goQzMF0lMX",
        "outputId": "e8c58a6d-9aa1-44be-8002-0d796a24dcf2",
        "colab": {
          "base_uri": "https://localhost:8080/",
          "height": 51
        }
      },
      "source": [
        "tpr[0:10]"
      ],
      "execution_count": 72,
      "outputs": [
        {
          "output_type": "execute_result",
          "data": {
            "text/plain": [
              "array([0.        , 0.00105932, 0.00211864, 0.00317797, 0.00423729,\n",
              "       0.00529661, 0.00635593, 0.00741525, 0.00847458, 0.0095339 ])"
            ]
          },
          "metadata": {
            "tags": []
          },
          "execution_count": 72
        }
      ]
    },
    {
      "cell_type": "markdown",
      "metadata": {
        "id": "bL_Tk0_70lMZ"
      },
      "source": [
        "## Find Optimal Cut-off Using YOUDEN's INDEX\n",
        "#### Youden's J statistic (also called Youden's index) is a single statistic that captures the performance of a dichotomous diagnostic test. Informedness is its generalization to the multiclass case and estimates the probability of an informed decision.\n",
        "![Youden's Index Formula](files/Capture.PNG \"YOUDEN's INDEX\")\n",
        "#### That is when (TPR+TNR -1) is maximum. || max( TPR - (1 - TNR) ) || max( TPR - FPR )"
      ]
    },
    {
      "cell_type": "code",
      "metadata": {
        "id": "UVVHoRRR0lMa",
        "outputId": "2c779236-96c7-4e5d-ce55-942ced6e4d43",
        "colab": {
          "base_uri": "https://localhost:8080/",
          "height": 359
        }
      },
      "source": [
        "tpr_fpr = pd.DataFrame( { 'tpr': tpr, 'fpr': fpr, 'thresholds': thresholds } )\n",
        "tpr_fpr['diff'] = tpr_fpr.tpr - tpr_fpr.fpr\n",
        "tpr_fpr.sort_values( 'diff', ascending = False )[0:10]"
      ],
      "execution_count": 73,
      "outputs": [
        {
          "output_type": "execute_result",
          "data": {
            "text/html": [
              "<div>\n",
              "<style scoped>\n",
              "    .dataframe tbody tr th:only-of-type {\n",
              "        vertical-align: middle;\n",
              "    }\n",
              "\n",
              "    .dataframe tbody tr th {\n",
              "        vertical-align: top;\n",
              "    }\n",
              "\n",
              "    .dataframe thead th {\n",
              "        text-align: right;\n",
              "    }\n",
              "</style>\n",
              "<table border=\"1\" class=\"dataframe\">\n",
              "  <thead>\n",
              "    <tr style=\"text-align: right;\">\n",
              "      <th></th>\n",
              "      <th>tpr</th>\n",
              "      <th>fpr</th>\n",
              "      <th>thresholds</th>\n",
              "      <th>diff</th>\n",
              "    </tr>\n",
              "  </thead>\n",
              "  <tbody>\n",
              "    <tr>\n",
              "      <th>789</th>\n",
              "      <td>0.753178</td>\n",
              "      <td>0.200000</td>\n",
              "      <td>0.735590</td>\n",
              "      <td>0.553178</td>\n",
              "    </tr>\n",
              "    <tr>\n",
              "      <th>788</th>\n",
              "      <td>0.752119</td>\n",
              "      <td>0.200000</td>\n",
              "      <td>0.735694</td>\n",
              "      <td>0.552119</td>\n",
              "    </tr>\n",
              "    <tr>\n",
              "      <th>794</th>\n",
              "      <td>0.756356</td>\n",
              "      <td>0.205128</td>\n",
              "      <td>0.732962</td>\n",
              "      <td>0.551228</td>\n",
              "    </tr>\n",
              "    <tr>\n",
              "      <th>787</th>\n",
              "      <td>0.751059</td>\n",
              "      <td>0.200000</td>\n",
              "      <td>0.738491</td>\n",
              "      <td>0.551059</td>\n",
              "    </tr>\n",
              "    <tr>\n",
              "      <th>790</th>\n",
              "      <td>0.753178</td>\n",
              "      <td>0.202564</td>\n",
              "      <td>0.735456</td>\n",
              "      <td>0.550614</td>\n",
              "    </tr>\n",
              "    <tr>\n",
              "      <th>793</th>\n",
              "      <td>0.755297</td>\n",
              "      <td>0.205128</td>\n",
              "      <td>0.733020</td>\n",
              "      <td>0.550168</td>\n",
              "    </tr>\n",
              "    <tr>\n",
              "      <th>786</th>\n",
              "      <td>0.750000</td>\n",
              "      <td>0.200000</td>\n",
              "      <td>0.738824</td>\n",
              "      <td>0.550000</td>\n",
              "    </tr>\n",
              "    <tr>\n",
              "      <th>792</th>\n",
              "      <td>0.754237</td>\n",
              "      <td>0.205128</td>\n",
              "      <td>0.734343</td>\n",
              "      <td>0.549109</td>\n",
              "    </tr>\n",
              "    <tr>\n",
              "      <th>785</th>\n",
              "      <td>0.748941</td>\n",
              "      <td>0.200000</td>\n",
              "      <td>0.738905</td>\n",
              "      <td>0.548941</td>\n",
              "    </tr>\n",
              "    <tr>\n",
              "      <th>795</th>\n",
              "      <td>0.756356</td>\n",
              "      <td>0.207692</td>\n",
              "      <td>0.732685</td>\n",
              "      <td>0.548664</td>\n",
              "    </tr>\n",
              "  </tbody>\n",
              "</table>\n",
              "</div>"
            ],
            "text/plain": [
              "          tpr       fpr  thresholds      diff\n",
              "789  0.753178  0.200000    0.735590  0.553178\n",
              "788  0.752119  0.200000    0.735694  0.552119\n",
              "794  0.756356  0.205128    0.732962  0.551228\n",
              "787  0.751059  0.200000    0.738491  0.551059\n",
              "790  0.753178  0.202564    0.735456  0.550614\n",
              "793  0.755297  0.205128    0.733020  0.550168\n",
              "786  0.750000  0.200000    0.738824  0.550000\n",
              "792  0.754237  0.205128    0.734343  0.549109\n",
              "785  0.748941  0.200000    0.738905  0.548941\n",
              "795  0.756356  0.207692    0.732685  0.548664"
            ]
          },
          "metadata": {
            "tags": []
          },
          "execution_count": 73
        }
      ]
    },
    {
      "cell_type": "code",
      "metadata": {
        "id": "ukYIABLj0lMd"
      },
      "source": [
        "y_pred_df['predicted_new'] = y_pred_df.predicted_prob.map( lambda x: 1 if x > 0.29 else 0)"
      ],
      "execution_count": 74,
      "outputs": []
    },
    {
      "cell_type": "code",
      "metadata": {
        "id": "OLVRh_YG0lMf",
        "outputId": "872aaaa4-332b-4dd9-99c3-c04a6f40bdcc",
        "colab": {
          "base_uri": "https://localhost:8080/",
          "height": 279
        }
      },
      "source": [
        "draw_cm( y_pred_df.actual, y_pred_df.predicted_new )"
      ],
      "execution_count": 75,
      "outputs": [
        {
          "output_type": "display_data",
          "data": {
            "image/png": "[encoded data removed]",
            "text/plain": [
              "<Figure size 432x288 with 2 Axes>"
            ]
          },
          "metadata": {
            "tags": [],
            "needs_background": "light"
          }
        }
      ]
    },
    {
      "cell_type": "markdown",
      "metadata": {
        "id": "M9m_bBCt0lMh"
      },
      "source": [
        "## Finding Optimal Cut-off Probability using Cost\n"
      ]
    },
    {
      "cell_type": "code",
      "metadata": {
        "id": "y5ec959W0lMh"
      },
      "source": [
        "cm = metrics.confusion_matrix( y_pred_df.actual, y_pred_df.predicted_new, [1,0] )"
      ],
      "execution_count": 76,
      "outputs": []
    },
    {
      "cell_type": "code",
      "metadata": {
        "id": "KU_pQv7U0lMj"
      },
      "source": [
        "cm_mat = np.array( cm )"
      ],
      "execution_count": 77,
      "outputs": []
    },
    {
      "cell_type": "code",
      "metadata": {
        "id": "gHlzl5ID0lMm",
        "outputId": "7472b4ec-ee6f-46c6-9444-5821b34687fb",
        "colab": {
          "base_uri": "https://localhost:8080/",
          "height": 34
        }
      },
      "source": [
        "cm_mat[1, 0]"
      ],
      "execution_count": 78,
      "outputs": [
        {
          "output_type": "execute_result",
          "data": {
            "text/plain": [
              "315"
            ]
          },
          "metadata": {
            "tags": []
          },
          "execution_count": 78
        }
      ]
    },
    {
      "cell_type": "code",
      "metadata": {
        "id": "LhV2BP5x0lMn",
        "outputId": "3c3ade0d-cf7b-49cc-ef41-21a24f3dd783",
        "colab": {
          "base_uri": "https://localhost:8080/",
          "height": 34
        }
      },
      "source": [
        "cm_mat[0, 1]"
      ],
      "execution_count": 79,
      "outputs": [
        {
          "output_type": "execute_result",
          "data": {
            "text/plain": [
              "14"
            ]
          },
          "metadata": {
            "tags": []
          },
          "execution_count": 79
        }
      ]
    },
    {
      "cell_type": "code",
      "metadata": {
        "id": "Xg6hSUOy0lMs"
      },
      "source": [
        "def get_total_cost( actual, predicted ):\n",
        "    cm = metrics.confusion_matrix( actual, predicted, [1,0] )\n",
        "    cm_mat = np.array( cm )\n",
        "    return cm_mat[0,1] * 2 + cm_mat[0,1] * 1"
      ],
      "execution_count": 80,
      "outputs": []
    },
    {
      "cell_type": "code",
      "metadata": {
        "id": "Qb5dY9xv0lMu",
        "outputId": "70eec4e4-4b51-4f0b-a6b3-7405e87d26a7",
        "colab": {
          "base_uri": "https://localhost:8080/",
          "height": 34
        }
      },
      "source": [
        "get_total_cost( y_pred_df.actual, y_pred_df.predicted_new )"
      ],
      "execution_count": 81,
      "outputs": [
        {
          "output_type": "execute_result",
          "data": {
            "text/plain": [
              "42"
            ]
          },
          "metadata": {
            "tags": []
          },
          "execution_count": 81
        }
      ]
    },
    {
      "cell_type": "code",
      "metadata": {
        "id": "ABhs_13t0lMw"
      },
      "source": [
        "cost_df = pd.DataFrame( columns = ['prob', 'cost'])"
      ],
      "execution_count": 82,
      "outputs": []
    },
    {
      "cell_type": "code",
      "metadata": {
        "id": "i9smKAkH0lMz"
      },
      "source": [
        "idx = 0\n",
        "for each_prob in range( 20, 50):\n",
        "    cost = get_total_cost( y_pred_df.actual,\n",
        "                          y_pred_df.predicted_prob.map(\n",
        "            lambda x: 1 if x > (each_prob/100)  else 0) )\n",
        "    cost_df.loc[idx] = [(each_prob/100), cost]\n",
        "    idx += 1"
      ],
      "execution_count": 83,
      "outputs": []
    },
    {
      "cell_type": "code",
      "metadata": {
        "id": "RQaJZIzT0lM2",
        "outputId": "b192d515-13de-4c49-f0dc-b8058f539c55",
        "colab": {
          "base_uri": "https://localhost:8080/",
          "height": 204
        }
      },
      "source": [
        "cost_df.sort_values( 'cost', ascending = True )[0:5]"
      ],
      "execution_count": 84,
      "outputs": [
        {
          "output_type": "execute_result",
          "data": {
            "text/html": [
              "<div>\n",
              "<style scoped>\n",
              "    .dataframe tbody tr th:only-of-type {\n",
              "        vertical-align: middle;\n",
              "    }\n",
              "\n",
              "    .dataframe tbody tr th {\n",
              "        vertical-align: top;\n",
              "    }\n",
              "\n",
              "    .dataframe thead th {\n",
              "        text-align: right;\n",
              "    }\n",
              "</style>\n",
              "<table border=\"1\" class=\"dataframe\">\n",
              "  <thead>\n",
              "    <tr style=\"text-align: right;\">\n",
              "      <th></th>\n",
              "      <th>prob</th>\n",
              "      <th>cost</th>\n",
              "    </tr>\n",
              "  </thead>\n",
              "  <tbody>\n",
              "    <tr>\n",
              "      <th>0</th>\n",
              "      <td>0.20</td>\n",
              "      <td>18.0</td>\n",
              "    </tr>\n",
              "    <tr>\n",
              "      <th>1</th>\n",
              "      <td>0.21</td>\n",
              "      <td>21.0</td>\n",
              "    </tr>\n",
              "    <tr>\n",
              "      <th>2</th>\n",
              "      <td>0.22</td>\n",
              "      <td>33.0</td>\n",
              "    </tr>\n",
              "    <tr>\n",
              "      <th>3</th>\n",
              "      <td>0.23</td>\n",
              "      <td>33.0</td>\n",
              "    </tr>\n",
              "    <tr>\n",
              "      <th>4</th>\n",
              "      <td>0.24</td>\n",
              "      <td>36.0</td>\n",
              "    </tr>\n",
              "  </tbody>\n",
              "</table>\n",
              "</div>"
            ],
            "text/plain": [
              "   prob  cost\n",
              "0  0.20  18.0\n",
              "1  0.21  21.0\n",
              "2  0.22  33.0\n",
              "3  0.23  33.0\n",
              "4  0.24  36.0"
            ]
          },
          "metadata": {
            "tags": []
          },
          "execution_count": 84
        }
      ]
    },
    {
      "cell_type": "code",
      "metadata": {
        "id": "wK6ihIIm0lM3"
      },
      "source": [
        "y_pred_df['predicted_final'] = y_pred_df.predicted_prob.map( lambda x: 1 if x > 0.20 else 0)"
      ],
      "execution_count": 85,
      "outputs": []
    },
    {
      "cell_type": "code",
      "metadata": {
        "id": "cZ7cdbDy0lM5",
        "outputId": "53703408-8795-4799-cafc-e448cbf58225",
        "colab": {
          "base_uri": "https://localhost:8080/",
          "height": 279
        }
      },
      "source": [
        "draw_cm( y_pred_df.actual, y_pred_df.predicted_final )"
      ],
      "execution_count": 86,
      "outputs": [
        {
          "output_type": "display_data",
          "data": {
            "image/png": "[encoded data removed]",
            "text/plain": [
              "<Figure size 432x288 with 2 Axes>"
            ]
          },
          "metadata": {
            "tags": [],
            "needs_background": "light"
          }
        }
      ]
    },
    {
      "cell_type": "markdown",
      "metadata": {
        "id": "w1gqLxbJ0lM8"
      },
      "source": [
        "### The Accuracy of the Model got Reduced but the Quadrants that Contribute to the Cost are Minimised"
      ]
    },
    {
      "cell_type": "code",
      "metadata": {
        "id": "Z8KNFY_C0lM8",
        "outputId": "489fd39f-d50e-437a-ab12-f45c04ef01ee",
        "colab": {
          "base_uri": "https://localhost:8080/",
          "height": 102
        }
      },
      "source": [
        "print( 'Total Accuracy : ',np.round( metrics.accuracy_score( y_test, y_pred_df.predicted_final ), 2 ) )\n",
        "print( 'Precision : ',np.round( metrics.precision_score( y_test, y_pred_df.predicted_final ), 2 ) )\n",
        "print( 'Recall : ',np.round( metrics.recall_score( y_test, y_pred_df.predicted_final ), 2 ) )\n",
        "\n",
        "cm1 = metrics.confusion_matrix( y_pred_df.actual, y_pred_df.predicted_final, [1,0] )\n",
        "\n",
        "sensitivity = cm1[0,0]/(cm1[0,0]+cm1[0,1])\n",
        "print('Sensitivity : ', round( sensitivity, 2) )\n",
        "\n",
        "specificity = cm1[1,1]/(cm1[1,0]+cm1[1,1])\n",
        "print('Specificity : ', round( specificity, 2 ) )"
      ],
      "execution_count": 87,
      "outputs": [
        {
          "output_type": "stream",
          "text": [
            "Total Accuracy :  0.73\n",
            "Precision :  0.73\n",
            "Recall :  0.99\n",
            "Sensitivity :  0.99\n",
            "Specificity :  0.1\n"
          ],
          "name": "stdout"
        }
      ]
    },
    {
      "cell_type": "markdown",
      "metadata": {
        "id": "xNagicwF0lM_"
      },
      "source": [
        "## (4) Decision Tree Model "
      ]
    },
    {
      "cell_type": "code",
      "metadata": {
        "id": "4-7zIXEc0lM_"
      },
      "source": [
        ""
      ],
      "execution_count": null,
      "outputs": []
    }
  ]
}